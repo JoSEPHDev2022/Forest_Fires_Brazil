{
 "cells": [
  {
   "attachments": {},
   "cell_type": "markdown",
   "metadata": {},
   "source": [
    "# <font color='gold'> ***Análise Exploratória: Incêndios Florestais Brasileiros*** </font> 🔥🌳"
   ]
  },
  {
   "attachments": {},
   "cell_type": "markdown",
   "metadata": {},
   "source": [
    "# <font color='gold'> ***Objetivos da Análise*** 🎯 </font>\n",
    "---"
   ]
  },
  {
   "attachments": {},
   "cell_type": "markdown",
   "metadata": {},
   "source": [
    "Nesse projeto, realizaremos uma Analise Exploratória de Dados (EDA) em um [banco de dados](https://www.kaggle.com/datasets/gustavomodelli/forest-fires-in-brazil) que contém uma série histórica de incêndios florestais no Brasil em diferentes estados. Mais especificamente, desse projeto iremos:\n",
    "\n",
    "- 🎲 Realizar uma análise descritiva das características principais dos dados, como suas dimensões, seus registros e tipos de dados, valores nulos e outliers, etc;\n",
    "\n",
    "- 🧹 Limpar e tratar os dados;\n",
    "\n",
    "- 📊 Utilizar de visualizações gráficas para geração de insights e análises mais aprofundadas acerca dos incêndios e suas características.\n",
    "\n",
    "Como questões centrais que abordaremos nessa pesquisa, temos:\n",
    "\n",
    ">***1. Quais os estados e regiões mais afetados por incêndios durante toda a série histórica?***\n",
    ">\n",
    ">***2. Durante qual período de qual governante brasileiro tivemos mais incêndios no Brasil? e qual o menor valor?***\n",
    "\n",
    "Entre outras questões que serão abordadas durante o projeto."
   ]
  },
  {
   "attachments": {},
   "cell_type": "markdown",
   "metadata": {},
   "source": [
    "# <font color='gold'>***Importando Pacotes e Conhecendo Dados*** 📦🎲</font>\n",
    "---"
   ]
  },
  {
   "cell_type": "code",
   "execution_count": 1136,
   "metadata": {},
   "outputs": [
    {
     "name": "stdout",
     "output_type": "stream",
     "text": [
      "Pacotes Prontos! Versões Utilizadas:\n",
      "\n",
      "Pandas      --> 1.4.2\n",
      "Numpy       --> 1.21.5\n",
      "Matplotlib  --> 3.6.2\n",
      "Seaborn     --> 0.11.2\n"
     ]
    }
   ],
   "source": [
    "# Importando bibliotecas necessárias para a análise:\n",
    "import pandas as pd\n",
    "import numpy as np\n",
    "import matplotlib\n",
    "import matplotlib.pyplot as plt\n",
    "from matplotlib.font_manager import FontProperties\n",
    "import seaborn as sns\n",
    "import warnings\n",
    "\n",
    "# Definindo parâmetros:\n",
    "\n",
    "# Setando estilo escuro do grid para os gráficos.\n",
    "sns.set_theme(context='notebook', style='darkgrid')\n",
    "\n",
    "# Utilizando a biblioteca warnings para retirar avisos da execução do código\n",
    "# para uma visualização mais limpa.\n",
    "warnings.filterwarnings('ignore')\n",
    "\n",
    "# Mostrando versões utilizadas dos pacotes:\n",
    "print('Pacotes Prontos! Versões Utilizadas:\\n')\n",
    "print(f'Pandas      --> {pd.__version__}')\n",
    "print(f'Numpy       --> {np.__version__}')\n",
    "print(f'Matplotlib  --> {matplotlib.__version__}')\n",
    "print(f'Seaborn     --> {sns.__version__}')"
   ]
  },
  {
   "cell_type": "code",
   "execution_count": 1137,
   "metadata": {},
   "outputs": [],
   "source": [
    "# Criando o Dataframe:\n",
    "data = pd.read_csv('data/amazon.csv', sep=',', encoding='latin-1')"
   ]
  },
  {
   "attachments": {},
   "cell_type": "markdown",
   "metadata": {},
   "source": [
    "<font color='gold'> ⚠️**Nota** </font>\n",
    "\n",
    ">A seleção do encoding como [latin-1](https://www.ic.unicamp.br/~stolfi/EXPORT/www/ISO-8859-1-Encoding.html) foi utilizada pois existem caracteres especiais nos dados, assim, a definição do enconding específico foi necessária (em vez do padrão UTF-8)."
   ]
  },
  {
   "cell_type": "code",
   "execution_count": 1138,
   "metadata": {},
   "outputs": [
    {
     "data": {
      "text/html": [
       "<div>\n",
       "<style scoped>\n",
       "    .dataframe tbody tr th:only-of-type {\n",
       "        vertical-align: middle;\n",
       "    }\n",
       "\n",
       "    .dataframe tbody tr th {\n",
       "        vertical-align: top;\n",
       "    }\n",
       "\n",
       "    .dataframe thead th {\n",
       "        text-align: right;\n",
       "    }\n",
       "</style>\n",
       "<table border=\"1\" class=\"dataframe\">\n",
       "  <thead>\n",
       "    <tr style=\"text-align: right;\">\n",
       "      <th></th>\n",
       "      <th>year</th>\n",
       "      <th>state</th>\n",
       "      <th>month</th>\n",
       "      <th>number</th>\n",
       "      <th>date</th>\n",
       "    </tr>\n",
       "  </thead>\n",
       "  <tbody>\n",
       "    <tr>\n",
       "      <th>0</th>\n",
       "      <td>1998</td>\n",
       "      <td>Acre</td>\n",
       "      <td>Janeiro</td>\n",
       "      <td>0.0</td>\n",
       "      <td>1998-01-01</td>\n",
       "    </tr>\n",
       "    <tr>\n",
       "      <th>1</th>\n",
       "      <td>1999</td>\n",
       "      <td>Acre</td>\n",
       "      <td>Janeiro</td>\n",
       "      <td>0.0</td>\n",
       "      <td>1999-01-01</td>\n",
       "    </tr>\n",
       "    <tr>\n",
       "      <th>2</th>\n",
       "      <td>2000</td>\n",
       "      <td>Acre</td>\n",
       "      <td>Janeiro</td>\n",
       "      <td>0.0</td>\n",
       "      <td>2000-01-01</td>\n",
       "    </tr>\n",
       "    <tr>\n",
       "      <th>3</th>\n",
       "      <td>2001</td>\n",
       "      <td>Acre</td>\n",
       "      <td>Janeiro</td>\n",
       "      <td>0.0</td>\n",
       "      <td>2001-01-01</td>\n",
       "    </tr>\n",
       "    <tr>\n",
       "      <th>4</th>\n",
       "      <td>2002</td>\n",
       "      <td>Acre</td>\n",
       "      <td>Janeiro</td>\n",
       "      <td>0.0</td>\n",
       "      <td>2002-01-01</td>\n",
       "    </tr>\n",
       "  </tbody>\n",
       "</table>\n",
       "</div>"
      ],
      "text/plain": [
       "   year state    month  number        date\n",
       "0  1998  Acre  Janeiro     0.0  1998-01-01\n",
       "1  1999  Acre  Janeiro     0.0  1999-01-01\n",
       "2  2000  Acre  Janeiro     0.0  2000-01-01\n",
       "3  2001  Acre  Janeiro     0.0  2001-01-01\n",
       "4  2002  Acre  Janeiro     0.0  2002-01-01"
      ]
     },
     "execution_count": 1138,
     "metadata": {},
     "output_type": "execute_result"
    }
   ],
   "source": [
    "# Visualizando primeiros 5 registros dos dados:\n",
    "data.head()"
   ]
  },
  {
   "cell_type": "code",
   "execution_count": 1139,
   "metadata": {},
   "outputs": [
    {
     "data": {
      "text/html": [
       "<div>\n",
       "<style scoped>\n",
       "    .dataframe tbody tr th:only-of-type {\n",
       "        vertical-align: middle;\n",
       "    }\n",
       "\n",
       "    .dataframe tbody tr th {\n",
       "        vertical-align: top;\n",
       "    }\n",
       "\n",
       "    .dataframe thead th {\n",
       "        text-align: right;\n",
       "    }\n",
       "</style>\n",
       "<table border=\"1\" class=\"dataframe\">\n",
       "  <thead>\n",
       "    <tr style=\"text-align: right;\">\n",
       "      <th></th>\n",
       "      <th>year</th>\n",
       "      <th>state</th>\n",
       "      <th>month</th>\n",
       "      <th>number</th>\n",
       "      <th>date</th>\n",
       "    </tr>\n",
       "  </thead>\n",
       "  <tbody>\n",
       "    <tr>\n",
       "      <th>2399</th>\n",
       "      <td>2006</td>\n",
       "      <td>Mato Grosso</td>\n",
       "      <td>Janeiro</td>\n",
       "      <td>947.000</td>\n",
       "      <td>2006-01-01</td>\n",
       "    </tr>\n",
       "    <tr>\n",
       "      <th>5401</th>\n",
       "      <td>2000</td>\n",
       "      <td>Roraima</td>\n",
       "      <td>Agosto</td>\n",
       "      <td>9.000</td>\n",
       "      <td>2000-01-01</td>\n",
       "    </tr>\n",
       "    <tr>\n",
       "      <th>3903</th>\n",
       "      <td>2016</td>\n",
       "      <td>Pernambuco</td>\n",
       "      <td>Abril</td>\n",
       "      <td>8.000</td>\n",
       "      <td>2016-01-01</td>\n",
       "    </tr>\n",
       "    <tr>\n",
       "      <th>3985</th>\n",
       "      <td>1998</td>\n",
       "      <td>Pernambuco</td>\n",
       "      <td>Setembro</td>\n",
       "      <td>177.000</td>\n",
       "      <td>1998-01-01</td>\n",
       "    </tr>\n",
       "    <tr>\n",
       "      <th>2548</th>\n",
       "      <td>2015</td>\n",
       "      <td>Mato Grosso</td>\n",
       "      <td>Agosto</td>\n",
       "      <td>5.112</td>\n",
       "      <td>2015-01-01</td>\n",
       "    </tr>\n",
       "  </tbody>\n",
       "</table>\n",
       "</div>"
      ],
      "text/plain": [
       "      year        state     month   number        date\n",
       "2399  2006  Mato Grosso   Janeiro  947.000  2006-01-01\n",
       "5401  2000      Roraima    Agosto    9.000  2000-01-01\n",
       "3903  2016   Pernambuco     Abril    8.000  2016-01-01\n",
       "3985  1998   Pernambuco  Setembro  177.000  1998-01-01\n",
       "2548  2015  Mato Grosso    Agosto    5.112  2015-01-01"
      ]
     },
     "execution_count": 1139,
     "metadata": {},
     "output_type": "execute_result"
    }
   ],
   "source": [
    "# Visualizando uma sample aleatória dos dados:\n",
    "data.sample(5)"
   ]
  },
  {
   "attachments": {},
   "cell_type": "markdown",
   "metadata": {},
   "source": [
    "Para termos uma compreensão clara de nossos dados, iremos criar um dicionário de variáveis contendo as colunas do Dataset e a descrição de seu conteúdo:"
   ]
  },
  {
   "attachments": {},
   "cell_type": "markdown",
   "metadata": {},
   "source": [
    "| Variável   | Conteúdo                                 |\n",
    "|------------|------------------------------------------|\n",
    "| `year`     | Ano em que o incêndio florestal ocorreu  |\n",
    "| `state`    | Estado brasileiro                        |\n",
    "| `month`    | Mês em que o incêndio ocorreu            |\n",
    "| `number`   | Quantidade de incêndios reportados       |\n",
    "| `date`     | Data em que o incêndio foi reportado     |"
   ]
  },
  {
   "attachments": {},
   "cell_type": "markdown",
   "metadata": {},
   "source": [
    "Com alguns dos registros aparentes, uma característica notável é a aparente duplicata nas colunas. \n",
    "\n",
    "- A coluna `year`, que representa o ano em que o incêndio ocorreu e a coluna `date` que informa a data em que o incêndio foi reportado, aparentam possuir os mesmos dados:\n",
    "\n",
    "    - Quando a coluna year apresenta o ano de 1998, a coluna date informa a data 1998-01-01, e esse padrão da coluna date apenas repetir a coluna year com a adição das datas \"1 de Janeiro\" se mostra presente em todo dataset como mostrado pelo uso do comando `data.sample(5)`.\n",
    "\n",
    "Dessa forma, iremos arranjar essas informações de uma maneira diferente:\n",
    "\n",
    "- Substituir os valores da coluna `month` por nomes em Inglês;\n",
    "\n",
    "- Dropar a coluna `date` pois utilizaremos a coluna `year` e `month` separadamente;\n",
    "\n",
    "- Checar o Data type da coluna `year` e constatar se precisa ser alterado."
   ]
  },
  {
   "attachments": {},
   "cell_type": "markdown",
   "metadata": {},
   "source": [
    "Como outros ajustes, também iremos renomear as colunas para que tenham a primeira letra maiúscula. Também iremos inserir algumas novas colunas para fortalecer as análises, tendo essas etapas ocorrendo na etapa de limpeza e tratamento dos dados."
   ]
  },
  {
   "attachments": {},
   "cell_type": "markdown",
   "metadata": {},
   "source": [
    "Para uma visão mais completa das dimensões dos dados que estamos trabalhando, vamos checar o shape do Dataset:"
   ]
  },
  {
   "cell_type": "code",
   "execution_count": 1140,
   "metadata": {},
   "outputs": [
    {
     "data": {
      "text/plain": [
       "(6454, 5)"
      ]
     },
     "execution_count": 1140,
     "metadata": {},
     "output_type": "execute_result"
    }
   ],
   "source": [
    "# Checando dimensões dos dados:\n",
    "data.shape"
   ]
  },
  {
   "attachments": {},
   "cell_type": "markdown",
   "metadata": {},
   "source": [
    "Temos ***6454 registros*** em ***5 variáveis***."
   ]
  },
  {
   "attachments": {},
   "cell_type": "markdown",
   "metadata": {},
   "source": [
    "Também se faz necessária a checagem do tipo de dados dessas variáveis:"
   ]
  },
  {
   "cell_type": "code",
   "execution_count": 1141,
   "metadata": {},
   "outputs": [
    {
     "name": "stdout",
     "output_type": "stream",
     "text": [
      "<class 'pandas.core.frame.DataFrame'>\n",
      "RangeIndex: 6454 entries, 0 to 6453\n",
      "Data columns (total 5 columns):\n",
      " #   Column  Non-Null Count  Dtype  \n",
      "---  ------  --------------  -----  \n",
      " 0   year    6454 non-null   int64  \n",
      " 1   state   6454 non-null   object \n",
      " 2   month   6454 non-null   object \n",
      " 3   number  6454 non-null   float64\n",
      " 4   date    6454 non-null   object \n",
      "dtypes: float64(1), int64(1), object(3)\n",
      "memory usage: 252.2+ KB\n"
     ]
    }
   ],
   "source": [
    "data.info()"
   ]
  },
  {
   "attachments": {},
   "cell_type": "markdown",
   "metadata": {},
   "source": [
    "Com essa visualização, temos algumas informações importantes sobre os dados:\n",
    "\n",
    "- O dataset não possui null values;\n",
    "\n",
    "- A coluna `year` está em int64, sendo que o range de valores é de 1998 até 2017, o que significa que podemos alterar esse data type para int16, assim consumindo menos memória na execução dos dados."
   ]
  },
  {
   "attachments": {},
   "cell_type": "markdown",
   "metadata": {},
   "source": [
    "Para coletarmos mais informações sobre possíveis outliers e também sobre a distribuição dos dados, utilizaremos o método `.describe()`:"
   ]
  },
  {
   "cell_type": "code",
   "execution_count": 1142,
   "metadata": {},
   "outputs": [
    {
     "data": {
      "text/html": [
       "<div>\n",
       "<style scoped>\n",
       "    .dataframe tbody tr th:only-of-type {\n",
       "        vertical-align: middle;\n",
       "    }\n",
       "\n",
       "    .dataframe tbody tr th {\n",
       "        vertical-align: top;\n",
       "    }\n",
       "\n",
       "    .dataframe thead th {\n",
       "        text-align: right;\n",
       "    }\n",
       "</style>\n",
       "<table border=\"1\" class=\"dataframe\">\n",
       "  <thead>\n",
       "    <tr style=\"text-align: right;\">\n",
       "      <th></th>\n",
       "      <th>count</th>\n",
       "      <th>mean</th>\n",
       "      <th>std</th>\n",
       "      <th>min</th>\n",
       "      <th>25%</th>\n",
       "      <th>50%</th>\n",
       "      <th>75%</th>\n",
       "      <th>max</th>\n",
       "    </tr>\n",
       "  </thead>\n",
       "  <tbody>\n",
       "    <tr>\n",
       "      <th>year</th>\n",
       "      <td>6454.0</td>\n",
       "      <td>2007.461729</td>\n",
       "      <td>5.746654</td>\n",
       "      <td>1998.0</td>\n",
       "      <td>2002.0</td>\n",
       "      <td>2007.0</td>\n",
       "      <td>2012.0</td>\n",
       "      <td>2017.0</td>\n",
       "    </tr>\n",
       "    <tr>\n",
       "      <th>number</th>\n",
       "      <td>6454.0</td>\n",
       "      <td>108.293163</td>\n",
       "      <td>190.812242</td>\n",
       "      <td>0.0</td>\n",
       "      <td>3.0</td>\n",
       "      <td>24.0</td>\n",
       "      <td>113.0</td>\n",
       "      <td>998.0</td>\n",
       "    </tr>\n",
       "  </tbody>\n",
       "</table>\n",
       "</div>"
      ],
      "text/plain": [
       "         count         mean         std     min     25%     50%     75%  \\\n",
       "year    6454.0  2007.461729    5.746654  1998.0  2002.0  2007.0  2012.0   \n",
       "number  6454.0   108.293163  190.812242     0.0     3.0    24.0   113.0   \n",
       "\n",
       "           max  \n",
       "year    2017.0  \n",
       "number   998.0  "
      ]
     },
     "execution_count": 1142,
     "metadata": {},
     "output_type": "execute_result"
    }
   ],
   "source": [
    "# Descrição estatística dos dados (colunas numéricas):\n",
    "data.describe().T"
   ]
  },
  {
   "attachments": {},
   "cell_type": "markdown",
   "metadata": {},
   "source": [
    "Com a descrição estatística das colunas numéricas do dataset, podemos notar:\n",
    "\n",
    "- Até 75% dos dados (terceiro quantil) relacionados ao número de incêndios relatados vão até 113, já o valor máximo é de 998, um outlier claro.\n",
    "\n",
    "Nesse caso, outliers são esperados como \"normais\", pois se tratando de número de focos de incêndios florestais num país continental como o Brasil, não existe uma regra ou uma lógica exata que dita o intervalo desses números, tendo muitas variávies que os influenciam (ação humana mais intensa ou menos intensa numa determinada região num determinado período de tempo, uma estação do ano muito mais fria ou quente do que o normal, etc).\n",
    "\n",
    "Sendo assim, os registros de número de focos de incêndio não serão alterados, pois buscamos ter uma visão completa desses dados."
   ]
  },
  {
   "attachments": {},
   "cell_type": "markdown",
   "metadata": {},
   "source": [
    "Também iremos coletar informações sobre as colunas categóricas do dataset:"
   ]
  },
  {
   "cell_type": "code",
   "execution_count": 1143,
   "metadata": {},
   "outputs": [
    {
     "data": {
      "text/html": [
       "<div>\n",
       "<style scoped>\n",
       "    .dataframe tbody tr th:only-of-type {\n",
       "        vertical-align: middle;\n",
       "    }\n",
       "\n",
       "    .dataframe tbody tr th {\n",
       "        vertical-align: top;\n",
       "    }\n",
       "\n",
       "    .dataframe thead th {\n",
       "        text-align: right;\n",
       "    }\n",
       "</style>\n",
       "<table border=\"1\" class=\"dataframe\">\n",
       "  <thead>\n",
       "    <tr style=\"text-align: right;\">\n",
       "      <th></th>\n",
       "      <th>count</th>\n",
       "      <th>unique</th>\n",
       "      <th>top</th>\n",
       "      <th>freq</th>\n",
       "    </tr>\n",
       "  </thead>\n",
       "  <tbody>\n",
       "    <tr>\n",
       "      <th>state</th>\n",
       "      <td>6454</td>\n",
       "      <td>23</td>\n",
       "      <td>Rio</td>\n",
       "      <td>717</td>\n",
       "    </tr>\n",
       "    <tr>\n",
       "      <th>month</th>\n",
       "      <td>6454</td>\n",
       "      <td>12</td>\n",
       "      <td>Janeiro</td>\n",
       "      <td>541</td>\n",
       "    </tr>\n",
       "    <tr>\n",
       "      <th>date</th>\n",
       "      <td>6454</td>\n",
       "      <td>20</td>\n",
       "      <td>1998-01-01</td>\n",
       "      <td>324</td>\n",
       "    </tr>\n",
       "  </tbody>\n",
       "</table>\n",
       "</div>"
      ],
      "text/plain": [
       "      count unique         top freq\n",
       "state  6454     23         Rio  717\n",
       "month  6454     12     Janeiro  541\n",
       "date   6454     20  1998-01-01  324"
      ]
     },
     "execution_count": 1143,
     "metadata": {},
     "output_type": "execute_result"
    }
   ],
   "source": [
    "# Descrição estatística dos dados (colunas categóricas):\n",
    "data.describe(exclude='number').T"
   ]
  },
  {
   "attachments": {},
   "cell_type": "markdown",
   "metadata": {},
   "source": [
    "Com isso, temos a informação de que o estado que mais vezes consta no dataset é o Rio de Janeiro, com 717 registros diferentes de focos de incêndio.\n",
    "\n",
    "Também temos a informação de que o mês mais comum nos dados é Janeiro.\n",
    "\n",
    "É importante termos em mente que isso não necessariamente significa que o estado do Rio de Janeiro e o mês de Janeiro são os que mais possuem focos de incêndio no geral. Apenas estamos indicando que essas duas informações são as mais presentes nos dados, sem considerarmos a dimensão e quantidade dos focos de incêndio atribuidos a eles."
   ]
  },
  {
   "attachments": {},
   "cell_type": "markdown",
   "metadata": {},
   "source": [
    "# <font color='gold'> ***Limpeza e Tratamento*** 🗃️ </font>\n",
    "---"
   ]
  },
  {
   "attachments": {},
   "cell_type": "markdown",
   "metadata": {},
   "source": [
    "Nessa etapa, iremos realizar todas as modificações e tratamentos que descrevemos anteriormente. Começando pelo refatoramento das colunas `year`, `date` e `month`. Para isso, iremos primeiramente definir uma função para iterar sobre nossos dados e passar os meses de Português para Inglês:"
   ]
  },
  {
   "attachments": {},
   "cell_type": "markdown",
   "metadata": {},
   "source": [
    "## **Reformulando formato de data**:"
   ]
  },
  {
   "cell_type": "code",
   "execution_count": 1144,
   "metadata": {},
   "outputs": [],
   "source": [
    "def month_translator(df: pd.DataFrame) -> pd.DataFrame:\n",
    "    '''Essa função pega um Dataframe fornecido pelo usuário e altera\n",
    "    os valores dos meses de Português para Inglês.\n",
    "\n",
    "    Utilizando uma função lambda, checamos cada string dos meses, onde cada\n",
    "    uma delas recebe o nome apropriado.\n",
    "    '''\n",
    "    df['month'] = df['month'].apply(\n",
    "        lambda month_id:\n",
    "        'Jan' if month_id == 'Janeiro' else\n",
    "        'Feb' if month_id == 'Fevereiro' else\n",
    "        'Mar' if month_id == 'Março' else\n",
    "        'Apr' if month_id == 'Abril' else\n",
    "        'May' if month_id == 'Maio' else\n",
    "        'Jun' if month_id == 'Junho' else\n",
    "        'Jul' if month_id == 'Julho' else\n",
    "        'Aug' if month_id == 'Agosto' else\n",
    "        'Sep' if month_id == 'Setembro' else\n",
    "        'Oct' if month_id == 'Outubro' else\n",
    "        'Nov' if month_id == 'Novembro' else\n",
    "        'Dec' if month_id == 'Dezembro' else\n",
    "        month_id\n",
    "    )   \n"
   ]
  },
  {
   "attachments": {},
   "cell_type": "markdown",
   "metadata": {},
   "source": [
    "Antes de iniciarmos as modificações nos dados, é uma boa prática criar uma cópia dos mesmos, assim se preservam os dados no formato original e se cria outra versão para a limpeza e manipulação:"
   ]
  },
  {
   "cell_type": "code",
   "execution_count": 1145,
   "metadata": {},
   "outputs": [],
   "source": [
    "# Criando cópia dos dados para limpeza:\n",
    "data_clean = data.copy()"
   ]
  },
  {
   "cell_type": "code",
   "execution_count": 1146,
   "metadata": {},
   "outputs": [
    {
     "data": {
      "text/html": [
       "<div>\n",
       "<style scoped>\n",
       "    .dataframe tbody tr th:only-of-type {\n",
       "        vertical-align: middle;\n",
       "    }\n",
       "\n",
       "    .dataframe tbody tr th {\n",
       "        vertical-align: top;\n",
       "    }\n",
       "\n",
       "    .dataframe thead th {\n",
       "        text-align: right;\n",
       "    }\n",
       "</style>\n",
       "<table border=\"1\" class=\"dataframe\">\n",
       "  <thead>\n",
       "    <tr style=\"text-align: right;\">\n",
       "      <th></th>\n",
       "      <th>year</th>\n",
       "      <th>state</th>\n",
       "      <th>month</th>\n",
       "      <th>number</th>\n",
       "      <th>date</th>\n",
       "    </tr>\n",
       "  </thead>\n",
       "  <tbody>\n",
       "    <tr>\n",
       "      <th>2416</th>\n",
       "      <td>2003</td>\n",
       "      <td>Mato Grosso</td>\n",
       "      <td>Feb</td>\n",
       "      <td>592.000</td>\n",
       "      <td>2003-01-01</td>\n",
       "    </tr>\n",
       "    <tr>\n",
       "      <th>0</th>\n",
       "      <td>1998</td>\n",
       "      <td>Acre</td>\n",
       "      <td>Jan</td>\n",
       "      <td>0.000</td>\n",
       "      <td>1998-01-01</td>\n",
       "    </tr>\n",
       "    <tr>\n",
       "      <th>2212</th>\n",
       "      <td>1998</td>\n",
       "      <td>Maranhao</td>\n",
       "      <td>Apr</td>\n",
       "      <td>0.000</td>\n",
       "      <td>1998-01-01</td>\n",
       "    </tr>\n",
       "    <tr>\n",
       "      <th>5193</th>\n",
       "      <td>2011</td>\n",
       "      <td>Rondonia</td>\n",
       "      <td>Sep</td>\n",
       "      <td>1.782</td>\n",
       "      <td>2011-01-01</td>\n",
       "    </tr>\n",
       "    <tr>\n",
       "      <th>5550</th>\n",
       "      <td>2010</td>\n",
       "      <td>Santa Catarina</td>\n",
       "      <td>Mar</td>\n",
       "      <td>9.000</td>\n",
       "      <td>2010-01-01</td>\n",
       "    </tr>\n",
       "  </tbody>\n",
       "</table>\n",
       "</div>"
      ],
      "text/plain": [
       "      year           state month   number        date\n",
       "2416  2003     Mato Grosso   Feb  592.000  2003-01-01\n",
       "0     1998            Acre   Jan    0.000  1998-01-01\n",
       "2212  1998        Maranhao   Apr    0.000  1998-01-01\n",
       "5193  2011        Rondonia   Sep    1.782  2011-01-01\n",
       "5550  2010  Santa Catarina   Mar    9.000  2010-01-01"
      ]
     },
     "execution_count": 1146,
     "metadata": {},
     "output_type": "execute_result"
    }
   ],
   "source": [
    "# Aplicando a função no dataset:\n",
    "data_clean == month_translator(data_clean)\n",
    "\n",
    "# Exibindo novos resultados:\n",
    "data_clean.sample(5)"
   ]
  },
  {
   "attachments": {},
   "cell_type": "markdown",
   "metadata": {},
   "source": [
    "Agora que temos meses em Inglês, vamos dropar a coluna `date` e ajustar o data type da coluna `year`:"
   ]
  },
  {
   "cell_type": "code",
   "execution_count": 1147,
   "metadata": {},
   "outputs": [],
   "source": [
    "# Excluindo coluna date:\n",
    "data_clean = data_clean.drop('date', axis=1)"
   ]
  },
  {
   "cell_type": "code",
   "execution_count": 1148,
   "metadata": {},
   "outputs": [],
   "source": [
    "# Ajustando data type da coluna year:\n",
    "data_clean = data_clean.astype({\n",
    "    'year': 'int16'\n",
    "})"
   ]
  },
  {
   "cell_type": "code",
   "execution_count": 1149,
   "metadata": {},
   "outputs": [
    {
     "data": {
      "text/html": [
       "<div>\n",
       "<style scoped>\n",
       "    .dataframe tbody tr th:only-of-type {\n",
       "        vertical-align: middle;\n",
       "    }\n",
       "\n",
       "    .dataframe tbody tr th {\n",
       "        vertical-align: top;\n",
       "    }\n",
       "\n",
       "    .dataframe thead th {\n",
       "        text-align: right;\n",
       "    }\n",
       "</style>\n",
       "<table border=\"1\" class=\"dataframe\">\n",
       "  <thead>\n",
       "    <tr style=\"text-align: right;\">\n",
       "      <th></th>\n",
       "      <th>year</th>\n",
       "      <th>state</th>\n",
       "      <th>month</th>\n",
       "      <th>number</th>\n",
       "    </tr>\n",
       "  </thead>\n",
       "  <tbody>\n",
       "    <tr>\n",
       "      <th>997</th>\n",
       "      <td>1998</td>\n",
       "      <td>Bahia</td>\n",
       "      <td>Mar</td>\n",
       "      <td>0.0</td>\n",
       "    </tr>\n",
       "    <tr>\n",
       "      <th>3936</th>\n",
       "      <td>2009</td>\n",
       "      <td>Pernambuco</td>\n",
       "      <td>Jun</td>\n",
       "      <td>1.0</td>\n",
       "    </tr>\n",
       "    <tr>\n",
       "      <th>4610</th>\n",
       "      <td>2006</td>\n",
       "      <td>Rio</td>\n",
       "      <td>Apr</td>\n",
       "      <td>2.0</td>\n",
       "    </tr>\n",
       "    <tr>\n",
       "      <th>926</th>\n",
       "      <td>2006</td>\n",
       "      <td>Amazonas</td>\n",
       "      <td>Nov</td>\n",
       "      <td>59.0</td>\n",
       "    </tr>\n",
       "    <tr>\n",
       "      <th>1008</th>\n",
       "      <td>2009</td>\n",
       "      <td>Bahia</td>\n",
       "      <td>Mar</td>\n",
       "      <td>249.0</td>\n",
       "    </tr>\n",
       "  </tbody>\n",
       "</table>\n",
       "</div>"
      ],
      "text/plain": [
       "      year       state month  number\n",
       "997   1998       Bahia   Mar     0.0\n",
       "3936  2009  Pernambuco   Jun     1.0\n",
       "4610  2006         Rio   Apr     2.0\n",
       "926   2006    Amazonas   Nov    59.0\n",
       "1008  2009       Bahia   Mar   249.0"
      ]
     },
     "execution_count": 1149,
     "metadata": {},
     "output_type": "execute_result"
    }
   ],
   "source": [
    "# Checando novo formato dos dados:\n",
    "data_clean.sample(5)"
   ]
  },
  {
   "cell_type": "code",
   "execution_count": 1150,
   "metadata": {},
   "outputs": [
    {
     "data": {
      "text/plain": [
       "year        int16\n",
       "state      object\n",
       "month      object\n",
       "number    float64\n",
       "dtype: object"
      ]
     },
     "execution_count": 1150,
     "metadata": {},
     "output_type": "execute_result"
    }
   ],
   "source": [
    "# Checando novos dtypes:\n",
    "data_clean.dtypes"
   ]
  },
  {
   "attachments": {},
   "cell_type": "markdown",
   "metadata": {},
   "source": [
    "## **Criando novas variáveis**"
   ]
  },
  {
   "attachments": {},
   "cell_type": "markdown",
   "metadata": {},
   "source": [
    "Com os dados no formato atual, já se é possível realizar algumas análises, porém, visamos nesse projeto uma visão mais aprofundada dos incêndios florestais no Brasil, e por essa razão se faz necessária a criação de algumas novas variáveis para nossos dados, sendo elas:\n",
    "\n",
    "- Coluna `UF` > A coluna que representará a Unidade da Federação do estado (SP, RJ, BA, etc). Essa coluna será criada pois os nomes dos estados não podem ser confiados de estarem no formato adequado para criação de Dashboards e análises, como exemplo, o estado do Rio de Janeiro apenas consta com o nome 'Rio' no dataset. Sendo assim, a criação da coluna UF vem como forma de padronizar esses indicadores de estado.\n",
    "\n",
    "- Coluna `Region` > A coluna que representará a região brasileira na qual o estado pertence (Norte, Sul, Sudeste, etc). Essa coluna será concebida como forma de aprofundar as análises posteriores, nos possibilitando ter respostas acerca de quais regiões foram mais e menos afetadas pelos incêndios.\n",
    "\n",
    "- Coluna `President` > A coluna que representará o nome de qual mandatário brasileiro estava em vigência quando os incêndios ocorreram. Essa coluna nos permitirá ter um olhar mais histórico acerca desses registros, onde poderemos comparar as diferentes gestões dos diversos mandatários nesses períodos e identificar quais passaram por um período de mais ou menos incêndios.\n",
    "\n",
    "- Coluna `Season` > A coluna que representará em qual estação do ano o incêndio florestal ocorreu. Ela servirá para aprofundarmos mais as análises e compreendermos a correlação entre estações do ano e incêndios florestais."
   ]
  },
  {
   "attachments": {},
   "cell_type": "markdown",
   "metadata": {},
   "source": [
    "### Criando coluna: UF"
   ]
  },
  {
   "attachments": {},
   "cell_type": "markdown",
   "metadata": {},
   "source": [
    "Para a criação da coluna `UF`, iremos criar uma função que percorre os dados e atribui a UF correta para seu respectivo estado, para isso, vamos checar quais são os estados presentes no Dataset:"
   ]
  },
  {
   "cell_type": "code",
   "execution_count": 1151,
   "metadata": {},
   "outputs": [
    {
     "name": "stdout",
     "output_type": "stream",
     "text": [
      "Estado  1 --> Acre\n",
      "Estado  2 --> Alagoas\n",
      "Estado  3 --> Amapa\n",
      "Estado  4 --> Amazonas\n",
      "Estado  5 --> Bahia\n",
      "Estado  6 --> Ceara\n",
      "Estado  7 --> Distrito Federal\n",
      "Estado  8 --> Espirito Santo\n",
      "Estado  9 --> Goias\n",
      "Estado 10 --> Maranhao\n",
      "Estado 11 --> Mato Grosso\n",
      "Estado 12 --> Minas Gerais\n",
      "Estado 13 --> Pará\n",
      "Estado 14 --> Paraiba\n",
      "Estado 15 --> Pernambuco\n",
      "Estado 16 --> Piau\n",
      "Estado 17 --> Rio\n",
      "Estado 18 --> Rondonia\n",
      "Estado 19 --> Roraima\n",
      "Estado 20 --> Santa Catarina\n",
      "Estado 21 --> Sao Paulo\n",
      "Estado 22 --> Sergipe\n",
      "Estado 23 --> Tocantins\n"
     ]
    }
   ],
   "source": [
    "# Checando quais estados aparecem nos dados:\n",
    "states = list(data_clean['state'].unique())\n",
    "\n",
    "for (index, names) in enumerate(states, start=1):\n",
    "    print(f'Estado {index:2} --> {names}')"
   ]
  },
  {
   "attachments": {},
   "cell_type": "markdown",
   "metadata": {},
   "source": [
    "É aparente que nem todos os estados da nação estão presentes nos dados. Temos 23 estados diferentes porém o Brasil possuí 27 unidades federativas. \n",
    "\n",
    "Outro fator relevante é o registro errado do estado de Piauí, que consta apenas como 'Piau'. Esse registro errado apenas fortalece o motivo da qual estamos criando a coluna UF, para padronizar esses dados e garantir que todos estão corretamente representados.\n",
    "\n",
    "Antes de definir nossa função de criação das UFs, vamos corrigir essa entrada do estado de Piauí e também adicionar o nome completo do estado do Rio de Janeiro:"
   ]
  },
  {
   "cell_type": "code",
   "execution_count": 1152,
   "metadata": {},
   "outputs": [
    {
     "data": {
      "text/html": [
       "<div>\n",
       "<style scoped>\n",
       "    .dataframe tbody tr th:only-of-type {\n",
       "        vertical-align: middle;\n",
       "    }\n",
       "\n",
       "    .dataframe tbody tr th {\n",
       "        vertical-align: top;\n",
       "    }\n",
       "\n",
       "    .dataframe thead th {\n",
       "        text-align: right;\n",
       "    }\n",
       "</style>\n",
       "<table border=\"1\" class=\"dataframe\">\n",
       "  <thead>\n",
       "    <tr style=\"text-align: right;\">\n",
       "      <th></th>\n",
       "      <th>year</th>\n",
       "      <th>state</th>\n",
       "      <th>month</th>\n",
       "      <th>number</th>\n",
       "    </tr>\n",
       "  </thead>\n",
       "  <tbody>\n",
       "    <tr>\n",
       "      <th>4841</th>\n",
       "      <td>1998</td>\n",
       "      <td>Rio de Janeiro</td>\n",
       "      <td>Apr</td>\n",
       "      <td>0.0</td>\n",
       "    </tr>\n",
       "    <tr>\n",
       "      <th>4153</th>\n",
       "      <td>2007</td>\n",
       "      <td>Piaui</td>\n",
       "      <td>May</td>\n",
       "      <td>52.0</td>\n",
       "    </tr>\n",
       "    <tr>\n",
       "      <th>5006</th>\n",
       "      <td>2003</td>\n",
       "      <td>Rio de Janeiro</td>\n",
       "      <td>Dec</td>\n",
       "      <td>98.0</td>\n",
       "    </tr>\n",
       "    <tr>\n",
       "      <th>4343</th>\n",
       "      <td>1998</td>\n",
       "      <td>Rio de Janeiro</td>\n",
       "      <td>Mar</td>\n",
       "      <td>0.0</td>\n",
       "    </tr>\n",
       "    <tr>\n",
       "      <th>4722</th>\n",
       "      <td>1998</td>\n",
       "      <td>Rio de Janeiro</td>\n",
       "      <td>Oct</td>\n",
       "      <td>55.0</td>\n",
       "    </tr>\n",
       "  </tbody>\n",
       "</table>\n",
       "</div>"
      ],
      "text/plain": [
       "      year           state month  number\n",
       "4841  1998  Rio de Janeiro   Apr     0.0\n",
       "4153  2007           Piaui   May    52.0\n",
       "5006  2003  Rio de Janeiro   Dec    98.0\n",
       "4343  1998  Rio de Janeiro   Mar     0.0\n",
       "4722  1998  Rio de Janeiro   Oct    55.0"
      ]
     },
     "execution_count": 1152,
     "metadata": {},
     "output_type": "execute_result"
    }
   ],
   "source": [
    "# Corrigindo registros de Rio de Janeiro e Piauí:\n",
    "data_clean['state'] = (\n",
    "    data_clean['state']\n",
    "    .replace(['Rio', 'Piau'], ['Rio de Janeiro', 'Piaui'])\n",
    ")\n",
    "\n",
    "# Checando os novos registros:\n",
    "data_clean.query('state == \"Rio de Janeiro\" | state == \"Piaui\"').sample(5)"
   ]
  },
  {
   "attachments": {},
   "cell_type": "markdown",
   "metadata": {},
   "source": [
    "Com os estados presentes nos dados de maneira correta, podemos definir nossa função de atribuição das UFs:"
   ]
  },
  {
   "cell_type": "code",
   "execution_count": 1153,
   "metadata": {},
   "outputs": [],
   "source": [
    "def set_uf(df: pd.DataFrame) -> pd.DataFrame:\n",
    "    '''Essa função recebe um dataframe, itera sobre os registros e\n",
    "    atribui aos estados suas respectivas UFs.\n",
    "    \n",
    "    Para isso, criamos um dicionário que contém o par 'estado: UF' e \n",
    "    e atribuímos diretamente esses valores a nova coluna.\n",
    "    '''\n",
    "    state_uf = {\n",
    "        'Acre': 'AC',\n",
    "        'Alagoas': 'AL',\n",
    "        'Amapa': 'AP',\n",
    "        'Amazonas': 'AM',\n",
    "        'Bahia': 'BA',\n",
    "        'Ceara': 'CE',\n",
    "        'Distrito Federal': 'DF',\n",
    "        'Espirito Santo': 'ES',\n",
    "        'Goias': 'GO',\n",
    "        'Maranhao': 'MA',\n",
    "        'Mato Grosso': 'MT',\n",
    "        'Minas Gerais': 'MG',\n",
    "        'Pará': 'PA',\n",
    "        'Paraiba': 'PB',\n",
    "        'Pernambuco': 'PE',\n",
    "        'Piaui': 'PI',\n",
    "        'Rio de Janeiro': 'RJ',\n",
    "        'Rondonia': 'RO',\n",
    "        'Roraima': 'RR',\n",
    "        'Santa Catarina': 'SC',\n",
    "        'Sao Paulo': 'SP',\n",
    "        'Sergipe': 'SE',\n",
    "        'Tocantins': 'TO'\n",
    "    }\n",
    "\n",
    "    df['UF'] = df['state'].map(state_uf)\n",
    "\n",
    "    return df"
   ]
  },
  {
   "cell_type": "code",
   "execution_count": 1154,
   "metadata": {},
   "outputs": [
    {
     "data": {
      "text/html": [
       "<div>\n",
       "<style scoped>\n",
       "    .dataframe tbody tr th:only-of-type {\n",
       "        vertical-align: middle;\n",
       "    }\n",
       "\n",
       "    .dataframe tbody tr th {\n",
       "        vertical-align: top;\n",
       "    }\n",
       "\n",
       "    .dataframe thead th {\n",
       "        text-align: right;\n",
       "    }\n",
       "</style>\n",
       "<table border=\"1\" class=\"dataframe\">\n",
       "  <thead>\n",
       "    <tr style=\"text-align: right;\">\n",
       "      <th></th>\n",
       "      <th>year</th>\n",
       "      <th>state</th>\n",
       "      <th>month</th>\n",
       "      <th>number</th>\n",
       "      <th>UF</th>\n",
       "    </tr>\n",
       "  </thead>\n",
       "  <tbody>\n",
       "    <tr>\n",
       "      <th>2785</th>\n",
       "      <td>2013</td>\n",
       "      <td>Mato Grosso</td>\n",
       "      <td>Aug</td>\n",
       "      <td>677.000</td>\n",
       "      <td>MT</td>\n",
       "    </tr>\n",
       "    <tr>\n",
       "      <th>5931</th>\n",
       "      <td>2012</td>\n",
       "      <td>Sao Paulo</td>\n",
       "      <td>Oct</td>\n",
       "      <td>206.000</td>\n",
       "      <td>SP</td>\n",
       "    </tr>\n",
       "    <tr>\n",
       "      <th>1284</th>\n",
       "      <td>2006</td>\n",
       "      <td>Ceara</td>\n",
       "      <td>May</td>\n",
       "      <td>0.000</td>\n",
       "      <td>CE</td>\n",
       "    </tr>\n",
       "    <tr>\n",
       "      <th>4086</th>\n",
       "      <td>2000</td>\n",
       "      <td>Piaui</td>\n",
       "      <td>Feb</td>\n",
       "      <td>12.000</td>\n",
       "      <td>PI</td>\n",
       "    </tr>\n",
       "    <tr>\n",
       "      <th>2616</th>\n",
       "      <td>2003</td>\n",
       "      <td>Mato Grosso</td>\n",
       "      <td>Dec</td>\n",
       "      <td>1.622</td>\n",
       "      <td>MT</td>\n",
       "    </tr>\n",
       "  </tbody>\n",
       "</table>\n",
       "</div>"
      ],
      "text/plain": [
       "      year        state month   number  UF\n",
       "2785  2013  Mato Grosso   Aug  677.000  MT\n",
       "5931  2012    Sao Paulo   Oct  206.000  SP\n",
       "1284  2006        Ceara   May    0.000  CE\n",
       "4086  2000        Piaui   Feb   12.000  PI\n",
       "2616  2003  Mato Grosso   Dec    1.622  MT"
      ]
     },
     "execution_count": 1154,
     "metadata": {},
     "output_type": "execute_result"
    }
   ],
   "source": [
    "# Aplicando a função:\n",
    "data_clean = set_uf(data_clean)\n",
    "\n",
    "# Exibindo resultados:\n",
    "data_clean.sample(5)"
   ]
  },
  {
   "attachments": {},
   "cell_type": "markdown",
   "metadata": {},
   "source": [
    "### Criando coluna: Region"
   ]
  },
  {
   "attachments": {},
   "cell_type": "markdown",
   "metadata": {},
   "source": [
    "Para adicionar as regiões de cada estado, vamos criar uma função que itera sobre os registros e atribui a cada estado sua devida região:"
   ]
  },
  {
   "cell_type": "code",
   "execution_count": 1155,
   "metadata": {},
   "outputs": [],
   "source": [
    "def set_region(df: pd.DataFrame) -> pd.DataFrame:\n",
    "    '''Essa função adiciona as regiões dos respectivos\n",
    "    estados com base em sua UF.\n",
    "    \n",
    "    Delimita-se uma lista com os estados para cada região e utiliza-se\n",
    "    uma função lambda para aplicar ao dataset.\n",
    "    '''\n",
    "    regiao_norte = ['AC', 'AP', 'AM', 'PA', 'RO', 'RR', 'TO']\n",
    "    regiao_nordeste = ['AL', 'BA', 'CE', 'MA', 'PB', 'PE', 'PI', 'SE']\n",
    "    regiao_centro_oeste = ['DF', 'GO', 'MT']\n",
    "    regiao_sudeste = ['ES', 'MG', 'RJ', 'SP']\n",
    "    regiao_sul = ['SC']\n",
    "\n",
    "    df['Region'] = df['UF'].apply(\n",
    "        lambda state:\n",
    "        'Norte' if state in regiao_norte else\n",
    "        'Nordeste' if state in regiao_nordeste else\n",
    "        'Centro Oeste' if state in regiao_centro_oeste else\n",
    "        'Sudeste' if state in regiao_sudeste else\n",
    "        'Sul' if state in regiao_sul else\n",
    "        state\n",
    "    )\n",
    "\n",
    "    return df"
   ]
  },
  {
   "cell_type": "code",
   "execution_count": 1156,
   "metadata": {},
   "outputs": [
    {
     "data": {
      "text/html": [
       "<div>\n",
       "<style scoped>\n",
       "    .dataframe tbody tr th:only-of-type {\n",
       "        vertical-align: middle;\n",
       "    }\n",
       "\n",
       "    .dataframe tbody tr th {\n",
       "        vertical-align: top;\n",
       "    }\n",
       "\n",
       "    .dataframe thead th {\n",
       "        text-align: right;\n",
       "    }\n",
       "</style>\n",
       "<table border=\"1\" class=\"dataframe\">\n",
       "  <thead>\n",
       "    <tr style=\"text-align: right;\">\n",
       "      <th></th>\n",
       "      <th>year</th>\n",
       "      <th>state</th>\n",
       "      <th>month</th>\n",
       "      <th>number</th>\n",
       "      <th>UF</th>\n",
       "      <th>Region</th>\n",
       "    </tr>\n",
       "  </thead>\n",
       "  <tbody>\n",
       "    <tr>\n",
       "      <th>4154</th>\n",
       "      <td>2008</td>\n",
       "      <td>Piaui</td>\n",
       "      <td>May</td>\n",
       "      <td>12.0</td>\n",
       "      <td>PI</td>\n",
       "      <td>Nordeste</td>\n",
       "    </tr>\n",
       "    <tr>\n",
       "      <th>1456</th>\n",
       "      <td>1999</td>\n",
       "      <td>Distrito Federal</td>\n",
       "      <td>Feb</td>\n",
       "      <td>2.0</td>\n",
       "      <td>DF</td>\n",
       "      <td>Centro Oeste</td>\n",
       "    </tr>\n",
       "    <tr>\n",
       "      <th>1059</th>\n",
       "      <td>2000</td>\n",
       "      <td>Bahia</td>\n",
       "      <td>Jun</td>\n",
       "      <td>178.0</td>\n",
       "      <td>BA</td>\n",
       "      <td>Nordeste</td>\n",
       "    </tr>\n",
       "    <tr>\n",
       "      <th>556</th>\n",
       "      <td>2015</td>\n",
       "      <td>Amapa</td>\n",
       "      <td>Apr</td>\n",
       "      <td>0.0</td>\n",
       "      <td>AP</td>\n",
       "      <td>Norte</td>\n",
       "    </tr>\n",
       "    <tr>\n",
       "      <th>4989</th>\n",
       "      <td>2006</td>\n",
       "      <td>Rio de Janeiro</td>\n",
       "      <td>Nov</td>\n",
       "      <td>27.0</td>\n",
       "      <td>RJ</td>\n",
       "      <td>Sudeste</td>\n",
       "    </tr>\n",
       "  </tbody>\n",
       "</table>\n",
       "</div>"
      ],
      "text/plain": [
       "      year             state month  number  UF        Region\n",
       "4154  2008             Piaui   May    12.0  PI      Nordeste\n",
       "1456  1999  Distrito Federal   Feb     2.0  DF  Centro Oeste\n",
       "1059  2000             Bahia   Jun   178.0  BA      Nordeste\n",
       "556   2015             Amapa   Apr     0.0  AP         Norte\n",
       "4989  2006    Rio de Janeiro   Nov    27.0  RJ       Sudeste"
      ]
     },
     "execution_count": 1156,
     "metadata": {},
     "output_type": "execute_result"
    }
   ],
   "source": [
    "# Aplicando a função:\n",
    "data_clean = set_region(data_clean)\n",
    "\n",
    "# Checando novos dados:\n",
    "data_clean.sample(5)"
   ]
  },
  {
   "attachments": {},
   "cell_type": "markdown",
   "metadata": {},
   "source": [
    "### Criando coluna: President"
   ]
  },
  {
   "attachments": {},
   "cell_type": "markdown",
   "metadata": {},
   "source": [
    "Para podermos inserir nos dados o mandatário vigente durante os registros de incêndio florestal, primeiro iremos checar o intervalo de tempo que temos nos dados:"
   ]
  },
  {
   "cell_type": "code",
   "execution_count": 1157,
   "metadata": {},
   "outputs": [
    {
     "name": "stdout",
     "output_type": "stream",
     "text": [
      "Ano mínimo: 1998\n",
      "Ano máximo: 2017\n"
     ]
    }
   ],
   "source": [
    "# Checando intervalo de anos:\n",
    "print(f'Ano mínimo: {data_clean.year.min()}')\n",
    "print(f'Ano máximo: {data_clean.year.max()}')"
   ]
  },
  {
   "attachments": {},
   "cell_type": "markdown",
   "metadata": {},
   "source": [
    "Com os anos definidos, utilizando uma [lista com todos os mandatários](https://pt.wikipedia.org/wiki/Lista_de_presidentes_do_Brasil) do Brasil, iremos atribuí-los aos respectivos períodos que constam nos dados. Para isso, utilizaremos uma função:"
   ]
  },
  {
   "cell_type": "code",
   "execution_count": 1158,
   "metadata": {},
   "outputs": [],
   "source": [
    "def set_president(df: pd.DataFrame) -> pd.DataFrame:\n",
    "    '''Essa função itera sobre os anos do dataset e atribuí a uma nova coluna\n",
    "    o nome do mandatário vigente durante esse período.\n",
    "    '''\n",
    "    df['President'] = df['year'].apply(\n",
    "        lambda year:\n",
    "        'FHC' if (year >= 1998) and (year <= 2002) else\n",
    "        'Lula' if (year >= 2003) and (year <= 2010) else\n",
    "        'Dilma' if (year >= 2011) and (year <= 2016) else\n",
    "        'Temer'\n",
    "    )\n",
    "\n",
    "    return df\n"
   ]
  },
  {
   "cell_type": "code",
   "execution_count": 1159,
   "metadata": {},
   "outputs": [
    {
     "data": {
      "text/html": [
       "<div>\n",
       "<style scoped>\n",
       "    .dataframe tbody tr th:only-of-type {\n",
       "        vertical-align: middle;\n",
       "    }\n",
       "\n",
       "    .dataframe tbody tr th {\n",
       "        vertical-align: top;\n",
       "    }\n",
       "\n",
       "    .dataframe thead th {\n",
       "        text-align: right;\n",
       "    }\n",
       "</style>\n",
       "<table border=\"1\" class=\"dataframe\">\n",
       "  <thead>\n",
       "    <tr style=\"text-align: right;\">\n",
       "      <th></th>\n",
       "      <th>year</th>\n",
       "      <th>state</th>\n",
       "      <th>month</th>\n",
       "      <th>number</th>\n",
       "      <th>UF</th>\n",
       "      <th>Region</th>\n",
       "      <th>President</th>\n",
       "    </tr>\n",
       "  </thead>\n",
       "  <tbody>\n",
       "    <tr>\n",
       "      <th>1719</th>\n",
       "      <td>2003</td>\n",
       "      <td>Espirito Santo</td>\n",
       "      <td>Mar</td>\n",
       "      <td>28.0</td>\n",
       "      <td>ES</td>\n",
       "      <td>Sudeste</td>\n",
       "      <td>Lula</td>\n",
       "    </tr>\n",
       "    <tr>\n",
       "      <th>3490</th>\n",
       "      <td>2001</td>\n",
       "      <td>Paraiba</td>\n",
       "      <td>Aug</td>\n",
       "      <td>34.0</td>\n",
       "      <td>PB</td>\n",
       "      <td>Nordeste</td>\n",
       "      <td>FHC</td>\n",
       "    </tr>\n",
       "    <tr>\n",
       "      <th>651</th>\n",
       "      <td>2010</td>\n",
       "      <td>Amapa</td>\n",
       "      <td>Sep</td>\n",
       "      <td>63.0</td>\n",
       "      <td>AP</td>\n",
       "      <td>Norte</td>\n",
       "      <td>Lula</td>\n",
       "    </tr>\n",
       "    <tr>\n",
       "      <th>4953</th>\n",
       "      <td>2010</td>\n",
       "      <td>Rio de Janeiro</td>\n",
       "      <td>Sep</td>\n",
       "      <td>250.0</td>\n",
       "      <td>RJ</td>\n",
       "      <td>Sudeste</td>\n",
       "      <td>Lula</td>\n",
       "    </tr>\n",
       "    <tr>\n",
       "      <th>3585</th>\n",
       "      <td>2016</td>\n",
       "      <td>Paraiba</td>\n",
       "      <td>Dec</td>\n",
       "      <td>8.0</td>\n",
       "      <td>PB</td>\n",
       "      <td>Nordeste</td>\n",
       "      <td>Dilma</td>\n",
       "    </tr>\n",
       "  </tbody>\n",
       "</table>\n",
       "</div>"
      ],
      "text/plain": [
       "      year           state month  number  UF    Region President\n",
       "1719  2003  Espirito Santo   Mar    28.0  ES   Sudeste      Lula\n",
       "3490  2001         Paraiba   Aug    34.0  PB  Nordeste       FHC\n",
       "651   2010           Amapa   Sep    63.0  AP     Norte      Lula\n",
       "4953  2010  Rio de Janeiro   Sep   250.0  RJ   Sudeste      Lula\n",
       "3585  2016         Paraiba   Dec     8.0  PB  Nordeste     Dilma"
      ]
     },
     "execution_count": 1159,
     "metadata": {},
     "output_type": "execute_result"
    }
   ],
   "source": [
    "# Aplicando a função:\n",
    "data_clean = set_president(data_clean)\n",
    "\n",
    "# Visualizando novos resultados:\n",
    "data_clean.sample(5)"
   ]
  },
  {
   "attachments": {},
   "cell_type": "markdown",
   "metadata": {},
   "source": [
    "### Criando coluna: Season"
   ]
  },
  {
   "attachments": {},
   "cell_type": "markdown",
   "metadata": {},
   "source": [
    "Para podermos compreender ainda mais a periodicidade dos incêndios florestais, vamos criar uma coluna que informa em qual estação do ano o registro do incêndio ocorreu. Para isso, vamos criar a seguinte função:"
   ]
  },
  {
   "cell_type": "code",
   "execution_count": 1160,
   "metadata": {},
   "outputs": [],
   "source": [
    "def set_season(df: pd.DataFrame) -> pd.DataFrame:\n",
    "    '''Essa função itera sobre o Dataframe e cria uma nova coluna\n",
    "    para estações do ano com base no mês em que o registro foi feito.\n",
    "    '''\n",
    "    spring = ['Mar', 'Apr', 'May']\n",
    "    summer = ['Jun', 'Jul', 'Aug']\n",
    "    autumn = ['Sep', 'Oct', 'Nov']\n",
    "    winter = ['Dec', 'Jan', 'Feb']\n",
    "\n",
    "    df['Season'] = df['month'].apply(\n",
    "        lambda month:\n",
    "        'Spring' if month in spring else\n",
    "        'Summer' if month in summer else\n",
    "        'Autumn' if month in autumn else\n",
    "        'Winter' if month in winter else\n",
    "        month\n",
    "    )\n",
    "\n",
    "    return df"
   ]
  },
  {
   "cell_type": "code",
   "execution_count": 1161,
   "metadata": {},
   "outputs": [
    {
     "data": {
      "text/html": [
       "<div>\n",
       "<style scoped>\n",
       "    .dataframe tbody tr th:only-of-type {\n",
       "        vertical-align: middle;\n",
       "    }\n",
       "\n",
       "    .dataframe tbody tr th {\n",
       "        vertical-align: top;\n",
       "    }\n",
       "\n",
       "    .dataframe thead th {\n",
       "        text-align: right;\n",
       "    }\n",
       "</style>\n",
       "<table border=\"1\" class=\"dataframe\">\n",
       "  <thead>\n",
       "    <tr style=\"text-align: right;\">\n",
       "      <th></th>\n",
       "      <th>year</th>\n",
       "      <th>state</th>\n",
       "      <th>month</th>\n",
       "      <th>number</th>\n",
       "      <th>UF</th>\n",
       "      <th>Region</th>\n",
       "      <th>President</th>\n",
       "      <th>Season</th>\n",
       "    </tr>\n",
       "  </thead>\n",
       "  <tbody>\n",
       "    <tr>\n",
       "      <th>4751</th>\n",
       "      <td>2007</td>\n",
       "      <td>Rio de Janeiro</td>\n",
       "      <td>Nov</td>\n",
       "      <td>130.0</td>\n",
       "      <td>RJ</td>\n",
       "      <td>Sudeste</td>\n",
       "      <td>Lula</td>\n",
       "      <td>Autumn</td>\n",
       "    </tr>\n",
       "    <tr>\n",
       "      <th>5336</th>\n",
       "      <td>2015</td>\n",
       "      <td>Roraima</td>\n",
       "      <td>Apr</td>\n",
       "      <td>278.0</td>\n",
       "      <td>RR</td>\n",
       "      <td>Norte</td>\n",
       "      <td>Dilma</td>\n",
       "      <td>Spring</td>\n",
       "    </tr>\n",
       "    <tr>\n",
       "      <th>2697</th>\n",
       "      <td>2005</td>\n",
       "      <td>Mato Grosso</td>\n",
       "      <td>Apr</td>\n",
       "      <td>126.0</td>\n",
       "      <td>MT</td>\n",
       "      <td>Centro Oeste</td>\n",
       "      <td>Lula</td>\n",
       "      <td>Spring</td>\n",
       "    </tr>\n",
       "    <tr>\n",
       "      <th>428</th>\n",
       "      <td>2006</td>\n",
       "      <td>Alagoas</td>\n",
       "      <td>Oct</td>\n",
       "      <td>32.0</td>\n",
       "      <td>AL</td>\n",
       "      <td>Nordeste</td>\n",
       "      <td>Lula</td>\n",
       "      <td>Autumn</td>\n",
       "    </tr>\n",
       "    <tr>\n",
       "      <th>5284</th>\n",
       "      <td>2003</td>\n",
       "      <td>Roraima</td>\n",
       "      <td>Feb</td>\n",
       "      <td>767.0</td>\n",
       "      <td>RR</td>\n",
       "      <td>Norte</td>\n",
       "      <td>Lula</td>\n",
       "      <td>Winter</td>\n",
       "    </tr>\n",
       "  </tbody>\n",
       "</table>\n",
       "</div>"
      ],
      "text/plain": [
       "      year           state month  number  UF        Region President  Season\n",
       "4751  2007  Rio de Janeiro   Nov   130.0  RJ       Sudeste      Lula  Autumn\n",
       "5336  2015         Roraima   Apr   278.0  RR         Norte     Dilma  Spring\n",
       "2697  2005     Mato Grosso   Apr   126.0  MT  Centro Oeste      Lula  Spring\n",
       "428   2006         Alagoas   Oct    32.0  AL      Nordeste      Lula  Autumn\n",
       "5284  2003         Roraima   Feb   767.0  RR         Norte      Lula  Winter"
      ]
     },
     "execution_count": 1161,
     "metadata": {},
     "output_type": "execute_result"
    }
   ],
   "source": [
    "# Aplicando a função:\n",
    "data_clean = set_season(data_clean)\n",
    "\n",
    "# Visualizando novos resultados:\n",
    "data_clean.sample(5)"
   ]
  },
  {
   "attachments": {},
   "cell_type": "markdown",
   "metadata": {},
   "source": [
    "Com todas as colunas necessárias criadas para as análises, vamos realizar os últimos ajustes nos dados, isto é, renomear as colunas e reposicioná-las no dataset:"
   ]
  },
  {
   "attachments": {},
   "cell_type": "markdown",
   "metadata": {},
   "source": [
    "### Renomeando e Reposicionando Colunas"
   ]
  },
  {
   "cell_type": "code",
   "execution_count": 1162,
   "metadata": {},
   "outputs": [
    {
     "data": {
      "text/html": [
       "<div>\n",
       "<style scoped>\n",
       "    .dataframe tbody tr th:only-of-type {\n",
       "        vertical-align: middle;\n",
       "    }\n",
       "\n",
       "    .dataframe tbody tr th {\n",
       "        vertical-align: top;\n",
       "    }\n",
       "\n",
       "    .dataframe thead th {\n",
       "        text-align: right;\n",
       "    }\n",
       "</style>\n",
       "<table border=\"1\" class=\"dataframe\">\n",
       "  <thead>\n",
       "    <tr style=\"text-align: right;\">\n",
       "      <th></th>\n",
       "      <th>State</th>\n",
       "      <th>UF</th>\n",
       "      <th>Region</th>\n",
       "      <th>Num_wild_fires</th>\n",
       "      <th>Year</th>\n",
       "      <th>Month</th>\n",
       "      <th>Season</th>\n",
       "      <th>President</th>\n",
       "    </tr>\n",
       "  </thead>\n",
       "  <tbody>\n",
       "    <tr>\n",
       "      <th>0</th>\n",
       "      <td>Acre</td>\n",
       "      <td>AC</td>\n",
       "      <td>Norte</td>\n",
       "      <td>0.0</td>\n",
       "      <td>1998</td>\n",
       "      <td>Jan</td>\n",
       "      <td>Winter</td>\n",
       "      <td>FHC</td>\n",
       "    </tr>\n",
       "    <tr>\n",
       "      <th>1</th>\n",
       "      <td>Acre</td>\n",
       "      <td>AC</td>\n",
       "      <td>Norte</td>\n",
       "      <td>0.0</td>\n",
       "      <td>1999</td>\n",
       "      <td>Jan</td>\n",
       "      <td>Winter</td>\n",
       "      <td>FHC</td>\n",
       "    </tr>\n",
       "    <tr>\n",
       "      <th>2</th>\n",
       "      <td>Acre</td>\n",
       "      <td>AC</td>\n",
       "      <td>Norte</td>\n",
       "      <td>0.0</td>\n",
       "      <td>2000</td>\n",
       "      <td>Jan</td>\n",
       "      <td>Winter</td>\n",
       "      <td>FHC</td>\n",
       "    </tr>\n",
       "    <tr>\n",
       "      <th>3</th>\n",
       "      <td>Acre</td>\n",
       "      <td>AC</td>\n",
       "      <td>Norte</td>\n",
       "      <td>0.0</td>\n",
       "      <td>2001</td>\n",
       "      <td>Jan</td>\n",
       "      <td>Winter</td>\n",
       "      <td>FHC</td>\n",
       "    </tr>\n",
       "    <tr>\n",
       "      <th>4</th>\n",
       "      <td>Acre</td>\n",
       "      <td>AC</td>\n",
       "      <td>Norte</td>\n",
       "      <td>0.0</td>\n",
       "      <td>2002</td>\n",
       "      <td>Jan</td>\n",
       "      <td>Winter</td>\n",
       "      <td>FHC</td>\n",
       "    </tr>\n",
       "  </tbody>\n",
       "</table>\n",
       "</div>"
      ],
      "text/plain": [
       "  State  UF Region  Num_wild_fires  Year Month  Season President\n",
       "0  Acre  AC  Norte             0.0  1998   Jan  Winter       FHC\n",
       "1  Acre  AC  Norte             0.0  1999   Jan  Winter       FHC\n",
       "2  Acre  AC  Norte             0.0  2000   Jan  Winter       FHC\n",
       "3  Acre  AC  Norte             0.0  2001   Jan  Winter       FHC\n",
       "4  Acre  AC  Norte             0.0  2002   Jan  Winter       FHC"
      ]
     },
     "execution_count": 1162,
     "metadata": {},
     "output_type": "execute_result"
    }
   ],
   "source": [
    "# Renomeando colunas utilizando um dicionário:\n",
    "data_clean = data_clean.rename(columns={\n",
    "    'year': 'Year',\n",
    "    'state': 'State',\n",
    "    'month': 'Month',\n",
    "    'number': 'Num_wild_fires'\n",
    "})\n",
    "\n",
    "# Reposicionando colunas:\n",
    "data_clean = data_clean.loc[\n",
    "    :, \n",
    "    ['State', 'UF', 'Region', \n",
    "    'Num_wild_fires', 'Year', 'Month', 'Season', 'President']\n",
    "]\n",
    "# Visualizando novos dados:\n",
    "data_clean.head()"
   ]
  },
  {
   "attachments": {},
   "cell_type": "markdown",
   "metadata": {},
   "source": [
    "Com as colunas nomeadas e reorganizadas temos uma padronização melhor, onde elas descrevem bem o conteúdo das variáveis e também, iniciam-se com letra maiúscula."
   ]
  },
  {
   "attachments": {},
   "cell_type": "markdown",
   "metadata": {},
   "source": [
    "# <font color='gold'> ***Análises e Plots*** 📊 </font>\n",
    "---"
   ]
  },
  {
   "attachments": {},
   "cell_type": "markdown",
   "metadata": {},
   "source": [
    "Com os dados devidamente tratados, podemos dar início as análises e plotagens gráficas. Como perguntas centrais a serem respondidas, teremos:\n",
    "\n",
    "***<font color='gold'>1.</font> Quais os estados e regiões mais e menos afetados por incêndios durante toda a série histórica?***\n",
    "\n",
    "***<font color='gold'>2.</font> Durante qual período de qual governante brasileiro tivemos mais e menos incêndios no Brasil?***\n",
    "\n",
    "***<font color='gold'>3.</font> Como o número de incêndios nos diferentes estados se relacionam entre si ao longo da série histórica?***\n",
    "\n",
    "***<font color='gold'>4.</font> Qual a estação do ano em que se houve mais e menos incêndios no Brasil?***"
   ]
  },
  {
   "attachments": {},
   "cell_type": "markdown",
   "metadata": {},
   "source": [
    "## <font color='gold'>1.</font> Quais os estados e regiões mais e menos afetados por incêndios durante toda a série histórica?"
   ]
  },
  {
   "attachments": {},
   "cell_type": "markdown",
   "metadata": {},
   "source": [
    "Para podermos compreender quais foram os estados e regiões mais e menos afetados por incêndios florestais na série histórica, primeiro vamos criar um rankeamento dos estados e das regiões:"
   ]
  },
  {
   "attachments": {},
   "cell_type": "markdown",
   "metadata": {},
   "source": [
    "### Rankeamento dos Estados"
   ]
  },
  {
   "cell_type": "code",
   "execution_count": 1165,
   "metadata": {},
   "outputs": [
    {
     "data": {
      "text/html": [
       "<style type=\"text/css\">\n",
       "#T_c3e3a_row0_col1 {\n",
       "  background-color: #800026;\n",
       "  color: #f1f1f1;\n",
       "}\n",
       "#T_c3e3a_row1_col1 {\n",
       "  background-color: #fd7e38;\n",
       "  color: #f1f1f1;\n",
       "}\n",
       "#T_c3e3a_row2_col1 {\n",
       "  background-color: #fd863a;\n",
       "  color: #f1f1f1;\n",
       "}\n",
       "#T_c3e3a_row3_col1 {\n",
       "  background-color: #fd9c42;\n",
       "  color: #000000;\n",
       "}\n",
       "#T_c3e3a_row4_col1 {\n",
       "  background-color: #fd9d43;\n",
       "  color: #000000;\n",
       "}\n",
       "#T_c3e3a_row5_col1 {\n",
       "  background-color: #feb34d;\n",
       "  color: #000000;\n",
       "}\n",
       "#T_c3e3a_row6_col1, #T_c3e3a_row7_col1 {\n",
       "  background-color: #feb44e;\n",
       "  color: #000000;\n",
       "}\n",
       "#T_c3e3a_row8_col1 {\n",
       "  background-color: #fec15d;\n",
       "  color: #000000;\n",
       "}\n",
       "#T_c3e3a_row9_col1 {\n",
       "  background-color: #fecb67;\n",
       "  color: #000000;\n",
       "}\n",
       "#T_c3e3a_row10_col1 {\n",
       "  background-color: #fecc68;\n",
       "  color: #000000;\n",
       "}\n",
       "#T_c3e3a_row11_col1 {\n",
       "  background-color: #fedb7b;\n",
       "  color: #000000;\n",
       "}\n",
       "#T_c3e3a_row12_col1, #T_c3e3a_row13_col1, #T_c3e3a_row14_col1, #T_c3e3a_row15_col1 {\n",
       "  background-color: #fedd7e;\n",
       "  color: #000000;\n",
       "}\n",
       "#T_c3e3a_row16_col1 {\n",
       "  background-color: #fee187;\n",
       "  color: #000000;\n",
       "}\n",
       "#T_c3e3a_row17_col1 {\n",
       "  background-color: #ffe48d;\n",
       "  color: #000000;\n",
       "}\n",
       "#T_c3e3a_row18_col1 {\n",
       "  background-color: #ffe794;\n",
       "  color: #000000;\n",
       "}\n",
       "#T_c3e3a_row19_col1 {\n",
       "  background-color: #fffac0;\n",
       "  color: #000000;\n",
       "}\n",
       "#T_c3e3a_row20_col1 {\n",
       "  background-color: #fffdc8;\n",
       "  color: #000000;\n",
       "}\n",
       "#T_c3e3a_row21_col1, #T_c3e3a_row22_col1 {\n",
       "  background-color: #ffffcc;\n",
       "  color: #000000;\n",
       "}\n",
       "</style>\n",
       "<table id=\"T_c3e3a\">\n",
       "  <thead>\n",
       "    <tr>\n",
       "      <th class=\"blank level0\" >&nbsp;</th>\n",
       "      <th id=\"T_c3e3a_level0_col0\" class=\"col_heading level0 col0\" >Estado</th>\n",
       "      <th id=\"T_c3e3a_level0_col1\" class=\"col_heading level0 col1\" >Total de Incêndios</th>\n",
       "    </tr>\n",
       "  </thead>\n",
       "  <tbody>\n",
       "    <tr>\n",
       "      <th id=\"T_c3e3a_level0_row0\" class=\"row_heading level0 row0\" >0</th>\n",
       "      <td id=\"T_c3e3a_row0_col0\" class=\"data row0 col0\" >Mato Grosso</td>\n",
       "      <td id=\"T_c3e3a_row0_col1\" class=\"data row0 col1\" >96246.028000</td>\n",
       "    </tr>\n",
       "    <tr>\n",
       "      <th id=\"T_c3e3a_level0_row1\" class=\"row_heading level0 row1\" >1</th>\n",
       "      <td id=\"T_c3e3a_row1_col0\" class=\"data row1 col0\" >Paraiba</td>\n",
       "      <td id=\"T_c3e3a_row1_col1\" class=\"data row1 col1\" >52435.918000</td>\n",
       "    </tr>\n",
       "    <tr>\n",
       "      <th id=\"T_c3e3a_level0_row2\" class=\"row_heading level0 row2\" >2</th>\n",
       "      <td id=\"T_c3e3a_row2_col0\" class=\"data row2 col0\" >Sao Paulo</td>\n",
       "      <td id=\"T_c3e3a_row2_col1\" class=\"data row2 col1\" >51121.198000</td>\n",
       "    </tr>\n",
       "    <tr>\n",
       "      <th id=\"T_c3e3a_level0_row3\" class=\"row_heading level0 row3\" >3</th>\n",
       "      <td id=\"T_c3e3a_row3_col0\" class=\"data row3 col0\" >Rio de Janeiro</td>\n",
       "      <td id=\"T_c3e3a_row3_col1\" class=\"data row3 col1\" >45160.865000</td>\n",
       "    </tr>\n",
       "    <tr>\n",
       "      <th id=\"T_c3e3a_level0_row4\" class=\"row_heading level0 row4\" >4</th>\n",
       "      <td id=\"T_c3e3a_row4_col0\" class=\"data row4 col0\" >Bahia</td>\n",
       "      <td id=\"T_c3e3a_row4_col1\" class=\"data row4 col1\" >44746.226000</td>\n",
       "    </tr>\n",
       "    <tr>\n",
       "      <th id=\"T_c3e3a_level0_row5\" class=\"row_heading level0 row5\" >5</th>\n",
       "      <td id=\"T_c3e3a_row5_col0\" class=\"data row5 col0\" >Piaui</td>\n",
       "      <td id=\"T_c3e3a_row5_col1\" class=\"data row5 col1\" >37803.747000</td>\n",
       "    </tr>\n",
       "    <tr>\n",
       "      <th id=\"T_c3e3a_level0_row6\" class=\"row_heading level0 row6\" >6</th>\n",
       "      <td id=\"T_c3e3a_row6_col0\" class=\"data row6 col0\" >Goias</td>\n",
       "      <td id=\"T_c3e3a_row6_col1\" class=\"data row6 col1\" >37695.520000</td>\n",
       "    </tr>\n",
       "    <tr>\n",
       "      <th id=\"T_c3e3a_level0_row7\" class=\"row_heading level0 row7\" >7</th>\n",
       "      <td id=\"T_c3e3a_row7_col0\" class=\"data row7 col0\" >Minas Gerais</td>\n",
       "      <td id=\"T_c3e3a_row7_col1\" class=\"data row7 col1\" >37475.258000</td>\n",
       "    </tr>\n",
       "    <tr>\n",
       "      <th id=\"T_c3e3a_level0_row8\" class=\"row_heading level0 row8\" >8</th>\n",
       "      <td id=\"T_c3e3a_row8_col0\" class=\"data row8 col0\" >Tocantins</td>\n",
       "      <td id=\"T_c3e3a_row8_col1\" class=\"data row8 col1\" >33707.885000</td>\n",
       "    </tr>\n",
       "    <tr>\n",
       "      <th id=\"T_c3e3a_level0_row9\" class=\"row_heading level0 row9\" >9</th>\n",
       "      <td id=\"T_c3e3a_row9_col0\" class=\"data row9 col0\" >Amazonas</td>\n",
       "      <td id=\"T_c3e3a_row9_col1\" class=\"data row9 col1\" >30650.129000</td>\n",
       "    </tr>\n",
       "    <tr>\n",
       "      <th id=\"T_c3e3a_level0_row10\" class=\"row_heading level0 row10\" >10</th>\n",
       "      <td id=\"T_c3e3a_row10_col0\" class=\"data row10 col0\" >Ceara</td>\n",
       "      <td id=\"T_c3e3a_row10_col1\" class=\"data row10 col1\" >30428.063000</td>\n",
       "    </tr>\n",
       "    <tr>\n",
       "      <th id=\"T_c3e3a_level0_row11\" class=\"row_heading level0 row11\" >11</th>\n",
       "      <td id=\"T_c3e3a_row11_col0\" class=\"data row11 col0\" >Maranhao</td>\n",
       "      <td id=\"T_c3e3a_row11_col1\" class=\"data row11 col1\" >25129.131000</td>\n",
       "    </tr>\n",
       "    <tr>\n",
       "      <th id=\"T_c3e3a_level0_row12\" class=\"row_heading level0 row12\" >12</th>\n",
       "      <td id=\"T_c3e3a_row12_col0\" class=\"data row12 col0\" >Pará</td>\n",
       "      <td id=\"T_c3e3a_row12_col1\" class=\"data row12 col1\" >24512.144000</td>\n",
       "    </tr>\n",
       "    <tr>\n",
       "      <th id=\"T_c3e3a_level0_row13\" class=\"row_heading level0 row13\" >13</th>\n",
       "      <td id=\"T_c3e3a_row13_col0\" class=\"data row13 col0\" >Pernambuco</td>\n",
       "      <td id=\"T_c3e3a_row13_col1\" class=\"data row13 col1\" >24498.000000</td>\n",
       "    </tr>\n",
       "    <tr>\n",
       "      <th id=\"T_c3e3a_level0_row14\" class=\"row_heading level0 row14\" >14</th>\n",
       "      <td id=\"T_c3e3a_row14_col0\" class=\"data row14 col0\" >Roraima</td>\n",
       "      <td id=\"T_c3e3a_row14_col1\" class=\"data row14 col1\" >24385.074000</td>\n",
       "    </tr>\n",
       "    <tr>\n",
       "      <th id=\"T_c3e3a_level0_row15\" class=\"row_heading level0 row15\" >15</th>\n",
       "      <td id=\"T_c3e3a_row15_col0\" class=\"data row15 col0\" >Santa Catarina</td>\n",
       "      <td id=\"T_c3e3a_row15_col1\" class=\"data row15 col1\" >24359.852000</td>\n",
       "    </tr>\n",
       "    <tr>\n",
       "      <th id=\"T_c3e3a_level0_row16\" class=\"row_heading level0 row16\" >16</th>\n",
       "      <td id=\"T_c3e3a_row16_col0\" class=\"data row16 col0\" >Amapa</td>\n",
       "      <td id=\"T_c3e3a_row16_col1\" class=\"data row16 col1\" >21831.576000</td>\n",
       "    </tr>\n",
       "    <tr>\n",
       "      <th id=\"T_c3e3a_level0_row17\" class=\"row_heading level0 row17\" >17</th>\n",
       "      <td id=\"T_c3e3a_row17_col0\" class=\"data row17 col0\" >Rondonia</td>\n",
       "      <td id=\"T_c3e3a_row17_col1\" class=\"data row17 col1\" >20285.429000</td>\n",
       "    </tr>\n",
       "    <tr>\n",
       "      <th id=\"T_c3e3a_level0_row18\" class=\"row_heading level0 row18\" >18</th>\n",
       "      <td id=\"T_c3e3a_row18_col0\" class=\"data row18 col0\" >Acre</td>\n",
       "      <td id=\"T_c3e3a_row18_col1\" class=\"data row18 col1\" >18464.030000</td>\n",
       "    </tr>\n",
       "    <tr>\n",
       "      <th id=\"T_c3e3a_level0_row19\" class=\"row_heading level0 row19\" >19</th>\n",
       "      <td id=\"T_c3e3a_row19_col0\" class=\"data row19 col0\" >Espirito Santo</td>\n",
       "      <td id=\"T_c3e3a_row19_col1\" class=\"data row19 col1\" >6546.000000</td>\n",
       "    </tr>\n",
       "    <tr>\n",
       "      <th id=\"T_c3e3a_level0_row20\" class=\"row_heading level0 row20\" >20</th>\n",
       "      <td id=\"T_c3e3a_row20_col0\" class=\"data row20 col0\" >Alagoas</td>\n",
       "      <td id=\"T_c3e3a_row20_col1\" class=\"data row20 col1\" >4644.000000</td>\n",
       "    </tr>\n",
       "    <tr>\n",
       "      <th id=\"T_c3e3a_level0_row21\" class=\"row_heading level0 row21\" >21</th>\n",
       "      <td id=\"T_c3e3a_row21_col0\" class=\"data row21 col0\" >Distrito Federal</td>\n",
       "      <td id=\"T_c3e3a_row21_col1\" class=\"data row21 col1\" >3561.000000</td>\n",
       "    </tr>\n",
       "    <tr>\n",
       "      <th id=\"T_c3e3a_level0_row22\" class=\"row_heading level0 row22\" >22</th>\n",
       "      <td id=\"T_c3e3a_row22_col0\" class=\"data row22 col0\" >Sergipe</td>\n",
       "      <td id=\"T_c3e3a_row22_col1\" class=\"data row22 col1\" >3237.000000</td>\n",
       "    </tr>\n",
       "  </tbody>\n",
       "</table>\n"
      ],
      "text/plain": [
       "<pandas.io.formats.style.Styler at 0x1a2631a6b80>"
      ]
     },
     "execution_count": 1165,
     "metadata": {},
     "output_type": "execute_result"
    }
   ],
   "source": [
    "# Agrupando dados para rankeamento dos estados:\n",
    "states_rank = (\n",
    "    data_clean\n",
    "    .groupby('State')['Num_wild_fires']\n",
    "    .sum()\n",
    "    .sort_values(ascending=False)\n",
    "    .reset_index()\n",
    "    .rename(\n",
    "        columns={\n",
    "            'State': 'Estado',\n",
    "            'Num_wild_fires': 'Total de Incêndios'\n",
    "        }\n",
    "    )\n",
    ")\n",
    "\n",
    "# Visualizando ranking:\n",
    "states_rank.style.background_gradient( # Definindo um gradiente nos valores\n",
    "    subset='Total de Incêndios',\n",
    "    cmap='YlOrRd'\n",
    ")"
   ]
  },
  {
   "attachments": {},
   "cell_type": "markdown",
   "metadata": {},
   "source": [
    "Com a tabela já temos como identificar as respostas que queríamos:\n",
    "\n",
    "- O estado mais afetado pelos incêndios é de longe `Minas Gerais` com cerca de 960 mil registros na série histórica, seguido pelo estado da `Paraíba` bem atrás com cerca de 524 mil registros.\n",
    "\n",
    "- Já o estado menos afetado na série histórica é `Sergipe` com apenas 3237 registros.\n",
    "\n",
    "Para termos uma vizualização mais apropriada para os dados, utilizaremos das bibliotecas Matplotlib e Seaborn:"
   ]
  },
  {
   "cell_type": "code",
   "execution_count": 1173,
   "metadata": {},
   "outputs": [
    {
     "data": {
      "image/png": "[encoded data removed]",
      "text/plain": [
       "<Figure size 1080x720 with 1 Axes>"
      ]
     },
     "metadata": {},
     "output_type": "display_data"
    }
   ],
   "source": [
    "# Definindo parâmetros de tamanho:\n",
    "fig, ax = plt.subplots(figsize=(15, 10))\n",
    "\n",
    "# Plotando um barplot utilizando Seaborn:\n",
    "sns.barplot(\n",
    "    data=states_rank, \n",
    "    x='Total de Incêndios', \n",
    "    y='Estado',\n",
    "    edgecolor='black', \n",
    "    zorder=2, \n",
    "    palette='hot'\n",
    ")\n",
    "\n",
    "# Definindo título e ajustando labels nos eixos X e Y:\n",
    "plt.title(\n",
    "    'Total de Incêndios Florestais por Estado Brasileiro 1998-2017', \n",
    "    fontsize=20, \n",
    "    fontweight='bold', \n",
    "    fontstyle='italic', \n",
    "    pad='8.0'\n",
    ")\n",
    "\n",
    "plt.xlabel(\n",
    "    'Incêndios Reportados', \n",
    "    fontsize=13, \n",
    "    labelpad=10\n",
    ")\n",
    "\n",
    "ax.set_xticklabels(['0K', '20K', '40K', '60K', '80K', '100K'])\n",
    "plt.ylabel('')\n",
    "\n",
    "# Adicionando linha de média:\n",
    "plt.axvline(\n",
    "    x = states_rank['Total de Incêndios'].mean(), \n",
    "    ymin = 0, \n",
    "    ymax = 1,\n",
    "    linewidth = 1.5, \n",
    "    linestyle =\"dashdot\",\n",
    "    color ='gray', \n",
    "    zorder=1\n",
    ")\n",
    "\n",
    "plt.annotate(\n",
    "    'M é d i a', \n",
    "    fontsize=12, \n",
    "    xy=(states_rank['Total de Incêndios'].mean() + 300, 22.3), \n",
    "    rotation=90\n",
    ")\n",
    "\n",
    "# Adicionando tabela com dados:\n",
    "row_color = np.full(len(states_rank.index), 'lavender')\n",
    "col_color = np.full(len(states_rank.columns), 'lavender')\n",
    "row_index = np.arange(1, 24)\n",
    "\n",
    "table = plt.table(\n",
    "        cellText=states_rank.values,\n",
    "        cellLoc='center',\n",
    "        rowLabels=row_index,\n",
    "        colLabels=states_rank.columns,\n",
    "        bbox=[1.04, 0, 0.37, 1],\n",
    "        rowColours=row_color,\n",
    "        colColours=col_color,\n",
    "    )\n",
    "\n",
    "table.set_fontsize(12)\n",
    "\n",
    "# Alterando propriedades dos headers das colunas:\n",
    "for (row, col), cell in table.get_celld().items():\n",
    "    if row == 0:\n",
    "        cell.set_text_props(fontproperties=FontProperties(weight='bold'))       \n",
    "\n",
    "plt.show()"
   ]
  },
  {
   "attachments": {},
   "cell_type": "markdown",
   "metadata": {},
   "source": [
    "### Rankeamento das Regiões"
   ]
  },
  {
   "cell_type": "code",
   "execution_count": 1170,
   "metadata": {},
   "outputs": [
    {
     "data": {
      "text/html": [
       "<style type=\"text/css\">\n",
       "#T_c87ac_row0_col1 {\n",
       "  background-color: #800026;\n",
       "  color: #f1f1f1;\n",
       "}\n",
       "#T_c87ac_row1_col1 {\n",
       "  background-color: #e2191c;\n",
       "  color: #f1f1f1;\n",
       "}\n",
       "#T_c87ac_row2_col1 {\n",
       "  background-color: #fc6330;\n",
       "  color: #f1f1f1;\n",
       "}\n",
       "#T_c87ac_row3_col1 {\n",
       "  background-color: #fc6a32;\n",
       "  color: #f1f1f1;\n",
       "}\n",
       "#T_c87ac_row4_col1 {\n",
       "  background-color: #ffffcc;\n",
       "  color: #000000;\n",
       "}\n",
       "</style>\n",
       "<table id=\"T_c87ac\">\n",
       "  <thead>\n",
       "    <tr>\n",
       "      <th class=\"blank level0\" >&nbsp;</th>\n",
       "      <th id=\"T_c87ac_level0_col0\" class=\"col_heading level0 col0\" >Região</th>\n",
       "      <th id=\"T_c87ac_level0_col1\" class=\"col_heading level0 col1\" >Total de Incêndios</th>\n",
       "    </tr>\n",
       "  </thead>\n",
       "  <tbody>\n",
       "    <tr>\n",
       "      <th id=\"T_c87ac_level0_row0\" class=\"row_heading level0 row0\" >0</th>\n",
       "      <td id=\"T_c87ac_row0_col0\" class=\"data row0 col0\" >Nordeste</td>\n",
       "      <td id=\"T_c87ac_row0_col1\" class=\"data row0 col1\" >222922.085000</td>\n",
       "    </tr>\n",
       "    <tr>\n",
       "      <th id=\"T_c87ac_level0_row1\" class=\"row_heading level0 row1\" >1</th>\n",
       "      <td id=\"T_c87ac_row1_col0\" class=\"data row1 col0\" >Norte</td>\n",
       "      <td id=\"T_c87ac_row1_col1\" class=\"data row1 col1\" >173836.267000</td>\n",
       "    </tr>\n",
       "    <tr>\n",
       "      <th id=\"T_c87ac_level0_row2\" class=\"row_heading level0 row2\" >2</th>\n",
       "      <td id=\"T_c87ac_row2_col0\" class=\"data row2 col0\" >Sudeste</td>\n",
       "      <td id=\"T_c87ac_row2_col1\" class=\"data row2 col1\" >140303.321000</td>\n",
       "    </tr>\n",
       "    <tr>\n",
       "      <th id=\"T_c87ac_level0_row3\" class=\"row_heading level0 row3\" >3</th>\n",
       "      <td id=\"T_c87ac_row3_col0\" class=\"data row3 col0\" >Centro Oeste</td>\n",
       "      <td id=\"T_c87ac_row3_col1\" class=\"data row3 col1\" >137502.548000</td>\n",
       "    </tr>\n",
       "    <tr>\n",
       "      <th id=\"T_c87ac_level0_row4\" class=\"row_heading level0 row4\" >4</th>\n",
       "      <td id=\"T_c87ac_row4_col0\" class=\"data row4 col0\" >Sul</td>\n",
       "      <td id=\"T_c87ac_row4_col1\" class=\"data row4 col1\" >24359.852000</td>\n",
       "    </tr>\n",
       "  </tbody>\n",
       "</table>\n"
      ],
      "text/plain": [
       "<pandas.io.formats.style.Styler at 0x1a2632bc430>"
      ]
     },
     "execution_count": 1170,
     "metadata": {},
     "output_type": "execute_result"
    }
   ],
   "source": [
    "# Agrupando dados para rankeamento das regiões:\n",
    "region_rank = (\n",
    "    data_clean\n",
    "    .groupby('Region')['Num_wild_fires']\n",
    "    .sum()\n",
    "    .sort_values(ascending=False)\n",
    "    .reset_index()\n",
    "    .rename(\n",
    "        columns={\n",
    "            'Region': 'Região',\n",
    "            'Num_wild_fires': 'Total de Incêndios'\n",
    "        }\n",
    "    )\n",
    ")\n",
    "\n",
    "# Visualizando ranking:\n",
    "region_rank.style.background_gradient( # Definindo um gradiente nos valores\n",
    "    subset='Total de Incêndios',\n",
    "    cmap='YlOrRd'\n",
    ")"
   ]
  },
  {
   "attachments": {},
   "cell_type": "markdown",
   "metadata": {},
   "source": [
    "Podemos ver que mesmo que o estado de Minas Gerais é disparado o que mais teve registros de incêndios florestais nos dados, a `Região Nordeste` foi a que teve mais incêndios no geral. Isso é importante para destacar que uma abordagem única para uma questão nunca é boa, pois pode esconder dados relevantes. Nesse caso, se não tivessemos buscado compreender tanto qual estado tanto qual região possuiu o maior número de incêndios, poderiamos ficar com a impressão de que, por causa do estado do Mato Grosso ser de longe o com mais registros, a região Centro Oeste seria a mais afetada, o que nosso rankeamento por regiões desprova.\n",
    "\n",
    "Como mesmo procedimento, iremos plotar o mesmo gráfico de barras porém agora para as regiões:"
   ]
  },
  {
   "cell_type": "code",
   "execution_count": 1207,
   "metadata": {},
   "outputs": [
    {
     "data": {
      "image/png": "[encoded data removed]",
      "text/plain": [
       "<Figure size 1080x720 with 1 Axes>"
      ]
     },
     "metadata": {},
     "output_type": "display_data"
    }
   ],
   "source": [
    "# Definindo parâmetros de tamanho:\n",
    "fig, ax = plt.subplots(figsize=(15, 10))\n",
    "\n",
    "# Plotando um barplot utilizando Seaborn:\n",
    "sns.barplot(\n",
    "    data=region_rank, \n",
    "    x='Total de Incêndios', \n",
    "    y='Região',\n",
    "    edgecolor='black', \n",
    "    zorder=2, \n",
    "    palette='hot'\n",
    ")\n",
    "\n",
    "# Definindo título e ajustando labels nos eixos X e Y:\n",
    "plt.title(\n",
    "    'Total de Incêndios Florestais por Região Brasileira 1998-2017', \n",
    "    fontsize=20, \n",
    "    fontweight='bold', \n",
    "    fontstyle='italic', \n",
    "    pad='8.0'\n",
    ")\n",
    "\n",
    "plt.xlabel(\n",
    "    'Incêndios Reportados', \n",
    "    fontsize=13, \n",
    "    labelpad=10\n",
    ")\n",
    "\n",
    "ax.set_xticklabels(['0', '50k', '100k', '150k', '200k'])\n",
    "plt.ylabel('')\n",
    "\n",
    "# Adicionando linha de média:\n",
    "plt.axvline(\n",
    "    x = region_rank['Total de Incêndios'].mean(), \n",
    "    ymin = 0, \n",
    "    ymax = 1,\n",
    "    linewidth = 1.5, \n",
    "    linestyle =\"dashdot\",\n",
    "    color ='gray', \n",
    "    zorder=1\n",
    ")\n",
    "\n",
    "plt.annotate(\n",
    "    'M é d i a', \n",
    "    fontsize=12, \n",
    "    xy=(region_rank['Total de Incêndios'].mean() + 1000, 4.45), \n",
    "    rotation=90\n",
    ")\n",
    "\n",
    "# Adicionando tabela com dados:\n",
    "row_color = np.full(len(region_rank.index), 'lavender')\n",
    "col_color = np.full(len(region_rank.columns), 'lavender')\n",
    "row_index = np.arange(1, 6)\n",
    "\n",
    "table = plt.table(\n",
    "        cellText=region_rank.values,\n",
    "        cellLoc='center',\n",
    "        rowLabels=row_index,\n",
    "        colLabels=region_rank.columns,\n",
    "        bbox=[1.04, 0, 0.37, 1],\n",
    "        rowColours=row_color,\n",
    "        colColours=col_color,\n",
    "    )\n",
    "\n",
    "table.set_fontsize(12)\n",
    "\n",
    "# Alterando propriedades dos headers das colunas:\n",
    "for (row, col), cell in table.get_celld().items():\n",
    "    if row == 0:\n",
    "        cell.set_text_props(fontproperties=FontProperties(weight='bold'))       \n",
    "\n",
    "plt.show()"
   ]
  }
 ],
 "metadata": {
  "kernelspec": {
   "display_name": "base",
   "language": "python",
   "name": "python3"
  },
  "language_info": {
   "codemirror_mode": {
    "name": "ipython",
    "version": 3
   },
   "file_extension": ".py",
   "mimetype": "text/x-python",
   "name": "python",
   "nbconvert_exporter": "python",
   "pygments_lexer": "ipython3",
   "version": "3.9.12"
  },
  "orig_nbformat": 4,
  "vscode": {
   "interpreter": {
    "hash": "594af92f1fbe2151803567768ef02c6f133f2dd09ab238e968f9d14c9ef1bc27"
   }
  }
 },
 "nbformat": 4,
 "nbformat_minor": 2
}
