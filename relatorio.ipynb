{
 "cells": [
  {
   "attachments": {},
   "cell_type": "markdown",
   "metadata": {},
   "source": [
    "# <font color='gold'> ***Análise Exploratória: Incêndios Florestais Brasileiros*** </font> 🔥🌳"
   ]
  },
  {
   "attachments": {},
   "cell_type": "markdown",
   "metadata": {},
   "source": [
    "# <font color='gold'> ***Objetivos da Análise*** 🎯 </font>\n",
    "---"
   ]
  },
  {
   "attachments": {},
   "cell_type": "markdown",
   "metadata": {},
   "source": [
    "Nesse projeto, realizaremos uma Analise Exploratória de Dados (EDA) em um [banco de dados](https://www.kaggle.com/datasets/gustavomodelli/forest-fires-in-brazil) que contém uma série histórica de incêndios florestais no Brasil em diferentes estados. Mais especificamente, desse projeto iremos:\n",
    "\n",
    "- 🎲 Realizar uma análise descritiva das características principais dos dados, como suas dimensões, seus registros e tipos de dados, valores nulos e outliers, etc;\n",
    "\n",
    "- 🧹 Limpar e tratar os dados;\n",
    "\n",
    "- 📊 Utilizar de visualizações gráficas para geração de insights e análises mais aprofundadas acerca dos incêndios e suas características.\n",
    "\n",
    "Como questões centrais que abordaremos nessa pesquisa, temos:\n",
    "\n",
    ">***1. Quais os estados e regiões mais afetados por incêndios durante toda a série histórica?***\n",
    ">\n",
    ">***2. Durante qual período de qual governante brasileiro tivemos mais incêndios no Brasil? e qual o menor valor?***\n",
    "\n",
    "Entre outras questões que serão abordadas durante o projeto."
   ]
  },
  {
   "attachments": {},
   "cell_type": "markdown",
   "metadata": {},
   "source": [
    "# <font color='gold'>***Importando Pacotes e Conhecendo Dados*** 📦🎲</font>\n",
    "---"
   ]
  },
  {
   "cell_type": "code",
   "execution_count": 842,
   "metadata": {},
   "outputs": [
    {
     "name": "stdout",
     "output_type": "stream",
     "text": [
      "Pacotes Prontos! Versões Utilizadas:\n",
      "\n",
      "Pandas      --> 1.4.2\n",
      "Numpy       --> 1.21.5\n",
      "Matplotlib  --> 3.6.2\n",
      "Seaborn     --> 0.11.2\n"
     ]
    }
   ],
   "source": [
    "# Importando bibliotecas necessárias para a análise:\n",
    "import pandas as pd\n",
    "import numpy as np\n",
    "import matplotlib\n",
    "import matplotlib.pyplot as plt\n",
    "import seaborn as sns\n",
    "import warnings\n",
    "\n",
    "# Definindo parâmetros:\n",
    "\n",
    "# Setando estilo escuro do grid para os gráficos.\n",
    "sns.set_theme(context='notebook', style='darkgrid')\n",
    "\n",
    "# Utilizando a biblioteca warnings para retirar avisos da execução do código\n",
    "# para uma visualização mais limpa.\n",
    "warnings.filterwarnings('ignore')\n",
    "\n",
    "# Mostrando versões utilizadas dos pacotes:\n",
    "print('Pacotes Prontos! Versões Utilizadas:\\n')\n",
    "print(f'Pandas      --> {pd.__version__}')\n",
    "print(f'Numpy       --> {np.__version__}')\n",
    "print(f'Matplotlib  --> {matplotlib.__version__}')\n",
    "print(f'Seaborn     --> {sns.__version__}')"
   ]
  },
  {
   "cell_type": "code",
   "execution_count": 843,
   "metadata": {},
   "outputs": [],
   "source": [
    "# Criando o Dataframe:\n",
    "data = pd.read_csv('data/amazon.csv', sep=',', encoding='latin-1')"
   ]
  },
  {
   "attachments": {},
   "cell_type": "markdown",
   "metadata": {},
   "source": [
    "<font color='gold'> ⚠️**Nota** </font>\n",
    "\n",
    ">A seleção do encoding como [latin-1](https://www.ic.unicamp.br/~stolfi/EXPORT/www/ISO-8859-1-Encoding.html) foi utilizada pois existem caracteres especiais nos dados, assim, a definição do enconding específico foi necessária (em vez do padrão UTF-8)."
   ]
  },
  {
   "cell_type": "code",
   "execution_count": 844,
   "metadata": {},
   "outputs": [
    {
     "data": {
      "text/html": [
       "<div>\n",
       "<style scoped>\n",
       "    .dataframe tbody tr th:only-of-type {\n",
       "        vertical-align: middle;\n",
       "    }\n",
       "\n",
       "    .dataframe tbody tr th {\n",
       "        vertical-align: top;\n",
       "    }\n",
       "\n",
       "    .dataframe thead th {\n",
       "        text-align: right;\n",
       "    }\n",
       "</style>\n",
       "<table border=\"1\" class=\"dataframe\">\n",
       "  <thead>\n",
       "    <tr style=\"text-align: right;\">\n",
       "      <th></th>\n",
       "      <th>year</th>\n",
       "      <th>state</th>\n",
       "      <th>month</th>\n",
       "      <th>number</th>\n",
       "      <th>date</th>\n",
       "    </tr>\n",
       "  </thead>\n",
       "  <tbody>\n",
       "    <tr>\n",
       "      <th>0</th>\n",
       "      <td>1998</td>\n",
       "      <td>Acre</td>\n",
       "      <td>Janeiro</td>\n",
       "      <td>0.0</td>\n",
       "      <td>1998-01-01</td>\n",
       "    </tr>\n",
       "    <tr>\n",
       "      <th>1</th>\n",
       "      <td>1999</td>\n",
       "      <td>Acre</td>\n",
       "      <td>Janeiro</td>\n",
       "      <td>0.0</td>\n",
       "      <td>1999-01-01</td>\n",
       "    </tr>\n",
       "    <tr>\n",
       "      <th>2</th>\n",
       "      <td>2000</td>\n",
       "      <td>Acre</td>\n",
       "      <td>Janeiro</td>\n",
       "      <td>0.0</td>\n",
       "      <td>2000-01-01</td>\n",
       "    </tr>\n",
       "    <tr>\n",
       "      <th>3</th>\n",
       "      <td>2001</td>\n",
       "      <td>Acre</td>\n",
       "      <td>Janeiro</td>\n",
       "      <td>0.0</td>\n",
       "      <td>2001-01-01</td>\n",
       "    </tr>\n",
       "    <tr>\n",
       "      <th>4</th>\n",
       "      <td>2002</td>\n",
       "      <td>Acre</td>\n",
       "      <td>Janeiro</td>\n",
       "      <td>0.0</td>\n",
       "      <td>2002-01-01</td>\n",
       "    </tr>\n",
       "  </tbody>\n",
       "</table>\n",
       "</div>"
      ],
      "text/plain": [
       "   year state    month  number        date\n",
       "0  1998  Acre  Janeiro     0.0  1998-01-01\n",
       "1  1999  Acre  Janeiro     0.0  1999-01-01\n",
       "2  2000  Acre  Janeiro     0.0  2000-01-01\n",
       "3  2001  Acre  Janeiro     0.0  2001-01-01\n",
       "4  2002  Acre  Janeiro     0.0  2002-01-01"
      ]
     },
     "execution_count": 844,
     "metadata": {},
     "output_type": "execute_result"
    }
   ],
   "source": [
    "# Visualizando primeiros 5 registros dos dados:\n",
    "data.head()"
   ]
  },
  {
   "cell_type": "code",
   "execution_count": 845,
   "metadata": {},
   "outputs": [
    {
     "data": {
      "text/html": [
       "<div>\n",
       "<style scoped>\n",
       "    .dataframe tbody tr th:only-of-type {\n",
       "        vertical-align: middle;\n",
       "    }\n",
       "\n",
       "    .dataframe tbody tr th {\n",
       "        vertical-align: top;\n",
       "    }\n",
       "\n",
       "    .dataframe thead th {\n",
       "        text-align: right;\n",
       "    }\n",
       "</style>\n",
       "<table border=\"1\" class=\"dataframe\">\n",
       "  <thead>\n",
       "    <tr style=\"text-align: right;\">\n",
       "      <th></th>\n",
       "      <th>year</th>\n",
       "      <th>state</th>\n",
       "      <th>month</th>\n",
       "      <th>number</th>\n",
       "      <th>date</th>\n",
       "    </tr>\n",
       "  </thead>\n",
       "  <tbody>\n",
       "    <tr>\n",
       "      <th>5976</th>\n",
       "      <td>1998</td>\n",
       "      <td>Sergipe</td>\n",
       "      <td>Janeiro</td>\n",
       "      <td>0.0</td>\n",
       "      <td>1998-01-01</td>\n",
       "    </tr>\n",
       "    <tr>\n",
       "      <th>2444</th>\n",
       "      <td>2011</td>\n",
       "      <td>Mato Grosso</td>\n",
       "      <td>Março</td>\n",
       "      <td>252.0</td>\n",
       "      <td>2011-01-01</td>\n",
       "    </tr>\n",
       "    <tr>\n",
       "      <th>447</th>\n",
       "      <td>2005</td>\n",
       "      <td>Alagoas</td>\n",
       "      <td>Novembro</td>\n",
       "      <td>25.0</td>\n",
       "      <td>2005-01-01</td>\n",
       "    </tr>\n",
       "    <tr>\n",
       "      <th>2264</th>\n",
       "      <td>2010</td>\n",
       "      <td>Maranhao</td>\n",
       "      <td>Junho</td>\n",
       "      <td>494.0</td>\n",
       "      <td>2010-01-01</td>\n",
       "    </tr>\n",
       "    <tr>\n",
       "      <th>2176</th>\n",
       "      <td>2002</td>\n",
       "      <td>Maranhao</td>\n",
       "      <td>Fevereiro</td>\n",
       "      <td>116.0</td>\n",
       "      <td>2002-01-01</td>\n",
       "    </tr>\n",
       "  </tbody>\n",
       "</table>\n",
       "</div>"
      ],
      "text/plain": [
       "      year        state      month  number        date\n",
       "5976  1998      Sergipe    Janeiro     0.0  1998-01-01\n",
       "2444  2011  Mato Grosso      Março   252.0  2011-01-01\n",
       "447   2005      Alagoas   Novembro    25.0  2005-01-01\n",
       "2264  2010     Maranhao      Junho   494.0  2010-01-01\n",
       "2176  2002     Maranhao  Fevereiro   116.0  2002-01-01"
      ]
     },
     "execution_count": 845,
     "metadata": {},
     "output_type": "execute_result"
    }
   ],
   "source": [
    "# Visualizando uma sample aleatória dos dados:\n",
    "data.sample(5)"
   ]
  },
  {
   "attachments": {},
   "cell_type": "markdown",
   "metadata": {},
   "source": [
    "Para termos uma compreensão clara de nossos dados, iremos criar um dicionário de variáveis contendo as colunas do Dataset e a descrição de seu conteúdo:"
   ]
  },
  {
   "attachments": {},
   "cell_type": "markdown",
   "metadata": {},
   "source": [
    "| Variável   | Conteúdo                                 |\n",
    "|------------|------------------------------------------|\n",
    "| `year`     | Ano em que o incêndio florestal ocorreu  |\n",
    "| `state`    | Estado brasileiro                        |\n",
    "| `month`    | Mês em que o incêndio ocorreu            |\n",
    "| `number`   | Quantidade de incêndios reportados       |\n",
    "| `date`     | Data em que o incêndio foi reportado     |"
   ]
  },
  {
   "attachments": {},
   "cell_type": "markdown",
   "metadata": {},
   "source": [
    "Com alguns dos registros aparentes, uma característica notável é a aparente duplicata nas colunas. \n",
    "\n",
    "- A coluna `year`, que representa o ano em que o incêndio ocorreu e a coluna `date` que informa a data em que o incêndio foi reportado, aparentam possuir os mesmos dados:\n",
    "\n",
    "    - Quando a coluna year apresenta o ano de 1998, a coluna date informa a data 1998-01-01, e esse padrão da coluna date apenas repetir a coluna year com a adição das datas \"1 de Janeiro\" se mostra presente em todo dataset como mostrado pelo uso do comando `data.sample(5)`.\n",
    "\n",
    "Dessa forma, iremos arranjar essas informações de uma maneira diferente:\n",
    "\n",
    "- Substituir os valores da coluna `month` por numéricos ('Janeiro' = 1, 'Fevereiro' = 2, etc);\n",
    "\n",
    "- Utilizar a coluna `date` para mostrar o ano e o mês (agora em formato numérico) do registro;\n",
    "\n",
    "- Transformar essa nova coluna `date` para datetime."
   ]
  },
  {
   "attachments": {},
   "cell_type": "markdown",
   "metadata": {},
   "source": [
    "Como outros ajustes, também iremos renomear as colunas para que tenham a primeira letra maiúscula e também, renomear algumas colunas. Também iremos inserir algumas novas colunas para fortalecer as análises, tendo essas etapas ocorrendo na etapa de limpeza e tratamento dos dados."
   ]
  },
  {
   "attachments": {},
   "cell_type": "markdown",
   "metadata": {},
   "source": [
    "Para uma visão mais completa das dimensões dos dados que estamos trabalhando, vamos checar o shape do Dataset:"
   ]
  },
  {
   "cell_type": "code",
   "execution_count": 846,
   "metadata": {},
   "outputs": [
    {
     "data": {
      "text/plain": [
       "(6454, 5)"
      ]
     },
     "execution_count": 846,
     "metadata": {},
     "output_type": "execute_result"
    }
   ],
   "source": [
    "# Checando dimensões dos dados:\n",
    "data.shape"
   ]
  },
  {
   "attachments": {},
   "cell_type": "markdown",
   "metadata": {},
   "source": [
    "Temos ***6454 registros*** em ***5 variáveis***."
   ]
  },
  {
   "attachments": {},
   "cell_type": "markdown",
   "metadata": {},
   "source": [
    "Também se faz necessária a checagem do tipo de dados dessas variáveis:"
   ]
  },
  {
   "cell_type": "code",
   "execution_count": 847,
   "metadata": {},
   "outputs": [
    {
     "name": "stdout",
     "output_type": "stream",
     "text": [
      "<class 'pandas.core.frame.DataFrame'>\n",
      "RangeIndex: 6454 entries, 0 to 6453\n",
      "Data columns (total 5 columns):\n",
      " #   Column  Non-Null Count  Dtype  \n",
      "---  ------  --------------  -----  \n",
      " 0   year    6454 non-null   int64  \n",
      " 1   state   6454 non-null   object \n",
      " 2   month   6454 non-null   object \n",
      " 3   number  6454 non-null   float64\n",
      " 4   date    6454 non-null   object \n",
      "dtypes: float64(1), int64(1), object(3)\n",
      "memory usage: 252.2+ KB\n"
     ]
    }
   ],
   "source": [
    "data.info()"
   ]
  },
  {
   "attachments": {},
   "cell_type": "markdown",
   "metadata": {},
   "source": [
    "Com essa visualização, temos algumas informações importantes sobre os dados:\n",
    "\n",
    "- O dataset não possui null values;\n",
    "\n",
    "- As colunas `year`, `month` e `date` serão unidas numa só coluna datetime;\n",
    "\n",
    "- Os dados alocam pouca quantidade de memória (cerca de 250 Kb)."
   ]
  },
  {
   "attachments": {},
   "cell_type": "markdown",
   "metadata": {},
   "source": [
    "Para coletarmos mais informações sobre possíveis outliers e também sobre a distribuição dos dados, utilizaremos o método `.describe()`:"
   ]
  },
  {
   "cell_type": "code",
   "execution_count": 848,
   "metadata": {},
   "outputs": [
    {
     "data": {
      "text/html": [
       "<div>\n",
       "<style scoped>\n",
       "    .dataframe tbody tr th:only-of-type {\n",
       "        vertical-align: middle;\n",
       "    }\n",
       "\n",
       "    .dataframe tbody tr th {\n",
       "        vertical-align: top;\n",
       "    }\n",
       "\n",
       "    .dataframe thead th {\n",
       "        text-align: right;\n",
       "    }\n",
       "</style>\n",
       "<table border=\"1\" class=\"dataframe\">\n",
       "  <thead>\n",
       "    <tr style=\"text-align: right;\">\n",
       "      <th></th>\n",
       "      <th>count</th>\n",
       "      <th>mean</th>\n",
       "      <th>std</th>\n",
       "      <th>min</th>\n",
       "      <th>25%</th>\n",
       "      <th>50%</th>\n",
       "      <th>75%</th>\n",
       "      <th>max</th>\n",
       "    </tr>\n",
       "  </thead>\n",
       "  <tbody>\n",
       "    <tr>\n",
       "      <th>year</th>\n",
       "      <td>6454.0</td>\n",
       "      <td>2007.461729</td>\n",
       "      <td>5.746654</td>\n",
       "      <td>1998.0</td>\n",
       "      <td>2002.0</td>\n",
       "      <td>2007.0</td>\n",
       "      <td>2012.0</td>\n",
       "      <td>2017.0</td>\n",
       "    </tr>\n",
       "    <tr>\n",
       "      <th>number</th>\n",
       "      <td>6454.0</td>\n",
       "      <td>108.293163</td>\n",
       "      <td>190.812242</td>\n",
       "      <td>0.0</td>\n",
       "      <td>3.0</td>\n",
       "      <td>24.0</td>\n",
       "      <td>113.0</td>\n",
       "      <td>998.0</td>\n",
       "    </tr>\n",
       "  </tbody>\n",
       "</table>\n",
       "</div>"
      ],
      "text/plain": [
       "         count         mean         std     min     25%     50%     75%  \\\n",
       "year    6454.0  2007.461729    5.746654  1998.0  2002.0  2007.0  2012.0   \n",
       "number  6454.0   108.293163  190.812242     0.0     3.0    24.0   113.0   \n",
       "\n",
       "           max  \n",
       "year    2017.0  \n",
       "number   998.0  "
      ]
     },
     "execution_count": 848,
     "metadata": {},
     "output_type": "execute_result"
    }
   ],
   "source": [
    "# Descrição estatística dos dados (colunas numéricas):\n",
    "data.describe().T"
   ]
  },
  {
   "attachments": {},
   "cell_type": "markdown",
   "metadata": {},
   "source": [
    "Com a descrição estatística das colunas numéricas do dataset, podemos notar:\n",
    "\n",
    "- Até 75% dos dados (terceiro quantil) relacionados ao número de incêndios relatados vão até 113, já o valor máximo é de 998, um outlier claro.\n",
    "\n",
    "Nesse caso, outliers são esperados como \"normais\", pois se tratando de número de focos de incêndios florestais num país continental como o Brasil, não existe uma regra ou uma lógica exata que dita o intervalo desses números, tendo muitas variávies que os influenciam (ação humana mais intensa ou menos intensa numa determinada região num determinado período de tempo, uma estação do ano muito mais fria ou quente do que o normal, etc).\n",
    "\n",
    "Sendo assim, os registros de número de focos de incêndio não serão alterados, pois buscamos ter uma visão completa desses dados."
   ]
  },
  {
   "attachments": {},
   "cell_type": "markdown",
   "metadata": {},
   "source": [
    "Também iremos coletar informações sobre as colunas categóricas do dataset:"
   ]
  },
  {
   "cell_type": "code",
   "execution_count": 849,
   "metadata": {},
   "outputs": [
    {
     "data": {
      "text/html": [
       "<div>\n",
       "<style scoped>\n",
       "    .dataframe tbody tr th:only-of-type {\n",
       "        vertical-align: middle;\n",
       "    }\n",
       "\n",
       "    .dataframe tbody tr th {\n",
       "        vertical-align: top;\n",
       "    }\n",
       "\n",
       "    .dataframe thead th {\n",
       "        text-align: right;\n",
       "    }\n",
       "</style>\n",
       "<table border=\"1\" class=\"dataframe\">\n",
       "  <thead>\n",
       "    <tr style=\"text-align: right;\">\n",
       "      <th></th>\n",
       "      <th>count</th>\n",
       "      <th>unique</th>\n",
       "      <th>top</th>\n",
       "      <th>freq</th>\n",
       "    </tr>\n",
       "  </thead>\n",
       "  <tbody>\n",
       "    <tr>\n",
       "      <th>state</th>\n",
       "      <td>6454</td>\n",
       "      <td>23</td>\n",
       "      <td>Rio</td>\n",
       "      <td>717</td>\n",
       "    </tr>\n",
       "    <tr>\n",
       "      <th>month</th>\n",
       "      <td>6454</td>\n",
       "      <td>12</td>\n",
       "      <td>Janeiro</td>\n",
       "      <td>541</td>\n",
       "    </tr>\n",
       "    <tr>\n",
       "      <th>date</th>\n",
       "      <td>6454</td>\n",
       "      <td>20</td>\n",
       "      <td>1998-01-01</td>\n",
       "      <td>324</td>\n",
       "    </tr>\n",
       "  </tbody>\n",
       "</table>\n",
       "</div>"
      ],
      "text/plain": [
       "      count unique         top freq\n",
       "state  6454     23         Rio  717\n",
       "month  6454     12     Janeiro  541\n",
       "date   6454     20  1998-01-01  324"
      ]
     },
     "execution_count": 849,
     "metadata": {},
     "output_type": "execute_result"
    }
   ],
   "source": [
    "# Descrição estatística dos dados (colunas categóricas):\n",
    "data.describe(exclude='number').T"
   ]
  },
  {
   "attachments": {},
   "cell_type": "markdown",
   "metadata": {},
   "source": [
    "Com isso, temos a informação de que o estado que mais vezes consta no dataset é o Rio de Janeiro, com 717 registros diferentes de focos de incêndio.\n",
    "\n",
    "Também temos a informação de que o mês mais comum nos dados é Janeiro.\n",
    "\n",
    "É importante termos em mente que isso não necessariamente significa que o estado do Rio de Janeiro e o mês de Janeiro são os que mais possuem focos de incêndio no geral. Apenas estamos indicando que essas duas informações são as mais presentes nos dados, sem considerarmos a dimensão e quantidade dos focos de incêndio atribuidos a eles."
   ]
  },
  {
   "attachments": {},
   "cell_type": "markdown",
   "metadata": {},
   "source": [
    "# <font color='gold'> ***Limpeza e Tratamento*** 🗃️ </font>"
   ]
  },
  {
   "attachments": {},
   "cell_type": "markdown",
   "metadata": {},
   "source": [
    "Nessa etapa, iremos realizar todas as modificações e tratamentos que descrevemos anteriormente. Começando pelo refatoramento das colunas `year`, `date` e `month`. Para isso, iremos primeiramente definir uma função para iterar sobre nossos dados e passar os meses de linhas de texto para números."
   ]
  },
  {
   "attachments": {},
   "cell_type": "markdown",
   "metadata": {},
   "source": [
    "## **Reformulando formato de data**:"
   ]
  },
  {
   "cell_type": "code",
   "execution_count": 850,
   "metadata": {},
   "outputs": [],
   "source": [
    "def month_string_to_int(df: pd.DataFrame) -> pd.DataFrame:\n",
    "    '''Essa função pega um Dataframe fornecido pelo usuário e altera\n",
    "    os valores dos meses de linhas de texto para números.\n",
    "\n",
    "    Utilizando uma função lambda, checamos cada string dos meses, onde cada\n",
    "    uma delas recebe um número equivalente ao mês do ano.\n",
    "    '''\n",
    "    df['month'] = df['month'].apply(\n",
    "        lambda month_id:\n",
    "        1 if month_id == 'Janeiro' else\n",
    "        2 if month_id == 'Fevereiro' else\n",
    "        3 if month_id == 'Março' else\n",
    "        4 if month_id == 'Abril' else\n",
    "        5 if month_id == 'Maio' else\n",
    "        6 if month_id == 'Junho' else\n",
    "        7 if month_id == 'Julho' else\n",
    "        8 if month_id == 'Agosto' else\n",
    "        9 if month_id == 'Setembro' else\n",
    "        10 if month_id == 'Outubro' else\n",
    "        11 if month_id == 'Novembro' else\n",
    "        12 if month_id == 'Dezembro' else\n",
    "        month_id\n",
    "    )   \n"
   ]
  },
  {
   "attachments": {},
   "cell_type": "markdown",
   "metadata": {},
   "source": [
    "Antes de iniciarmos as modificações nos dados, é uma boa prática criar uma cópia dos mesmos, assim se preservam os dados no formato original e se cria outra versão para a limpeza e manipulação:"
   ]
  },
  {
   "cell_type": "code",
   "execution_count": 851,
   "metadata": {},
   "outputs": [],
   "source": [
    "# Criando cópia dos dados para limpeza:\n",
    "data_clean = data.copy()"
   ]
  },
  {
   "cell_type": "code",
   "execution_count": 852,
   "metadata": {},
   "outputs": [
    {
     "data": {
      "text/html": [
       "<div>\n",
       "<style scoped>\n",
       "    .dataframe tbody tr th:only-of-type {\n",
       "        vertical-align: middle;\n",
       "    }\n",
       "\n",
       "    .dataframe tbody tr th {\n",
       "        vertical-align: top;\n",
       "    }\n",
       "\n",
       "    .dataframe thead th {\n",
       "        text-align: right;\n",
       "    }\n",
       "</style>\n",
       "<table border=\"1\" class=\"dataframe\">\n",
       "  <thead>\n",
       "    <tr style=\"text-align: right;\">\n",
       "      <th></th>\n",
       "      <th>year</th>\n",
       "      <th>state</th>\n",
       "      <th>month</th>\n",
       "      <th>number</th>\n",
       "      <th>date</th>\n",
       "    </tr>\n",
       "  </thead>\n",
       "  <tbody>\n",
       "    <tr>\n",
       "      <th>3231</th>\n",
       "      <td>2001</td>\n",
       "      <td>Pará</td>\n",
       "      <td>7</td>\n",
       "      <td>708.000</td>\n",
       "      <td>2001-01-01</td>\n",
       "    </tr>\n",
       "    <tr>\n",
       "      <th>2963</th>\n",
       "      <td>2012</td>\n",
       "      <td>Minas Gerais</td>\n",
       "      <td>5</td>\n",
       "      <td>144.000</td>\n",
       "      <td>2012-01-01</td>\n",
       "    </tr>\n",
       "    <tr>\n",
       "      <th>6410</th>\n",
       "      <td>2013</td>\n",
       "      <td>Tocantins</td>\n",
       "      <td>10</td>\n",
       "      <td>2.155</td>\n",
       "      <td>2013-01-01</td>\n",
       "    </tr>\n",
       "    <tr>\n",
       "      <th>3776</th>\n",
       "      <td>2008</td>\n",
       "      <td>Paraiba</td>\n",
       "      <td>10</td>\n",
       "      <td>78.000</td>\n",
       "      <td>2008-01-01</td>\n",
       "    </tr>\n",
       "    <tr>\n",
       "      <th>1486</th>\n",
       "      <td>2009</td>\n",
       "      <td>Distrito Federal</td>\n",
       "      <td>3</td>\n",
       "      <td>0.000</td>\n",
       "      <td>2009-01-01</td>\n",
       "    </tr>\n",
       "  </tbody>\n",
       "</table>\n",
       "</div>"
      ],
      "text/plain": [
       "      year             state  month   number        date\n",
       "3231  2001              Pará      7  708.000  2001-01-01\n",
       "2963  2012      Minas Gerais      5  144.000  2012-01-01\n",
       "6410  2013         Tocantins     10    2.155  2013-01-01\n",
       "3776  2008           Paraiba     10   78.000  2008-01-01\n",
       "1486  2009  Distrito Federal      3    0.000  2009-01-01"
      ]
     },
     "execution_count": 852,
     "metadata": {},
     "output_type": "execute_result"
    }
   ],
   "source": [
    "# Aplicando a função no dataset:\n",
    "data_clean == month_string_to_int(data_clean)\n",
    "\n",
    "# Exibindo novos resultados:\n",
    "data_clean.sample(5)"
   ]
  },
  {
   "attachments": {},
   "cell_type": "markdown",
   "metadata": {},
   "source": [
    "Agora que os meses estão no formato numérico (ainda com o dtype string, porém com valores numéricos), vamos criar um método para unificar a coluna `month` com a coluna `year`, para termos o ano e o mês do incêndio florestal na mesma coluna:"
   ]
  },
  {
   "cell_type": "code",
   "execution_count": 853,
   "metadata": {},
   "outputs": [],
   "source": [
    "# Definindo quais as colunas a serem manipuladas:\n",
    "columns = ['year', 'month']\n",
    "\n",
    "# Com uma função lambda, unificaremos os valores da coluna 'year' e 'month'\n",
    "# utilizando o caracter '-', retornando assim a data no formato 'ano-mês':\n",
    "data_clean['date'] = data_clean[columns].apply(\n",
    "    lambda new_date: \n",
    "    '-'.join(new_date.values.astype(str)), axis=1\n",
    ")"
   ]
  },
  {
   "cell_type": "code",
   "execution_count": 854,
   "metadata": {},
   "outputs": [
    {
     "data": {
      "text/html": [
       "<div>\n",
       "<style scoped>\n",
       "    .dataframe tbody tr th:only-of-type {\n",
       "        vertical-align: middle;\n",
       "    }\n",
       "\n",
       "    .dataframe tbody tr th {\n",
       "        vertical-align: top;\n",
       "    }\n",
       "\n",
       "    .dataframe thead th {\n",
       "        text-align: right;\n",
       "    }\n",
       "</style>\n",
       "<table border=\"1\" class=\"dataframe\">\n",
       "  <thead>\n",
       "    <tr style=\"text-align: right;\">\n",
       "      <th></th>\n",
       "      <th>year</th>\n",
       "      <th>state</th>\n",
       "      <th>month</th>\n",
       "      <th>number</th>\n",
       "      <th>date</th>\n",
       "    </tr>\n",
       "  </thead>\n",
       "  <tbody>\n",
       "    <tr>\n",
       "      <th>6025</th>\n",
       "      <td>2007</td>\n",
       "      <td>Sergipe</td>\n",
       "      <td>3</td>\n",
       "      <td>2.0</td>\n",
       "      <td>2007-3</td>\n",
       "    </tr>\n",
       "    <tr>\n",
       "      <th>64</th>\n",
       "      <td>2002</td>\n",
       "      <td>Acre</td>\n",
       "      <td>4</td>\n",
       "      <td>0.0</td>\n",
       "      <td>2002-4</td>\n",
       "    </tr>\n",
       "    <tr>\n",
       "      <th>5436</th>\n",
       "      <td>2015</td>\n",
       "      <td>Roraima</td>\n",
       "      <td>9</td>\n",
       "      <td>77.0</td>\n",
       "      <td>2015-9</td>\n",
       "    </tr>\n",
       "    <tr>\n",
       "      <th>6274</th>\n",
       "      <td>2017</td>\n",
       "      <td>Tocantins</td>\n",
       "      <td>3</td>\n",
       "      <td>98.0</td>\n",
       "      <td>2017-3</td>\n",
       "    </tr>\n",
       "    <tr>\n",
       "      <th>1757</th>\n",
       "      <td>2001</td>\n",
       "      <td>Espirito Santo</td>\n",
       "      <td>5</td>\n",
       "      <td>8.0</td>\n",
       "      <td>2001-5</td>\n",
       "    </tr>\n",
       "  </tbody>\n",
       "</table>\n",
       "</div>"
      ],
      "text/plain": [
       "      year           state  month  number    date\n",
       "6025  2007         Sergipe      3     2.0  2007-3\n",
       "64    2002            Acre      4     0.0  2002-4\n",
       "5436  2015         Roraima      9    77.0  2015-9\n",
       "6274  2017       Tocantins      3    98.0  2017-3\n",
       "1757  2001  Espirito Santo      5     8.0  2001-5"
      ]
     },
     "execution_count": 854,
     "metadata": {},
     "output_type": "execute_result"
    }
   ],
   "source": [
    "# Checando resultados:\n",
    "data_clean.sample(5)"
   ]
  },
  {
   "attachments": {},
   "cell_type": "markdown",
   "metadata": {},
   "source": [
    "Agora que temos a coluna `date` constando o ano e o mês do incêndio florestal, basta atribuir o data type `datetime` à ela:"
   ]
  },
  {
   "cell_type": "code",
   "execution_count": 855,
   "metadata": {},
   "outputs": [
    {
     "data": {
      "text/html": [
       "<div>\n",
       "<style scoped>\n",
       "    .dataframe tbody tr th:only-of-type {\n",
       "        vertical-align: middle;\n",
       "    }\n",
       "\n",
       "    .dataframe tbody tr th {\n",
       "        vertical-align: top;\n",
       "    }\n",
       "\n",
       "    .dataframe thead th {\n",
       "        text-align: right;\n",
       "    }\n",
       "</style>\n",
       "<table border=\"1\" class=\"dataframe\">\n",
       "  <thead>\n",
       "    <tr style=\"text-align: right;\">\n",
       "      <th></th>\n",
       "      <th>year</th>\n",
       "      <th>state</th>\n",
       "      <th>month</th>\n",
       "      <th>number</th>\n",
       "      <th>date</th>\n",
       "    </tr>\n",
       "  </thead>\n",
       "  <tbody>\n",
       "    <tr>\n",
       "      <th>3982</th>\n",
       "      <td>2015</td>\n",
       "      <td>Pernambuco</td>\n",
       "      <td>8</td>\n",
       "      <td>21.000</td>\n",
       "      <td>2015-08-01</td>\n",
       "    </tr>\n",
       "    <tr>\n",
       "      <th>6440</th>\n",
       "      <td>2003</td>\n",
       "      <td>Tocantins</td>\n",
       "      <td>12</td>\n",
       "      <td>109.000</td>\n",
       "      <td>2003-12-01</td>\n",
       "    </tr>\n",
       "    <tr>\n",
       "      <th>2583</th>\n",
       "      <td>2010</td>\n",
       "      <td>Mato Grosso</td>\n",
       "      <td>10</td>\n",
       "      <td>4.465</td>\n",
       "      <td>2010-10-01</td>\n",
       "    </tr>\n",
       "    <tr>\n",
       "      <th>1850</th>\n",
       "      <td>2014</td>\n",
       "      <td>Espirito Santo</td>\n",
       "      <td>9</td>\n",
       "      <td>61.000</td>\n",
       "      <td>2014-09-01</td>\n",
       "    </tr>\n",
       "    <tr>\n",
       "      <th>1061</th>\n",
       "      <td>2002</td>\n",
       "      <td>Bahia</td>\n",
       "      <td>6</td>\n",
       "      <td>118.000</td>\n",
       "      <td>2002-06-01</td>\n",
       "    </tr>\n",
       "  </tbody>\n",
       "</table>\n",
       "</div>"
      ],
      "text/plain": [
       "      year           state  month   number       date\n",
       "3982  2015      Pernambuco      8   21.000 2015-08-01\n",
       "6440  2003       Tocantins     12  109.000 2003-12-01\n",
       "2583  2010     Mato Grosso     10    4.465 2010-10-01\n",
       "1850  2014  Espirito Santo      9   61.000 2014-09-01\n",
       "1061  2002           Bahia      6  118.000 2002-06-01"
      ]
     },
     "execution_count": 855,
     "metadata": {},
     "output_type": "execute_result"
    }
   ],
   "source": [
    "# Transformando a coluna date para datetime:\n",
    "data_clean['date'] = pd.to_datetime(data_clean['date'])\n",
    "\n",
    "# Checando resultados:\n",
    "data_clean.sample(5)"
   ]
  },
  {
   "cell_type": "code",
   "execution_count": 856,
   "metadata": {},
   "outputs": [
    {
     "data": {
      "text/plain": [
       "year               int64\n",
       "state             object\n",
       "month              int64\n",
       "number           float64\n",
       "date      datetime64[ns]\n",
       "dtype: object"
      ]
     },
     "execution_count": 856,
     "metadata": {},
     "output_type": "execute_result"
    }
   ],
   "source": [
    "# Checando dtypes:\n",
    "data_clean.dtypes"
   ]
  },
  {
   "attachments": {},
   "cell_type": "markdown",
   "metadata": {},
   "source": [
    "Com essa nova coluna `date`, temos a informação das datas dos incêndios florestais no formato apropriado. Agora, vamos dropar as colunas `year` e `month`:"
   ]
  },
  {
   "cell_type": "code",
   "execution_count": 857,
   "metadata": {},
   "outputs": [],
   "source": [
    "# Excluindo coluna month:\n",
    "data_clean = data_clean.drop(['month', 'year'], axis=1)"
   ]
  },
  {
   "cell_type": "code",
   "execution_count": 858,
   "metadata": {},
   "outputs": [
    {
     "data": {
      "text/html": [
       "<div>\n",
       "<style scoped>\n",
       "    .dataframe tbody tr th:only-of-type {\n",
       "        vertical-align: middle;\n",
       "    }\n",
       "\n",
       "    .dataframe tbody tr th {\n",
       "        vertical-align: top;\n",
       "    }\n",
       "\n",
       "    .dataframe thead th {\n",
       "        text-align: right;\n",
       "    }\n",
       "</style>\n",
       "<table border=\"1\" class=\"dataframe\">\n",
       "  <thead>\n",
       "    <tr style=\"text-align: right;\">\n",
       "      <th></th>\n",
       "      <th>state</th>\n",
       "      <th>number</th>\n",
       "      <th>date</th>\n",
       "    </tr>\n",
       "  </thead>\n",
       "  <tbody>\n",
       "    <tr>\n",
       "      <th>3080</th>\n",
       "      <td>Minas Gerais</td>\n",
       "      <td>246.000</td>\n",
       "      <td>2009-11-01</td>\n",
       "    </tr>\n",
       "    <tr>\n",
       "      <th>2074</th>\n",
       "      <td>Goias</td>\n",
       "      <td>1.898</td>\n",
       "      <td>1999-09-01</td>\n",
       "    </tr>\n",
       "    <tr>\n",
       "      <th>1555</th>\n",
       "      <td>Distrito Federal</td>\n",
       "      <td>17.000</td>\n",
       "      <td>1998-07-01</td>\n",
       "    </tr>\n",
       "    <tr>\n",
       "      <th>5713</th>\n",
       "      <td>Santa Catarina</td>\n",
       "      <td>84.000</td>\n",
       "      <td>2013-11-01</td>\n",
       "    </tr>\n",
       "    <tr>\n",
       "      <th>1901</th>\n",
       "      <td>Espirito Santo</td>\n",
       "      <td>5.000</td>\n",
       "      <td>2005-12-01</td>\n",
       "    </tr>\n",
       "  </tbody>\n",
       "</table>\n",
       "</div>"
      ],
      "text/plain": [
       "                 state   number       date\n",
       "3080      Minas Gerais  246.000 2009-11-01\n",
       "2074             Goias    1.898 1999-09-01\n",
       "1555  Distrito Federal   17.000 1998-07-01\n",
       "5713    Santa Catarina   84.000 2013-11-01\n",
       "1901    Espirito Santo    5.000 2005-12-01"
      ]
     },
     "execution_count": 858,
     "metadata": {},
     "output_type": "execute_result"
    }
   ],
   "source": [
    "# Checando novo formato dos dados:\n",
    "data_clean.sample(5)"
   ]
  },
  {
   "attachments": {},
   "cell_type": "markdown",
   "metadata": {},
   "source": [
    "## **Criando novas variáveis**"
   ]
  },
  {
   "attachments": {},
   "cell_type": "markdown",
   "metadata": {},
   "source": [
    "Com os dados no formato atual, já se é possível realizar algumas análises, porém, visamos nesse projeto uma visão mais aprofundada dos incêndios florestais no Brasil, e por essa razão se faz necessária a criação de algumas novas variáveis para nossos dados, sendo elas:\n",
    "\n",
    "- Coluna `UF` > A coluna que representará a Unidade da Federação do estado (SP, RJ, BA, etc). Essa coluna será criada pois os nomes dos estados não podem ser confiados de estarem no formato adequado para criação de Dashboards e análises, como exemplo, o estado do Rio de Janeiro apenas consta com o nome 'Rio' no dataset. Sendo assim, a criação da coluna UF vem como forma de padronizar esses indicadores de estado.\n",
    "\n",
    "- Coluna `Region` > A coluna que representará a região brasileira na qual o estado pertence (Norte, Sul, Sudeste, etc). Essa coluna será concebida como forma de aprofundar as análises posteriores, nos possibilitando ter respostas acerca de quais regiões foram mais e menos afetadas pelos incêndios.\n",
    "\n",
    "- Coluna `President` > A coluna que representará o nome de qual mandatário brasileiro estava em vigência quando os incêndios ocorreram. Essa coluna nos permitirá ter um olhar mais histórico acerca desses registros, onde poderemos comparar as diferentes gestões dos diversos mandatários nesses períodos e identificar quais passaram por um período de mais ou menos incêndios."
   ]
  },
  {
   "attachments": {},
   "cell_type": "markdown",
   "metadata": {},
   "source": [
    "### Criando coluna: UF"
   ]
  },
  {
   "attachments": {},
   "cell_type": "markdown",
   "metadata": {},
   "source": [
    "Para a criação da coluna `UF`, iremos criar uma função que percorre os dados e atribui a UF correta para seu respectivo estado, para isso, vamos checar quais são os estados presentes no Dataset:"
   ]
  },
  {
   "cell_type": "code",
   "execution_count": 859,
   "metadata": {},
   "outputs": [
    {
     "name": "stdout",
     "output_type": "stream",
     "text": [
      "Estado  1 --> Acre\n",
      "Estado  2 --> Alagoas\n",
      "Estado  3 --> Amapa\n",
      "Estado  4 --> Amazonas\n",
      "Estado  5 --> Bahia\n",
      "Estado  6 --> Ceara\n",
      "Estado  7 --> Distrito Federal\n",
      "Estado  8 --> Espirito Santo\n",
      "Estado  9 --> Goias\n",
      "Estado 10 --> Maranhao\n",
      "Estado 11 --> Mato Grosso\n",
      "Estado 12 --> Minas Gerais\n",
      "Estado 13 --> Pará\n",
      "Estado 14 --> Paraiba\n",
      "Estado 15 --> Pernambuco\n",
      "Estado 16 --> Piau\n",
      "Estado 17 --> Rio\n",
      "Estado 18 --> Rondonia\n",
      "Estado 19 --> Roraima\n",
      "Estado 20 --> Santa Catarina\n",
      "Estado 21 --> Sao Paulo\n",
      "Estado 22 --> Sergipe\n",
      "Estado 23 --> Tocantins\n"
     ]
    }
   ],
   "source": [
    "# Checando quais estados aparecem nos dados:\n",
    "states = list(data_clean['state'].unique())\n",
    "\n",
    "for (index, names) in enumerate(states, start=1):\n",
    "    print(f'Estado {index:2} --> {names}')"
   ]
  },
  {
   "attachments": {},
   "cell_type": "markdown",
   "metadata": {},
   "source": [
    "É aparente que nem todos os estados da nação estão presentes nos dados. Temos 23 estados diferentes porém o Brasil possuí 27 unidades federativas. \n",
    "\n",
    "Outro fator relevante é o registro errado do estado de Piauí, que consta apenas como 'Piau'. Esse registro errado apenas fortalece o motivo da qual estamos criando a coluna UF, para padronizar esses dados e garantir que todos estão corretamente representados.\n",
    "\n",
    "Antes de definir nossa função de criação das UFs, vamos corrigir essa entrada do estado de Piauí e também adicionar o nome completo do estado do Rio de Janeiro:"
   ]
  },
  {
   "cell_type": "code",
   "execution_count": 860,
   "metadata": {},
   "outputs": [
    {
     "data": {
      "text/html": [
       "<div>\n",
       "<style scoped>\n",
       "    .dataframe tbody tr th:only-of-type {\n",
       "        vertical-align: middle;\n",
       "    }\n",
       "\n",
       "    .dataframe tbody tr th {\n",
       "        vertical-align: top;\n",
       "    }\n",
       "\n",
       "    .dataframe thead th {\n",
       "        text-align: right;\n",
       "    }\n",
       "</style>\n",
       "<table border=\"1\" class=\"dataframe\">\n",
       "  <thead>\n",
       "    <tr style=\"text-align: right;\">\n",
       "      <th></th>\n",
       "      <th>state</th>\n",
       "      <th>number</th>\n",
       "      <th>date</th>\n",
       "    </tr>\n",
       "  </thead>\n",
       "  <tbody>\n",
       "    <tr>\n",
       "      <th>4763</th>\n",
       "      <td>Rio de Janeiro</td>\n",
       "      <td>29.0</td>\n",
       "      <td>1999-12-01</td>\n",
       "    </tr>\n",
       "    <tr>\n",
       "      <th>4494</th>\n",
       "      <td>Rio de Janeiro</td>\n",
       "      <td>18.0</td>\n",
       "      <td>2009-10-01</td>\n",
       "    </tr>\n",
       "    <tr>\n",
       "      <th>4961</th>\n",
       "      <td>Rio de Janeiro</td>\n",
       "      <td>169.0</td>\n",
       "      <td>1998-10-01</td>\n",
       "    </tr>\n",
       "    <tr>\n",
       "      <th>4541</th>\n",
       "      <td>Rio de Janeiro</td>\n",
       "      <td>5.0</td>\n",
       "      <td>2016-12-01</td>\n",
       "    </tr>\n",
       "    <tr>\n",
       "      <th>4831</th>\n",
       "      <td>Rio de Janeiro</td>\n",
       "      <td>38.0</td>\n",
       "      <td>2008-03-01</td>\n",
       "    </tr>\n",
       "  </tbody>\n",
       "</table>\n",
       "</div>"
      ],
      "text/plain": [
       "               state  number       date\n",
       "4763  Rio de Janeiro    29.0 1999-12-01\n",
       "4494  Rio de Janeiro    18.0 2009-10-01\n",
       "4961  Rio de Janeiro   169.0 1998-10-01\n",
       "4541  Rio de Janeiro     5.0 2016-12-01\n",
       "4831  Rio de Janeiro    38.0 2008-03-01"
      ]
     },
     "execution_count": 860,
     "metadata": {},
     "output_type": "execute_result"
    }
   ],
   "source": [
    "# Corrigindo registros de Rio de Janeiro e Piauí:\n",
    "data_clean['state'] = (\n",
    "    data_clean['state']\n",
    "    .replace(['Rio', 'Piau'], ['Rio de Janeiro', 'Piaui'])\n",
    ")\n",
    "\n",
    "# Checando os novos registros:\n",
    "data_clean.query('state == \"Rio de Janeiro\" | state == \"Piaui\"').sample(5)"
   ]
  },
  {
   "attachments": {},
   "cell_type": "markdown",
   "metadata": {},
   "source": [
    "Com os estados presentes nos dados de maneira correta, podemos definir nossa função de atribuição das UFs:"
   ]
  },
  {
   "cell_type": "code",
   "execution_count": 861,
   "metadata": {},
   "outputs": [],
   "source": [
    "def set_uf(df: pd.DataFrame) -> pd.DataFrame:\n",
    "    '''Essa função recebe um dataframe, itera sobre os registros e\n",
    "    atribui aos estados suas respectivas UFs.\n",
    "    \n",
    "    Para isso, criamos um dicionário que contém o par 'estado: UF' e \n",
    "    e atribuímos diretamente esses valores a nova coluna.\n",
    "    '''\n",
    "    state_uf = {\n",
    "        'Acre': 'AC',\n",
    "        'Alagoas': 'AL',\n",
    "        'Amapa': 'AP',\n",
    "        'Amazonas': 'AM',\n",
    "        'Bahia': 'BA',\n",
    "        'Ceara': 'CE',\n",
    "        'Distrito Federal': 'DF',\n",
    "        'Espirito Santo': 'ES',\n",
    "        'Goias': 'GO',\n",
    "        'Maranhao': 'MA',\n",
    "        'Mato Grosso': 'MT',\n",
    "        'Minas Gerais': 'MG',\n",
    "        'Pará': 'PA',\n",
    "        'Paraiba': 'PB',\n",
    "        'Pernambuco': 'PE',\n",
    "        'Piaui': 'PI',\n",
    "        'Rio de Janeiro': 'RJ',\n",
    "        'Rondonia': 'RO',\n",
    "        'Roraima': 'RR',\n",
    "        'Santa Catarina': 'SC',\n",
    "        'Sao Paulo': 'SP',\n",
    "        'Sergipe': 'SE',\n",
    "        'Tocantins': 'TO'\n",
    "    }\n",
    "\n",
    "    df['UF'] = df['state'].map(state_uf)\n",
    "\n",
    "    return df"
   ]
  },
  {
   "cell_type": "code",
   "execution_count": 862,
   "metadata": {},
   "outputs": [
    {
     "data": {
      "text/html": [
       "<div>\n",
       "<style scoped>\n",
       "    .dataframe tbody tr th:only-of-type {\n",
       "        vertical-align: middle;\n",
       "    }\n",
       "\n",
       "    .dataframe tbody tr th {\n",
       "        vertical-align: top;\n",
       "    }\n",
       "\n",
       "    .dataframe thead th {\n",
       "        text-align: right;\n",
       "    }\n",
       "</style>\n",
       "<table border=\"1\" class=\"dataframe\">\n",
       "  <thead>\n",
       "    <tr style=\"text-align: right;\">\n",
       "      <th></th>\n",
       "      <th>state</th>\n",
       "      <th>number</th>\n",
       "      <th>date</th>\n",
       "      <th>UF</th>\n",
       "    </tr>\n",
       "  </thead>\n",
       "  <tbody>\n",
       "    <tr>\n",
       "      <th>1739</th>\n",
       "      <td>Espirito Santo</td>\n",
       "      <td>22.0</td>\n",
       "      <td>2003-04-01</td>\n",
       "      <td>ES</td>\n",
       "    </tr>\n",
       "    <tr>\n",
       "      <th>1028</th>\n",
       "      <td>Bahia</td>\n",
       "      <td>40.0</td>\n",
       "      <td>2009-04-01</td>\n",
       "      <td>BA</td>\n",
       "    </tr>\n",
       "    <tr>\n",
       "      <th>5498</th>\n",
       "      <td>Santa Catarina</td>\n",
       "      <td>0.0</td>\n",
       "      <td>1998-01-01</td>\n",
       "      <td>SC</td>\n",
       "    </tr>\n",
       "    <tr>\n",
       "      <th>1885</th>\n",
       "      <td>Espirito Santo</td>\n",
       "      <td>18.0</td>\n",
       "      <td>2009-11-01</td>\n",
       "      <td>ES</td>\n",
       "    </tr>\n",
       "    <tr>\n",
       "      <th>4930</th>\n",
       "      <td>Rio de Janeiro</td>\n",
       "      <td>258.0</td>\n",
       "      <td>2007-08-01</td>\n",
       "      <td>RJ</td>\n",
       "    </tr>\n",
       "  </tbody>\n",
       "</table>\n",
       "</div>"
      ],
      "text/plain": [
       "               state  number       date  UF\n",
       "1739  Espirito Santo    22.0 2003-04-01  ES\n",
       "1028           Bahia    40.0 2009-04-01  BA\n",
       "5498  Santa Catarina     0.0 1998-01-01  SC\n",
       "1885  Espirito Santo    18.0 2009-11-01  ES\n",
       "4930  Rio de Janeiro   258.0 2007-08-01  RJ"
      ]
     },
     "execution_count": 862,
     "metadata": {},
     "output_type": "execute_result"
    }
   ],
   "source": [
    "# Aplicando a função:\n",
    "data_clean = set_uf(data_clean)\n",
    "\n",
    "# Exibindo resultados:\n",
    "data_clean.sample(5)"
   ]
  },
  {
   "attachments": {},
   "cell_type": "markdown",
   "metadata": {},
   "source": [
    "### Criando coluna: Region"
   ]
  },
  {
   "attachments": {},
   "cell_type": "markdown",
   "metadata": {},
   "source": [
    "Para adicionar as regiões de cada estado, vamos criar uma função que itera sobre os registros e atribui a cada estado sua devida região:"
   ]
  },
  {
   "cell_type": "code",
   "execution_count": 863,
   "metadata": {},
   "outputs": [],
   "source": [
    "def set_region(df: pd.DataFrame) -> pd.DataFrame:\n",
    "    '''Essa função adiciona as regiões dos respectivos\n",
    "    estados com base em sua UF.\n",
    "    \n",
    "    Delimita-se uma lista com os estados para cada região e utiliza-se\n",
    "    uma função lambda para aplicar ao dataset.\n",
    "    '''\n",
    "    regiao_norte = ['AC', 'AP', 'AM', 'PA', 'RO', 'RR', 'TO']\n",
    "    regiao_nordeste = ['AL', 'BA', 'CE', 'MA', 'PB', 'PE', 'PI', 'SE']\n",
    "    regiao_centro_oeste = ['DF', 'GO', 'MT']\n",
    "    regiao_sudeste = ['ES', 'MG', 'RJ', 'SP']\n",
    "    regiao_sul = ['SC']\n",
    "\n",
    "    df['Region'] = df['UF'].apply(\n",
    "        lambda state:\n",
    "        'Norte' if state in regiao_norte else\n",
    "        'Nordeste' if state in regiao_nordeste else\n",
    "        'Centro Oeste' if state in regiao_centro_oeste else\n",
    "        'Sudeste' if state in regiao_sudeste else\n",
    "        'Sul' if state in regiao_sul else\n",
    "        state\n",
    "    )\n",
    "\n",
    "    return df"
   ]
  },
  {
   "cell_type": "code",
   "execution_count": 864,
   "metadata": {},
   "outputs": [
    {
     "data": {
      "text/html": [
       "<div>\n",
       "<style scoped>\n",
       "    .dataframe tbody tr th:only-of-type {\n",
       "        vertical-align: middle;\n",
       "    }\n",
       "\n",
       "    .dataframe tbody tr th {\n",
       "        vertical-align: top;\n",
       "    }\n",
       "\n",
       "    .dataframe thead th {\n",
       "        text-align: right;\n",
       "    }\n",
       "</style>\n",
       "<table border=\"1\" class=\"dataframe\">\n",
       "  <thead>\n",
       "    <tr style=\"text-align: right;\">\n",
       "      <th></th>\n",
       "      <th>state</th>\n",
       "      <th>number</th>\n",
       "      <th>date</th>\n",
       "      <th>UF</th>\n",
       "      <th>Region</th>\n",
       "    </tr>\n",
       "  </thead>\n",
       "  <tbody>\n",
       "    <tr>\n",
       "      <th>3422</th>\n",
       "      <td>Paraiba</td>\n",
       "      <td>6.000</td>\n",
       "      <td>2013-04-01</td>\n",
       "      <td>PB</td>\n",
       "      <td>Nordeste</td>\n",
       "    </tr>\n",
       "    <tr>\n",
       "      <th>3115</th>\n",
       "      <td>Pará</td>\n",
       "      <td>1.768</td>\n",
       "      <td>2005-01-01</td>\n",
       "      <td>PA</td>\n",
       "      <td>Norte</td>\n",
       "    </tr>\n",
       "    <tr>\n",
       "      <th>1375</th>\n",
       "      <td>Ceara</td>\n",
       "      <td>505.000</td>\n",
       "      <td>2017-09-01</td>\n",
       "      <td>CE</td>\n",
       "      <td>Nordeste</td>\n",
       "    </tr>\n",
       "    <tr>\n",
       "      <th>818</th>\n",
       "      <td>Amazonas</td>\n",
       "      <td>2.000</td>\n",
       "      <td>1998-06-01</td>\n",
       "      <td>AM</td>\n",
       "      <td>Norte</td>\n",
       "    </tr>\n",
       "    <tr>\n",
       "      <th>2904</th>\n",
       "      <td>Minas Gerais</td>\n",
       "      <td>143.000</td>\n",
       "      <td>2013-02-01</td>\n",
       "      <td>MG</td>\n",
       "      <td>Sudeste</td>\n",
       "    </tr>\n",
       "  </tbody>\n",
       "</table>\n",
       "</div>"
      ],
      "text/plain": [
       "             state   number       date  UF    Region\n",
       "3422       Paraiba    6.000 2013-04-01  PB  Nordeste\n",
       "3115          Pará    1.768 2005-01-01  PA     Norte\n",
       "1375         Ceara  505.000 2017-09-01  CE  Nordeste\n",
       "818       Amazonas    2.000 1998-06-01  AM     Norte\n",
       "2904  Minas Gerais  143.000 2013-02-01  MG   Sudeste"
      ]
     },
     "execution_count": 864,
     "metadata": {},
     "output_type": "execute_result"
    }
   ],
   "source": [
    "# Aplicando a função:\n",
    "data_clean = set_region(data_clean)\n",
    "\n",
    "# Checando novos dados:\n",
    "data_clean.sample(5)"
   ]
  },
  {
   "attachments": {},
   "cell_type": "markdown",
   "metadata": {},
   "source": [
    "### Criando coluna: President"
   ]
  },
  {
   "attachments": {},
   "cell_type": "markdown",
   "metadata": {},
   "source": [
    "Para podermos inserir nos dados o mandatário vigente durante os registros de incêndio florestal, primeiro iremos checar o intervalo de tempo que temos nos dados:"
   ]
  },
  {
   "cell_type": "code",
   "execution_count": 865,
   "metadata": {},
   "outputs": [
    {
     "name": "stdout",
     "output_type": "stream",
     "text": [
      "Ano mínimo: 1998\n",
      "Ano máximo: 2017\n"
     ]
    }
   ],
   "source": [
    "# Checando intervalo de anos:\n",
    "print(f'Ano mínimo: {data_clean.date.min().year}')\n",
    "print(f'Ano máximo: {data_clean.date.max().year}')"
   ]
  },
  {
   "attachments": {},
   "cell_type": "markdown",
   "metadata": {},
   "source": [
    "Com os anos definidos, utilizando uma [lista com todos os mandatários](https://pt.wikipedia.org/wiki/Lista_de_presidentes_do_Brasil) do Brasil, iremos atribuí-los aos respectivos períodos que constam nos dados. Para isso, utilizaremos uma função:"
   ]
  },
  {
   "cell_type": "code",
   "execution_count": 866,
   "metadata": {},
   "outputs": [],
   "source": [
    "def set_president(df: pd.DataFrame) -> pd.DataFrame:\n",
    "    '''Essa função itera sobre os anos do dataset e atribuí a uma nova coluna\n",
    "    o nome do mandatário vigente durante esse período.\n",
    "    '''\n",
    "    df['President'] = df['date'].apply(\n",
    "        lambda date:\n",
    "        'FHC' if (date.strftime('%Y-%M') > '1997-01' and \n",
    "                    date.strftime('%Y-%M') < '2002-12') else\n",
    "        'Lula' if (date.strftime('%Y-%M') > '2002-12' and \n",
    "                    date.strftime('%Y-%M') < '2010-12') else\n",
    "        'Dilma' if (date.strftime('%Y-%M') > '2010-12' and \n",
    "                    date.strftime('%Y-%M') < '2016-12') else\n",
    "        'Temer' if (date.strftime('%Y-%M') > '2016-12') else\n",
    "        date\n",
    "    )\n",
    "\n",
    "    return df"
   ]
  },
  {
   "cell_type": "code",
   "execution_count": 867,
   "metadata": {},
   "outputs": [
    {
     "data": {
      "text/html": [
       "<div>\n",
       "<style scoped>\n",
       "    .dataframe tbody tr th:only-of-type {\n",
       "        vertical-align: middle;\n",
       "    }\n",
       "\n",
       "    .dataframe tbody tr th {\n",
       "        vertical-align: top;\n",
       "    }\n",
       "\n",
       "    .dataframe thead th {\n",
       "        text-align: right;\n",
       "    }\n",
       "</style>\n",
       "<table border=\"1\" class=\"dataframe\">\n",
       "  <thead>\n",
       "    <tr style=\"text-align: right;\">\n",
       "      <th></th>\n",
       "      <th>state</th>\n",
       "      <th>number</th>\n",
       "      <th>date</th>\n",
       "      <th>UF</th>\n",
       "      <th>Region</th>\n",
       "      <th>President</th>\n",
       "    </tr>\n",
       "  </thead>\n",
       "  <tbody>\n",
       "    <tr>\n",
       "      <th>5576</th>\n",
       "      <td>Santa Catarina</td>\n",
       "      <td>36.0</td>\n",
       "      <td>2016-04-01</td>\n",
       "      <td>SC</td>\n",
       "      <td>Sul</td>\n",
       "      <td>Dilma</td>\n",
       "    </tr>\n",
       "    <tr>\n",
       "      <th>109</th>\n",
       "      <td>Acre</td>\n",
       "      <td>4.0</td>\n",
       "      <td>2007-06-01</td>\n",
       "      <td>AC</td>\n",
       "      <td>Norte</td>\n",
       "      <td>Lula</td>\n",
       "    </tr>\n",
       "    <tr>\n",
       "      <th>551</th>\n",
       "      <td>Amapa</td>\n",
       "      <td>2.0</td>\n",
       "      <td>2010-04-01</td>\n",
       "      <td>AP</td>\n",
       "      <td>Norte</td>\n",
       "      <td>Lula</td>\n",
       "    </tr>\n",
       "    <tr>\n",
       "      <th>2021</th>\n",
       "      <td>Goias</td>\n",
       "      <td>70.0</td>\n",
       "      <td>2006-06-01</td>\n",
       "      <td>GO</td>\n",
       "      <td>Centro Oeste</td>\n",
       "      <td>Lula</td>\n",
       "    </tr>\n",
       "    <tr>\n",
       "      <th>4070</th>\n",
       "      <td>Piaui</td>\n",
       "      <td>42.0</td>\n",
       "      <td>2004-01-01</td>\n",
       "      <td>PI</td>\n",
       "      <td>Nordeste</td>\n",
       "      <td>Lula</td>\n",
       "    </tr>\n",
       "  </tbody>\n",
       "</table>\n",
       "</div>"
      ],
      "text/plain": [
       "               state  number       date  UF        Region President\n",
       "5576  Santa Catarina    36.0 2016-04-01  SC           Sul     Dilma\n",
       "109             Acre     4.0 2007-06-01  AC         Norte      Lula\n",
       "551            Amapa     2.0 2010-04-01  AP         Norte      Lula\n",
       "2021           Goias    70.0 2006-06-01  GO  Centro Oeste      Lula\n",
       "4070           Piaui    42.0 2004-01-01  PI      Nordeste      Lula"
      ]
     },
     "execution_count": 867,
     "metadata": {},
     "output_type": "execute_result"
    }
   ],
   "source": [
    "# Aplicando a função:\n",
    "data_clean = set_president(data_clean)\n",
    "\n",
    "# Visualizando novos resultados:\n",
    "data_clean.sample(5)"
   ]
  },
  {
   "attachments": {},
   "cell_type": "markdown",
   "metadata": {},
   "source": [
    "Com todas as colunas necessárias criadas para as análises, vamos realizar os últimos ajustes nos dados, isto é, renomear as colunas e reposicioná-las no dataset:"
   ]
  },
  {
   "attachments": {},
   "cell_type": "markdown",
   "metadata": {},
   "source": [
    "### Renomeando e Reposicionando Colunas"
   ]
  },
  {
   "cell_type": "code",
   "execution_count": 868,
   "metadata": {},
   "outputs": [
    {
     "data": {
      "text/html": [
       "<div>\n",
       "<style scoped>\n",
       "    .dataframe tbody tr th:only-of-type {\n",
       "        vertical-align: middle;\n",
       "    }\n",
       "\n",
       "    .dataframe tbody tr th {\n",
       "        vertical-align: top;\n",
       "    }\n",
       "\n",
       "    .dataframe thead th {\n",
       "        text-align: right;\n",
       "    }\n",
       "</style>\n",
       "<table border=\"1\" class=\"dataframe\">\n",
       "  <thead>\n",
       "    <tr style=\"text-align: right;\">\n",
       "      <th></th>\n",
       "      <th>State</th>\n",
       "      <th>UF</th>\n",
       "      <th>Region</th>\n",
       "      <th>Num_wild_fires</th>\n",
       "      <th>Date</th>\n",
       "      <th>President</th>\n",
       "    </tr>\n",
       "  </thead>\n",
       "  <tbody>\n",
       "    <tr>\n",
       "      <th>0</th>\n",
       "      <td>Acre</td>\n",
       "      <td>AC</td>\n",
       "      <td>Norte</td>\n",
       "      <td>0.0</td>\n",
       "      <td>1998-01-01</td>\n",
       "      <td>FHC</td>\n",
       "    </tr>\n",
       "    <tr>\n",
       "      <th>1</th>\n",
       "      <td>Acre</td>\n",
       "      <td>AC</td>\n",
       "      <td>Norte</td>\n",
       "      <td>0.0</td>\n",
       "      <td>1999-01-01</td>\n",
       "      <td>FHC</td>\n",
       "    </tr>\n",
       "    <tr>\n",
       "      <th>2</th>\n",
       "      <td>Acre</td>\n",
       "      <td>AC</td>\n",
       "      <td>Norte</td>\n",
       "      <td>0.0</td>\n",
       "      <td>2000-01-01</td>\n",
       "      <td>FHC</td>\n",
       "    </tr>\n",
       "    <tr>\n",
       "      <th>3</th>\n",
       "      <td>Acre</td>\n",
       "      <td>AC</td>\n",
       "      <td>Norte</td>\n",
       "      <td>0.0</td>\n",
       "      <td>2001-01-01</td>\n",
       "      <td>FHC</td>\n",
       "    </tr>\n",
       "    <tr>\n",
       "      <th>4</th>\n",
       "      <td>Acre</td>\n",
       "      <td>AC</td>\n",
       "      <td>Norte</td>\n",
       "      <td>0.0</td>\n",
       "      <td>2002-01-01</td>\n",
       "      <td>FHC</td>\n",
       "    </tr>\n",
       "  </tbody>\n",
       "</table>\n",
       "</div>"
      ],
      "text/plain": [
       "  State  UF Region  Num_wild_fires       Date President\n",
       "0  Acre  AC  Norte             0.0 1998-01-01       FHC\n",
       "1  Acre  AC  Norte             0.0 1999-01-01       FHC\n",
       "2  Acre  AC  Norte             0.0 2000-01-01       FHC\n",
       "3  Acre  AC  Norte             0.0 2001-01-01       FHC\n",
       "4  Acre  AC  Norte             0.0 2002-01-01       FHC"
      ]
     },
     "execution_count": 868,
     "metadata": {},
     "output_type": "execute_result"
    }
   ],
   "source": [
    "# Renomeando colunas utilizando um dicionário:\n",
    "data_clean = data_clean.rename(columns={\n",
    "    'state': 'State',\n",
    "    'number': 'Num_wild_fires',\n",
    "    'date': 'Date'\n",
    "})\n",
    "\n",
    "# Reposicionando colunas:\n",
    "data_clean = data_clean.loc[\n",
    "    :, \n",
    "    ['State', 'UF', 'Region', \n",
    "    'Num_wild_fires', 'Date', 'President']\n",
    "]\n",
    "# Visualizando novos dados:\n",
    "data_clean.head()"
   ]
  },
  {
   "attachments": {},
   "cell_type": "markdown",
   "metadata": {},
   "source": [
    "Com as colunas nomeadas e reorganizadas temos uma padronização melhor, onde elas descrevem bem o conteúdo das variáveis e também, iniciam-se com letra maiúscula."
   ]
  }
 ],
 "metadata": {
  "kernelspec": {
   "display_name": "base",
   "language": "python",
   "name": "python3"
  },
  "language_info": {
   "codemirror_mode": {
    "name": "ipython",
    "version": 3
   },
   "file_extension": ".py",
   "mimetype": "text/x-python",
   "name": "python",
   "nbconvert_exporter": "python",
   "pygments_lexer": "ipython3",
   "version": "3.9.12"
  },
  "orig_nbformat": 4,
  "vscode": {
   "interpreter": {
    "hash": "594af92f1fbe2151803567768ef02c6f133f2dd09ab238e968f9d14c9ef1bc27"
   }
  }
 },
 "nbformat": 4,
 "nbformat_minor": 2
}
