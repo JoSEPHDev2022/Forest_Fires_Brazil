{
 "cells": [
  {
   "attachments": {},
   "cell_type": "markdown",
   "metadata": {},
   "source": [
    "# <font color='gold'> ***Análise Exploratória: Incêndios Florestais Brasileiros*** </font> 🔥🌳"
   ]
  },
  {
   "attachments": {},
   "cell_type": "markdown",
   "metadata": {},
   "source": [
    "# <font color='gold'> ***Objetivos da Análise*** 🎯 </font>\n",
    "---"
   ]
  },
  {
   "attachments": {},
   "cell_type": "markdown",
   "metadata": {},
   "source": [
    "Nesse projeto, realizaremos uma Analise Exploratória de Dados (EDA) em um [banco de dados](https://www.kaggle.com/datasets/gustavomodelli/forest-fires-in-brazil) que contém uma série histórica de incêndios florestais no Brasil em diferentes estados. Mais especificamente, desse projeto iremos:\n",
    "\n",
    "- 🎲 Realizar uma análise descritiva das características principais dos dados, como suas dimensões, seus registros e tipos de dados, valores nulos e outliers, etc;\n",
    "\n",
    "- 🧹 Limpar e tratar os dados;\n",
    "\n",
    "- 📊 Utilizar de visualizações gráficas para geração de insights e análises mais aprofundadas acerca dos incêndios e suas características.\n",
    "\n",
    "Como questões centrais que abordaremos nessa pesquisa, temos:\n",
    "\n",
    ">***1. Quais os estados e regiões mais afetados por incêndios durante toda a série histórica?***\n",
    ">\n",
    ">***2. Durante qual período de qual governante brasileiro tivemos mais incêndios no Brasil? e qual o menor valor?***\n",
    "\n",
    "Entre outras questões que serão abordadas durante o projeto."
   ]
  },
  {
   "attachments": {},
   "cell_type": "markdown",
   "metadata": {},
   "source": [
    "# <font color='gold'>***Importando Pacotes e Conhecendo Dados*** 📦🎲</font>\n",
    "---"
   ]
  },
  {
   "cell_type": "code",
   "execution_count": 1014,
   "metadata": {},
   "outputs": [
    {
     "name": "stdout",
     "output_type": "stream",
     "text": [
      "Pacotes Prontos! Versões Utilizadas:\n",
      "\n",
      "Pandas      --> 1.4.2\n",
      "Numpy       --> 1.21.5\n",
      "Matplotlib  --> 3.6.2\n",
      "Seaborn     --> 0.11.2\n"
     ]
    }
   ],
   "source": [
    "# Importando bibliotecas necessárias para a análise:\n",
    "import pandas as pd\n",
    "import numpy as np\n",
    "import matplotlib\n",
    "import matplotlib.pyplot as plt\n",
    "import seaborn as sns\n",
    "import warnings\n",
    "\n",
    "# Definindo parâmetros:\n",
    "\n",
    "# Setando estilo escuro do grid para os gráficos.\n",
    "sns.set_theme(context='notebook', style='darkgrid')\n",
    "\n",
    "# Utilizando a biblioteca warnings para retirar avisos da execução do código\n",
    "# para uma visualização mais limpa.\n",
    "warnings.filterwarnings('ignore')\n",
    "\n",
    "# Mostrando versões utilizadas dos pacotes:\n",
    "print('Pacotes Prontos! Versões Utilizadas:\\n')\n",
    "print(f'Pandas      --> {pd.__version__}')\n",
    "print(f'Numpy       --> {np.__version__}')\n",
    "print(f'Matplotlib  --> {matplotlib.__version__}')\n",
    "print(f'Seaborn     --> {sns.__version__}')"
   ]
  },
  {
   "cell_type": "code",
   "execution_count": 1015,
   "metadata": {},
   "outputs": [],
   "source": [
    "# Criando o Dataframe:\n",
    "data = pd.read_csv('data/amazon.csv', sep=',', encoding='latin-1')"
   ]
  },
  {
   "attachments": {},
   "cell_type": "markdown",
   "metadata": {},
   "source": [
    "<font color='gold'> ⚠️**Nota** </font>\n",
    "\n",
    ">A seleção do encoding como [latin-1](https://www.ic.unicamp.br/~stolfi/EXPORT/www/ISO-8859-1-Encoding.html) foi utilizada pois existem caracteres especiais nos dados, assim, a definição do enconding específico foi necessária (em vez do padrão UTF-8)."
   ]
  },
  {
   "cell_type": "code",
   "execution_count": 1016,
   "metadata": {},
   "outputs": [
    {
     "data": {
      "text/html": [
       "<div>\n",
       "<style scoped>\n",
       "    .dataframe tbody tr th:only-of-type {\n",
       "        vertical-align: middle;\n",
       "    }\n",
       "\n",
       "    .dataframe tbody tr th {\n",
       "        vertical-align: top;\n",
       "    }\n",
       "\n",
       "    .dataframe thead th {\n",
       "        text-align: right;\n",
       "    }\n",
       "</style>\n",
       "<table border=\"1\" class=\"dataframe\">\n",
       "  <thead>\n",
       "    <tr style=\"text-align: right;\">\n",
       "      <th></th>\n",
       "      <th>year</th>\n",
       "      <th>state</th>\n",
       "      <th>month</th>\n",
       "      <th>number</th>\n",
       "      <th>date</th>\n",
       "    </tr>\n",
       "  </thead>\n",
       "  <tbody>\n",
       "    <tr>\n",
       "      <th>0</th>\n",
       "      <td>1998</td>\n",
       "      <td>Acre</td>\n",
       "      <td>Janeiro</td>\n",
       "      <td>0.0</td>\n",
       "      <td>1998-01-01</td>\n",
       "    </tr>\n",
       "    <tr>\n",
       "      <th>1</th>\n",
       "      <td>1999</td>\n",
       "      <td>Acre</td>\n",
       "      <td>Janeiro</td>\n",
       "      <td>0.0</td>\n",
       "      <td>1999-01-01</td>\n",
       "    </tr>\n",
       "    <tr>\n",
       "      <th>2</th>\n",
       "      <td>2000</td>\n",
       "      <td>Acre</td>\n",
       "      <td>Janeiro</td>\n",
       "      <td>0.0</td>\n",
       "      <td>2000-01-01</td>\n",
       "    </tr>\n",
       "    <tr>\n",
       "      <th>3</th>\n",
       "      <td>2001</td>\n",
       "      <td>Acre</td>\n",
       "      <td>Janeiro</td>\n",
       "      <td>0.0</td>\n",
       "      <td>2001-01-01</td>\n",
       "    </tr>\n",
       "    <tr>\n",
       "      <th>4</th>\n",
       "      <td>2002</td>\n",
       "      <td>Acre</td>\n",
       "      <td>Janeiro</td>\n",
       "      <td>0.0</td>\n",
       "      <td>2002-01-01</td>\n",
       "    </tr>\n",
       "  </tbody>\n",
       "</table>\n",
       "</div>"
      ],
      "text/plain": [
       "   year state    month  number        date\n",
       "0  1998  Acre  Janeiro     0.0  1998-01-01\n",
       "1  1999  Acre  Janeiro     0.0  1999-01-01\n",
       "2  2000  Acre  Janeiro     0.0  2000-01-01\n",
       "3  2001  Acre  Janeiro     0.0  2001-01-01\n",
       "4  2002  Acre  Janeiro     0.0  2002-01-01"
      ]
     },
     "execution_count": 1016,
     "metadata": {},
     "output_type": "execute_result"
    }
   ],
   "source": [
    "# Visualizando primeiros 5 registros dos dados:\n",
    "data.head()"
   ]
  },
  {
   "cell_type": "code",
   "execution_count": 1017,
   "metadata": {},
   "outputs": [
    {
     "data": {
      "text/html": [
       "<div>\n",
       "<style scoped>\n",
       "    .dataframe tbody tr th:only-of-type {\n",
       "        vertical-align: middle;\n",
       "    }\n",
       "\n",
       "    .dataframe tbody tr th {\n",
       "        vertical-align: top;\n",
       "    }\n",
       "\n",
       "    .dataframe thead th {\n",
       "        text-align: right;\n",
       "    }\n",
       "</style>\n",
       "<table border=\"1\" class=\"dataframe\">\n",
       "  <thead>\n",
       "    <tr style=\"text-align: right;\">\n",
       "      <th></th>\n",
       "      <th>year</th>\n",
       "      <th>state</th>\n",
       "      <th>month</th>\n",
       "      <th>number</th>\n",
       "      <th>date</th>\n",
       "    </tr>\n",
       "  </thead>\n",
       "  <tbody>\n",
       "    <tr>\n",
       "      <th>4735</th>\n",
       "      <td>2011</td>\n",
       "      <td>Rio</td>\n",
       "      <td>Outubro</td>\n",
       "      <td>76.0</td>\n",
       "      <td>2011-01-01</td>\n",
       "    </tr>\n",
       "    <tr>\n",
       "      <th>4442</th>\n",
       "      <td>2017</td>\n",
       "      <td>Rio</td>\n",
       "      <td>Julho</td>\n",
       "      <td>70.0</td>\n",
       "      <td>2017-01-01</td>\n",
       "    </tr>\n",
       "    <tr>\n",
       "      <th>1547</th>\n",
       "      <td>2010</td>\n",
       "      <td>Distrito Federal</td>\n",
       "      <td>Junho</td>\n",
       "      <td>21.0</td>\n",
       "      <td>2010-01-01</td>\n",
       "    </tr>\n",
       "    <tr>\n",
       "      <th>958</th>\n",
       "      <td>1999</td>\n",
       "      <td>Bahia</td>\n",
       "      <td>Janeiro</td>\n",
       "      <td>114.0</td>\n",
       "      <td>1999-01-01</td>\n",
       "    </tr>\n",
       "    <tr>\n",
       "      <th>4022</th>\n",
       "      <td>2015</td>\n",
       "      <td>Pernambuco</td>\n",
       "      <td>Outubro</td>\n",
       "      <td>194.0</td>\n",
       "      <td>2015-01-01</td>\n",
       "    </tr>\n",
       "  </tbody>\n",
       "</table>\n",
       "</div>"
      ],
      "text/plain": [
       "      year             state    month  number        date\n",
       "4735  2011               Rio  Outubro    76.0  2011-01-01\n",
       "4442  2017               Rio    Julho    70.0  2017-01-01\n",
       "1547  2010  Distrito Federal    Junho    21.0  2010-01-01\n",
       "958   1999             Bahia  Janeiro   114.0  1999-01-01\n",
       "4022  2015        Pernambuco  Outubro   194.0  2015-01-01"
      ]
     },
     "execution_count": 1017,
     "metadata": {},
     "output_type": "execute_result"
    }
   ],
   "source": [
    "# Visualizando uma sample aleatória dos dados:\n",
    "data.sample(5)"
   ]
  },
  {
   "attachments": {},
   "cell_type": "markdown",
   "metadata": {},
   "source": [
    "Para termos uma compreensão clara de nossos dados, iremos criar um dicionário de variáveis contendo as colunas do Dataset e a descrição de seu conteúdo:"
   ]
  },
  {
   "attachments": {},
   "cell_type": "markdown",
   "metadata": {},
   "source": [
    "| Variável   | Conteúdo                                 |\n",
    "|------------|------------------------------------------|\n",
    "| `year`     | Ano em que o incêndio florestal ocorreu  |\n",
    "| `state`    | Estado brasileiro                        |\n",
    "| `month`    | Mês em que o incêndio ocorreu            |\n",
    "| `number`   | Quantidade de incêndios reportados       |\n",
    "| `date`     | Data em que o incêndio foi reportado     |"
   ]
  },
  {
   "attachments": {},
   "cell_type": "markdown",
   "metadata": {},
   "source": [
    "Com alguns dos registros aparentes, uma característica notável é a aparente duplicata nas colunas. \n",
    "\n",
    "- A coluna `year`, que representa o ano em que o incêndio ocorreu e a coluna `date` que informa a data em que o incêndio foi reportado, aparentam possuir os mesmos dados:\n",
    "\n",
    "    - Quando a coluna year apresenta o ano de 1998, a coluna date informa a data 1998-01-01, e esse padrão da coluna date apenas repetir a coluna year com a adição das datas \"1 de Janeiro\" se mostra presente em todo dataset como mostrado pelo uso do comando `data.sample(5)`.\n",
    "\n",
    "Dessa forma, iremos arranjar essas informações de uma maneira diferente:\n",
    "\n",
    "- Substituir os valores da coluna `month` por nomes em Inglês;\n",
    "\n",
    "- Dropar a coluna `date` pois utilizaremos a coluna `year` e `month` separadamente;\n",
    "\n",
    "- Checar o Data type da coluna `year` e constatar se precisa ser alterado."
   ]
  },
  {
   "attachments": {},
   "cell_type": "markdown",
   "metadata": {},
   "source": [
    "Como outros ajustes, também iremos renomear as colunas para que tenham a primeira letra maiúscula. Também iremos inserir algumas novas colunas para fortalecer as análises, tendo essas etapas ocorrendo na etapa de limpeza e tratamento dos dados."
   ]
  },
  {
   "attachments": {},
   "cell_type": "markdown",
   "metadata": {},
   "source": [
    "Para uma visão mais completa das dimensões dos dados que estamos trabalhando, vamos checar o shape do Dataset:"
   ]
  },
  {
   "cell_type": "code",
   "execution_count": 1018,
   "metadata": {},
   "outputs": [
    {
     "data": {
      "text/plain": [
       "(6454, 5)"
      ]
     },
     "execution_count": 1018,
     "metadata": {},
     "output_type": "execute_result"
    }
   ],
   "source": [
    "# Checando dimensões dos dados:\n",
    "data.shape"
   ]
  },
  {
   "attachments": {},
   "cell_type": "markdown",
   "metadata": {},
   "source": [
    "Temos ***6454 registros*** em ***5 variáveis***."
   ]
  },
  {
   "attachments": {},
   "cell_type": "markdown",
   "metadata": {},
   "source": [
    "Também se faz necessária a checagem do tipo de dados dessas variáveis:"
   ]
  },
  {
   "cell_type": "code",
   "execution_count": 1019,
   "metadata": {},
   "outputs": [
    {
     "name": "stdout",
     "output_type": "stream",
     "text": [
      "<class 'pandas.core.frame.DataFrame'>\n",
      "RangeIndex: 6454 entries, 0 to 6453\n",
      "Data columns (total 5 columns):\n",
      " #   Column  Non-Null Count  Dtype  \n",
      "---  ------  --------------  -----  \n",
      " 0   year    6454 non-null   int64  \n",
      " 1   state   6454 non-null   object \n",
      " 2   month   6454 non-null   object \n",
      " 3   number  6454 non-null   float64\n",
      " 4   date    6454 non-null   object \n",
      "dtypes: float64(1), int64(1), object(3)\n",
      "memory usage: 252.2+ KB\n"
     ]
    }
   ],
   "source": [
    "data.info()"
   ]
  },
  {
   "attachments": {},
   "cell_type": "markdown",
   "metadata": {},
   "source": [
    "Com essa visualização, temos algumas informações importantes sobre os dados:\n",
    "\n",
    "- O dataset não possui null values;\n",
    "\n",
    "- A coluna `year` está em int64, sendo que o range de valores é de 1998 até 2017, o que significa que podemos alterar esse data type para int16, assim consumindo menos memória na execução dos dados."
   ]
  },
  {
   "attachments": {},
   "cell_type": "markdown",
   "metadata": {},
   "source": [
    "Para coletarmos mais informações sobre possíveis outliers e também sobre a distribuição dos dados, utilizaremos o método `.describe()`:"
   ]
  },
  {
   "cell_type": "code",
   "execution_count": 1020,
   "metadata": {},
   "outputs": [
    {
     "data": {
      "text/html": [
       "<div>\n",
       "<style scoped>\n",
       "    .dataframe tbody tr th:only-of-type {\n",
       "        vertical-align: middle;\n",
       "    }\n",
       "\n",
       "    .dataframe tbody tr th {\n",
       "        vertical-align: top;\n",
       "    }\n",
       "\n",
       "    .dataframe thead th {\n",
       "        text-align: right;\n",
       "    }\n",
       "</style>\n",
       "<table border=\"1\" class=\"dataframe\">\n",
       "  <thead>\n",
       "    <tr style=\"text-align: right;\">\n",
       "      <th></th>\n",
       "      <th>count</th>\n",
       "      <th>mean</th>\n",
       "      <th>std</th>\n",
       "      <th>min</th>\n",
       "      <th>25%</th>\n",
       "      <th>50%</th>\n",
       "      <th>75%</th>\n",
       "      <th>max</th>\n",
       "    </tr>\n",
       "  </thead>\n",
       "  <tbody>\n",
       "    <tr>\n",
       "      <th>year</th>\n",
       "      <td>6454.0</td>\n",
       "      <td>2007.461729</td>\n",
       "      <td>5.746654</td>\n",
       "      <td>1998.0</td>\n",
       "      <td>2002.0</td>\n",
       "      <td>2007.0</td>\n",
       "      <td>2012.0</td>\n",
       "      <td>2017.0</td>\n",
       "    </tr>\n",
       "    <tr>\n",
       "      <th>number</th>\n",
       "      <td>6454.0</td>\n",
       "      <td>108.293163</td>\n",
       "      <td>190.812242</td>\n",
       "      <td>0.0</td>\n",
       "      <td>3.0</td>\n",
       "      <td>24.0</td>\n",
       "      <td>113.0</td>\n",
       "      <td>998.0</td>\n",
       "    </tr>\n",
       "  </tbody>\n",
       "</table>\n",
       "</div>"
      ],
      "text/plain": [
       "         count         mean         std     min     25%     50%     75%  \\\n",
       "year    6454.0  2007.461729    5.746654  1998.0  2002.0  2007.0  2012.0   \n",
       "number  6454.0   108.293163  190.812242     0.0     3.0    24.0   113.0   \n",
       "\n",
       "           max  \n",
       "year    2017.0  \n",
       "number   998.0  "
      ]
     },
     "execution_count": 1020,
     "metadata": {},
     "output_type": "execute_result"
    }
   ],
   "source": [
    "# Descrição estatística dos dados (colunas numéricas):\n",
    "data.describe().T"
   ]
  },
  {
   "attachments": {},
   "cell_type": "markdown",
   "metadata": {},
   "source": [
    "Com a descrição estatística das colunas numéricas do dataset, podemos notar:\n",
    "\n",
    "- Até 75% dos dados (terceiro quantil) relacionados ao número de incêndios relatados vão até 113, já o valor máximo é de 998, um outlier claro.\n",
    "\n",
    "Nesse caso, outliers são esperados como \"normais\", pois se tratando de número de focos de incêndios florestais num país continental como o Brasil, não existe uma regra ou uma lógica exata que dita o intervalo desses números, tendo muitas variávies que os influenciam (ação humana mais intensa ou menos intensa numa determinada região num determinado período de tempo, uma estação do ano muito mais fria ou quente do que o normal, etc).\n",
    "\n",
    "Sendo assim, os registros de número de focos de incêndio não serão alterados, pois buscamos ter uma visão completa desses dados."
   ]
  },
  {
   "attachments": {},
   "cell_type": "markdown",
   "metadata": {},
   "source": [
    "Também iremos coletar informações sobre as colunas categóricas do dataset:"
   ]
  },
  {
   "cell_type": "code",
   "execution_count": 1021,
   "metadata": {},
   "outputs": [
    {
     "data": {
      "text/html": [
       "<div>\n",
       "<style scoped>\n",
       "    .dataframe tbody tr th:only-of-type {\n",
       "        vertical-align: middle;\n",
       "    }\n",
       "\n",
       "    .dataframe tbody tr th {\n",
       "        vertical-align: top;\n",
       "    }\n",
       "\n",
       "    .dataframe thead th {\n",
       "        text-align: right;\n",
       "    }\n",
       "</style>\n",
       "<table border=\"1\" class=\"dataframe\">\n",
       "  <thead>\n",
       "    <tr style=\"text-align: right;\">\n",
       "      <th></th>\n",
       "      <th>count</th>\n",
       "      <th>unique</th>\n",
       "      <th>top</th>\n",
       "      <th>freq</th>\n",
       "    </tr>\n",
       "  </thead>\n",
       "  <tbody>\n",
       "    <tr>\n",
       "      <th>state</th>\n",
       "      <td>6454</td>\n",
       "      <td>23</td>\n",
       "      <td>Rio</td>\n",
       "      <td>717</td>\n",
       "    </tr>\n",
       "    <tr>\n",
       "      <th>month</th>\n",
       "      <td>6454</td>\n",
       "      <td>12</td>\n",
       "      <td>Janeiro</td>\n",
       "      <td>541</td>\n",
       "    </tr>\n",
       "    <tr>\n",
       "      <th>date</th>\n",
       "      <td>6454</td>\n",
       "      <td>20</td>\n",
       "      <td>1998-01-01</td>\n",
       "      <td>324</td>\n",
       "    </tr>\n",
       "  </tbody>\n",
       "</table>\n",
       "</div>"
      ],
      "text/plain": [
       "      count unique         top freq\n",
       "state  6454     23         Rio  717\n",
       "month  6454     12     Janeiro  541\n",
       "date   6454     20  1998-01-01  324"
      ]
     },
     "execution_count": 1021,
     "metadata": {},
     "output_type": "execute_result"
    }
   ],
   "source": [
    "# Descrição estatística dos dados (colunas categóricas):\n",
    "data.describe(exclude='number').T"
   ]
  },
  {
   "attachments": {},
   "cell_type": "markdown",
   "metadata": {},
   "source": [
    "Com isso, temos a informação de que o estado que mais vezes consta no dataset é o Rio de Janeiro, com 717 registros diferentes de focos de incêndio.\n",
    "\n",
    "Também temos a informação de que o mês mais comum nos dados é Janeiro.\n",
    "\n",
    "É importante termos em mente que isso não necessariamente significa que o estado do Rio de Janeiro e o mês de Janeiro são os que mais possuem focos de incêndio no geral. Apenas estamos indicando que essas duas informações são as mais presentes nos dados, sem considerarmos a dimensão e quantidade dos focos de incêndio atribuidos a eles."
   ]
  },
  {
   "attachments": {},
   "cell_type": "markdown",
   "metadata": {},
   "source": [
    "# <font color='gold'> ***Limpeza e Tratamento*** 🗃️ </font>"
   ]
  },
  {
   "attachments": {},
   "cell_type": "markdown",
   "metadata": {},
   "source": [
    "Nessa etapa, iremos realizar todas as modificações e tratamentos que descrevemos anteriormente. Começando pelo refatoramento das colunas `year`, `date` e `month`. Para isso, iremos primeiramente definir uma função para iterar sobre nossos dados e passar os meses de Português para Inglês:"
   ]
  },
  {
   "attachments": {},
   "cell_type": "markdown",
   "metadata": {},
   "source": [
    "## **Reformulando formato de data**:"
   ]
  },
  {
   "cell_type": "code",
   "execution_count": 1022,
   "metadata": {},
   "outputs": [],
   "source": [
    "def month_translator(df: pd.DataFrame) -> pd.DataFrame:\n",
    "    '''Essa função pega um Dataframe fornecido pelo usuário e altera\n",
    "    os valores dos meses de Português para Inglês.\n",
    "\n",
    "    Utilizando uma função lambda, checamos cada string dos meses, onde cada\n",
    "    uma delas recebe o nome apropriado.\n",
    "    '''\n",
    "    df['month'] = df['month'].apply(\n",
    "        lambda month_id:\n",
    "        'Jan' if month_id == 'Janeiro' else\n",
    "        'Feb' if month_id == 'Fevereiro' else\n",
    "        'Mar' if month_id == 'Março' else\n",
    "        'Apr' if month_id == 'Abril' else\n",
    "        'May' if month_id == 'Maio' else\n",
    "        'Jun' if month_id == 'Junho' else\n",
    "        'Jul' if month_id == 'Julho' else\n",
    "        'Aug' if month_id == 'Agosto' else\n",
    "        'Sep' if month_id == 'Setembro' else\n",
    "        'Oct' if month_id == 'Outubro' else\n",
    "        'Nov' if month_id == 'Novembro' else\n",
    "        'Dec' if month_id == 'Dezembro' else\n",
    "        month_id\n",
    "    )   \n"
   ]
  },
  {
   "attachments": {},
   "cell_type": "markdown",
   "metadata": {},
   "source": [
    "Antes de iniciarmos as modificações nos dados, é uma boa prática criar uma cópia dos mesmos, assim se preservam os dados no formato original e se cria outra versão para a limpeza e manipulação:"
   ]
  },
  {
   "cell_type": "code",
   "execution_count": 1023,
   "metadata": {},
   "outputs": [],
   "source": [
    "# Criando cópia dos dados para limpeza:\n",
    "data_clean = data.copy()"
   ]
  },
  {
   "cell_type": "code",
   "execution_count": 1024,
   "metadata": {},
   "outputs": [
    {
     "data": {
      "text/html": [
       "<div>\n",
       "<style scoped>\n",
       "    .dataframe tbody tr th:only-of-type {\n",
       "        vertical-align: middle;\n",
       "    }\n",
       "\n",
       "    .dataframe tbody tr th {\n",
       "        vertical-align: top;\n",
       "    }\n",
       "\n",
       "    .dataframe thead th {\n",
       "        text-align: right;\n",
       "    }\n",
       "</style>\n",
       "<table border=\"1\" class=\"dataframe\">\n",
       "  <thead>\n",
       "    <tr style=\"text-align: right;\">\n",
       "      <th></th>\n",
       "      <th>year</th>\n",
       "      <th>state</th>\n",
       "      <th>month</th>\n",
       "      <th>number</th>\n",
       "      <th>date</th>\n",
       "    </tr>\n",
       "  </thead>\n",
       "  <tbody>\n",
       "    <tr>\n",
       "      <th>3413</th>\n",
       "      <td>2004</td>\n",
       "      <td>Paraiba</td>\n",
       "      <td>Apr</td>\n",
       "      <td>3.0</td>\n",
       "      <td>2004-01-01</td>\n",
       "    </tr>\n",
       "    <tr>\n",
       "      <th>4116</th>\n",
       "      <td>2010</td>\n",
       "      <td>Piau</td>\n",
       "      <td>Mar</td>\n",
       "      <td>47.0</td>\n",
       "      <td>2010-01-01</td>\n",
       "    </tr>\n",
       "    <tr>\n",
       "      <th>5711</th>\n",
       "      <td>2011</td>\n",
       "      <td>Santa Catarina</td>\n",
       "      <td>Nov</td>\n",
       "      <td>79.0</td>\n",
       "      <td>2011-01-01</td>\n",
       "    </tr>\n",
       "    <tr>\n",
       "      <th>4526</th>\n",
       "      <td>2001</td>\n",
       "      <td>Rio</td>\n",
       "      <td>Dec</td>\n",
       "      <td>2.0</td>\n",
       "      <td>2001-01-01</td>\n",
       "    </tr>\n",
       "    <tr>\n",
       "      <th>1038</th>\n",
       "      <td>1999</td>\n",
       "      <td>Bahia</td>\n",
       "      <td>May</td>\n",
       "      <td>76.0</td>\n",
       "      <td>1999-01-01</td>\n",
       "    </tr>\n",
       "  </tbody>\n",
       "</table>\n",
       "</div>"
      ],
      "text/plain": [
       "      year           state month  number        date\n",
       "3413  2004         Paraiba   Apr     3.0  2004-01-01\n",
       "4116  2010            Piau   Mar    47.0  2010-01-01\n",
       "5711  2011  Santa Catarina   Nov    79.0  2011-01-01\n",
       "4526  2001             Rio   Dec     2.0  2001-01-01\n",
       "1038  1999           Bahia   May    76.0  1999-01-01"
      ]
     },
     "execution_count": 1024,
     "metadata": {},
     "output_type": "execute_result"
    }
   ],
   "source": [
    "# Aplicando a função no dataset:\n",
    "data_clean == month_translator(data_clean)\n",
    "\n",
    "# Exibindo novos resultados:\n",
    "data_clean.sample(5)"
   ]
  },
  {
   "attachments": {},
   "cell_type": "markdown",
   "metadata": {},
   "source": [
    "Agora que temos meses em Inglês, vamos dropar a coluna `date` e ajustar o data type da coluna `year`:"
   ]
  },
  {
   "cell_type": "code",
   "execution_count": 1025,
   "metadata": {},
   "outputs": [],
   "source": [
    "# Excluindo coluna date:\n",
    "data_clean = data_clean.drop('date', axis=1)"
   ]
  },
  {
   "cell_type": "code",
   "execution_count": 1026,
   "metadata": {},
   "outputs": [],
   "source": [
    "# Ajustando data type da coluna year:\n",
    "data_clean = data_clean.astype({\n",
    "    'year': 'int16'\n",
    "})"
   ]
  },
  {
   "cell_type": "code",
   "execution_count": 1027,
   "metadata": {},
   "outputs": [
    {
     "data": {
      "text/html": [
       "<div>\n",
       "<style scoped>\n",
       "    .dataframe tbody tr th:only-of-type {\n",
       "        vertical-align: middle;\n",
       "    }\n",
       "\n",
       "    .dataframe tbody tr th {\n",
       "        vertical-align: top;\n",
       "    }\n",
       "\n",
       "    .dataframe thead th {\n",
       "        text-align: right;\n",
       "    }\n",
       "</style>\n",
       "<table border=\"1\" class=\"dataframe\">\n",
       "  <thead>\n",
       "    <tr style=\"text-align: right;\">\n",
       "      <th></th>\n",
       "      <th>year</th>\n",
       "      <th>state</th>\n",
       "      <th>month</th>\n",
       "      <th>number</th>\n",
       "    </tr>\n",
       "  </thead>\n",
       "  <tbody>\n",
       "    <tr>\n",
       "      <th>349</th>\n",
       "      <td>2007</td>\n",
       "      <td>Alagoas</td>\n",
       "      <td>Jun</td>\n",
       "      <td>0.00</td>\n",
       "    </tr>\n",
       "    <tr>\n",
       "      <th>3969</th>\n",
       "      <td>2002</td>\n",
       "      <td>Pernambuco</td>\n",
       "      <td>Aug</td>\n",
       "      <td>37.00</td>\n",
       "    </tr>\n",
       "    <tr>\n",
       "      <th>6334</th>\n",
       "      <td>2017</td>\n",
       "      <td>Tocantins</td>\n",
       "      <td>Jun</td>\n",
       "      <td>1.32</td>\n",
       "    </tr>\n",
       "    <tr>\n",
       "      <th>1726</th>\n",
       "      <td>2010</td>\n",
       "      <td>Espirito Santo</td>\n",
       "      <td>Mar</td>\n",
       "      <td>3.00</td>\n",
       "    </tr>\n",
       "    <tr>\n",
       "      <th>5067</th>\n",
       "      <td>2005</td>\n",
       "      <td>Rondonia</td>\n",
       "      <td>Mar</td>\n",
       "      <td>17.00</td>\n",
       "    </tr>\n",
       "  </tbody>\n",
       "</table>\n",
       "</div>"
      ],
      "text/plain": [
       "      year           state month  number\n",
       "349   2007         Alagoas   Jun    0.00\n",
       "3969  2002      Pernambuco   Aug   37.00\n",
       "6334  2017       Tocantins   Jun    1.32\n",
       "1726  2010  Espirito Santo   Mar    3.00\n",
       "5067  2005        Rondonia   Mar   17.00"
      ]
     },
     "execution_count": 1027,
     "metadata": {},
     "output_type": "execute_result"
    }
   ],
   "source": [
    "# Checando novo formato dos dados:\n",
    "data_clean.sample(5)"
   ]
  },
  {
   "cell_type": "code",
   "execution_count": 1028,
   "metadata": {},
   "outputs": [
    {
     "data": {
      "text/plain": [
       "year        int16\n",
       "state      object\n",
       "month      object\n",
       "number    float64\n",
       "dtype: object"
      ]
     },
     "execution_count": 1028,
     "metadata": {},
     "output_type": "execute_result"
    }
   ],
   "source": [
    "# Checando novos dtypes:\n",
    "data_clean.dtypes"
   ]
  },
  {
   "attachments": {},
   "cell_type": "markdown",
   "metadata": {},
   "source": [
    "## **Criando novas variáveis**"
   ]
  },
  {
   "attachments": {},
   "cell_type": "markdown",
   "metadata": {},
   "source": [
    "Com os dados no formato atual, já se é possível realizar algumas análises, porém, visamos nesse projeto uma visão mais aprofundada dos incêndios florestais no Brasil, e por essa razão se faz necessária a criação de algumas novas variáveis para nossos dados, sendo elas:\n",
    "\n",
    "- Coluna `UF` > A coluna que representará a Unidade da Federação do estado (SP, RJ, BA, etc). Essa coluna será criada pois os nomes dos estados não podem ser confiados de estarem no formato adequado para criação de Dashboards e análises, como exemplo, o estado do Rio de Janeiro apenas consta com o nome 'Rio' no dataset. Sendo assim, a criação da coluna UF vem como forma de padronizar esses indicadores de estado.\n",
    "\n",
    "- Coluna `Region` > A coluna que representará a região brasileira na qual o estado pertence (Norte, Sul, Sudeste, etc). Essa coluna será concebida como forma de aprofundar as análises posteriores, nos possibilitando ter respostas acerca de quais regiões foram mais e menos afetadas pelos incêndios.\n",
    "\n",
    "- Coluna `President` > A coluna que representará o nome de qual mandatário brasileiro estava em vigência quando os incêndios ocorreram. Essa coluna nos permitirá ter um olhar mais histórico acerca desses registros, onde poderemos comparar as diferentes gestões dos diversos mandatários nesses períodos e identificar quais passaram por um período de mais ou menos incêndios."
   ]
  },
  {
   "attachments": {},
   "cell_type": "markdown",
   "metadata": {},
   "source": [
    "### Criando coluna: UF"
   ]
  },
  {
   "attachments": {},
   "cell_type": "markdown",
   "metadata": {},
   "source": [
    "Para a criação da coluna `UF`, iremos criar uma função que percorre os dados e atribui a UF correta para seu respectivo estado, para isso, vamos checar quais são os estados presentes no Dataset:"
   ]
  },
  {
   "cell_type": "code",
   "execution_count": 1029,
   "metadata": {},
   "outputs": [
    {
     "name": "stdout",
     "output_type": "stream",
     "text": [
      "Estado  1 --> Acre\n",
      "Estado  2 --> Alagoas\n",
      "Estado  3 --> Amapa\n",
      "Estado  4 --> Amazonas\n",
      "Estado  5 --> Bahia\n",
      "Estado  6 --> Ceara\n",
      "Estado  7 --> Distrito Federal\n",
      "Estado  8 --> Espirito Santo\n",
      "Estado  9 --> Goias\n",
      "Estado 10 --> Maranhao\n",
      "Estado 11 --> Mato Grosso\n",
      "Estado 12 --> Minas Gerais\n",
      "Estado 13 --> Pará\n",
      "Estado 14 --> Paraiba\n",
      "Estado 15 --> Pernambuco\n",
      "Estado 16 --> Piau\n",
      "Estado 17 --> Rio\n",
      "Estado 18 --> Rondonia\n",
      "Estado 19 --> Roraima\n",
      "Estado 20 --> Santa Catarina\n",
      "Estado 21 --> Sao Paulo\n",
      "Estado 22 --> Sergipe\n",
      "Estado 23 --> Tocantins\n"
     ]
    }
   ],
   "source": [
    "# Checando quais estados aparecem nos dados:\n",
    "states = list(data_clean['state'].unique())\n",
    "\n",
    "for (index, names) in enumerate(states, start=1):\n",
    "    print(f'Estado {index:2} --> {names}')"
   ]
  },
  {
   "attachments": {},
   "cell_type": "markdown",
   "metadata": {},
   "source": [
    "É aparente que nem todos os estados da nação estão presentes nos dados. Temos 23 estados diferentes porém o Brasil possuí 27 unidades federativas. \n",
    "\n",
    "Outro fator relevante é o registro errado do estado de Piauí, que consta apenas como 'Piau'. Esse registro errado apenas fortalece o motivo da qual estamos criando a coluna UF, para padronizar esses dados e garantir que todos estão corretamente representados.\n",
    "\n",
    "Antes de definir nossa função de criação das UFs, vamos corrigir essa entrada do estado de Piauí e também adicionar o nome completo do estado do Rio de Janeiro:"
   ]
  },
  {
   "cell_type": "code",
   "execution_count": 1030,
   "metadata": {},
   "outputs": [
    {
     "data": {
      "text/html": [
       "<div>\n",
       "<style scoped>\n",
       "    .dataframe tbody tr th:only-of-type {\n",
       "        vertical-align: middle;\n",
       "    }\n",
       "\n",
       "    .dataframe tbody tr th {\n",
       "        vertical-align: top;\n",
       "    }\n",
       "\n",
       "    .dataframe thead th {\n",
       "        text-align: right;\n",
       "    }\n",
       "</style>\n",
       "<table border=\"1\" class=\"dataframe\">\n",
       "  <thead>\n",
       "    <tr style=\"text-align: right;\">\n",
       "      <th></th>\n",
       "      <th>year</th>\n",
       "      <th>state</th>\n",
       "      <th>month</th>\n",
       "      <th>number</th>\n",
       "    </tr>\n",
       "  </thead>\n",
       "  <tbody>\n",
       "    <tr>\n",
       "      <th>4937</th>\n",
       "      <td>2014</td>\n",
       "      <td>Rio de Janeiro</td>\n",
       "      <td>Aug</td>\n",
       "      <td>1.168</td>\n",
       "    </tr>\n",
       "    <tr>\n",
       "      <th>4080</th>\n",
       "      <td>2014</td>\n",
       "      <td>Piaui</td>\n",
       "      <td>Jan</td>\n",
       "      <td>79.000</td>\n",
       "    </tr>\n",
       "    <tr>\n",
       "      <th>4799</th>\n",
       "      <td>2016</td>\n",
       "      <td>Rio de Janeiro</td>\n",
       "      <td>Jan</td>\n",
       "      <td>68.000</td>\n",
       "    </tr>\n",
       "    <tr>\n",
       "      <th>4913</th>\n",
       "      <td>2010</td>\n",
       "      <td>Rio de Janeiro</td>\n",
       "      <td>Jul</td>\n",
       "      <td>34.000</td>\n",
       "    </tr>\n",
       "    <tr>\n",
       "      <th>5009</th>\n",
       "      <td>2006</td>\n",
       "      <td>Rio de Janeiro</td>\n",
       "      <td>Dec</td>\n",
       "      <td>15.000</td>\n",
       "    </tr>\n",
       "  </tbody>\n",
       "</table>\n",
       "</div>"
      ],
      "text/plain": [
       "      year           state month  number\n",
       "4937  2014  Rio de Janeiro   Aug   1.168\n",
       "4080  2014           Piaui   Jan  79.000\n",
       "4799  2016  Rio de Janeiro   Jan  68.000\n",
       "4913  2010  Rio de Janeiro   Jul  34.000\n",
       "5009  2006  Rio de Janeiro   Dec  15.000"
      ]
     },
     "execution_count": 1030,
     "metadata": {},
     "output_type": "execute_result"
    }
   ],
   "source": [
    "# Corrigindo registros de Rio de Janeiro e Piauí:\n",
    "data_clean['state'] = (\n",
    "    data_clean['state']\n",
    "    .replace(['Rio', 'Piau'], ['Rio de Janeiro', 'Piaui'])\n",
    ")\n",
    "\n",
    "# Checando os novos registros:\n",
    "data_clean.query('state == \"Rio de Janeiro\" | state == \"Piaui\"').sample(5)"
   ]
  },
  {
   "attachments": {},
   "cell_type": "markdown",
   "metadata": {},
   "source": [
    "Com os estados presentes nos dados de maneira correta, podemos definir nossa função de atribuição das UFs:"
   ]
  },
  {
   "cell_type": "code",
   "execution_count": 1031,
   "metadata": {},
   "outputs": [],
   "source": [
    "def set_uf(df: pd.DataFrame) -> pd.DataFrame:\n",
    "    '''Essa função recebe um dataframe, itera sobre os registros e\n",
    "    atribui aos estados suas respectivas UFs.\n",
    "    \n",
    "    Para isso, criamos um dicionário que contém o par 'estado: UF' e \n",
    "    e atribuímos diretamente esses valores a nova coluna.\n",
    "    '''\n",
    "    state_uf = {\n",
    "        'Acre': 'AC',\n",
    "        'Alagoas': 'AL',\n",
    "        'Amapa': 'AP',\n",
    "        'Amazonas': 'AM',\n",
    "        'Bahia': 'BA',\n",
    "        'Ceara': 'CE',\n",
    "        'Distrito Federal': 'DF',\n",
    "        'Espirito Santo': 'ES',\n",
    "        'Goias': 'GO',\n",
    "        'Maranhao': 'MA',\n",
    "        'Mato Grosso': 'MT',\n",
    "        'Minas Gerais': 'MG',\n",
    "        'Pará': 'PA',\n",
    "        'Paraiba': 'PB',\n",
    "        'Pernambuco': 'PE',\n",
    "        'Piaui': 'PI',\n",
    "        'Rio de Janeiro': 'RJ',\n",
    "        'Rondonia': 'RO',\n",
    "        'Roraima': 'RR',\n",
    "        'Santa Catarina': 'SC',\n",
    "        'Sao Paulo': 'SP',\n",
    "        'Sergipe': 'SE',\n",
    "        'Tocantins': 'TO'\n",
    "    }\n",
    "\n",
    "    df['UF'] = df['state'].map(state_uf)\n",
    "\n",
    "    return df"
   ]
  },
  {
   "cell_type": "code",
   "execution_count": 1032,
   "metadata": {},
   "outputs": [
    {
     "data": {
      "text/html": [
       "<div>\n",
       "<style scoped>\n",
       "    .dataframe tbody tr th:only-of-type {\n",
       "        vertical-align: middle;\n",
       "    }\n",
       "\n",
       "    .dataframe tbody tr th {\n",
       "        vertical-align: top;\n",
       "    }\n",
       "\n",
       "    .dataframe thead th {\n",
       "        text-align: right;\n",
       "    }\n",
       "</style>\n",
       "<table border=\"1\" class=\"dataframe\">\n",
       "  <thead>\n",
       "    <tr style=\"text-align: right;\">\n",
       "      <th></th>\n",
       "      <th>year</th>\n",
       "      <th>state</th>\n",
       "      <th>month</th>\n",
       "      <th>number</th>\n",
       "      <th>UF</th>\n",
       "    </tr>\n",
       "  </thead>\n",
       "  <tbody>\n",
       "    <tr>\n",
       "      <th>4481</th>\n",
       "      <td>2016</td>\n",
       "      <td>Rio de Janeiro</td>\n",
       "      <td>Sep</td>\n",
       "      <td>195.000</td>\n",
       "      <td>RJ</td>\n",
       "    </tr>\n",
       "    <tr>\n",
       "      <th>4610</th>\n",
       "      <td>2006</td>\n",
       "      <td>Rio de Janeiro</td>\n",
       "      <td>Apr</td>\n",
       "      <td>2.000</td>\n",
       "      <td>RJ</td>\n",
       "    </tr>\n",
       "    <tr>\n",
       "      <th>2316</th>\n",
       "      <td>2002</td>\n",
       "      <td>Maranhao</td>\n",
       "      <td>Sep</td>\n",
       "      <td>3.181</td>\n",
       "      <td>MA</td>\n",
       "    </tr>\n",
       "    <tr>\n",
       "      <th>2197</th>\n",
       "      <td>2003</td>\n",
       "      <td>Maranhao</td>\n",
       "      <td>Mar</td>\n",
       "      <td>16.000</td>\n",
       "      <td>MA</td>\n",
       "    </tr>\n",
       "    <tr>\n",
       "      <th>4172</th>\n",
       "      <td>2006</td>\n",
       "      <td>Piaui</td>\n",
       "      <td>Jun</td>\n",
       "      <td>40.000</td>\n",
       "      <td>PI</td>\n",
       "    </tr>\n",
       "  </tbody>\n",
       "</table>\n",
       "</div>"
      ],
      "text/plain": [
       "      year           state month   number  UF\n",
       "4481  2016  Rio de Janeiro   Sep  195.000  RJ\n",
       "4610  2006  Rio de Janeiro   Apr    2.000  RJ\n",
       "2316  2002        Maranhao   Sep    3.181  MA\n",
       "2197  2003        Maranhao   Mar   16.000  MA\n",
       "4172  2006           Piaui   Jun   40.000  PI"
      ]
     },
     "execution_count": 1032,
     "metadata": {},
     "output_type": "execute_result"
    }
   ],
   "source": [
    "# Aplicando a função:\n",
    "data_clean = set_uf(data_clean)\n",
    "\n",
    "# Exibindo resultados:\n",
    "data_clean.sample(5)"
   ]
  },
  {
   "attachments": {},
   "cell_type": "markdown",
   "metadata": {},
   "source": [
    "### Criando coluna: Region"
   ]
  },
  {
   "attachments": {},
   "cell_type": "markdown",
   "metadata": {},
   "source": [
    "Para adicionar as regiões de cada estado, vamos criar uma função que itera sobre os registros e atribui a cada estado sua devida região:"
   ]
  },
  {
   "cell_type": "code",
   "execution_count": 1033,
   "metadata": {},
   "outputs": [],
   "source": [
    "def set_region(df: pd.DataFrame) -> pd.DataFrame:\n",
    "    '''Essa função adiciona as regiões dos respectivos\n",
    "    estados com base em sua UF.\n",
    "    \n",
    "    Delimita-se uma lista com os estados para cada região e utiliza-se\n",
    "    uma função lambda para aplicar ao dataset.\n",
    "    '''\n",
    "    regiao_norte = ['AC', 'AP', 'AM', 'PA', 'RO', 'RR', 'TO']\n",
    "    regiao_nordeste = ['AL', 'BA', 'CE', 'MA', 'PB', 'PE', 'PI', 'SE']\n",
    "    regiao_centro_oeste = ['DF', 'GO', 'MT']\n",
    "    regiao_sudeste = ['ES', 'MG', 'RJ', 'SP']\n",
    "    regiao_sul = ['SC']\n",
    "\n",
    "    df['Region'] = df['UF'].apply(\n",
    "        lambda state:\n",
    "        'Norte' if state in regiao_norte else\n",
    "        'Nordeste' if state in regiao_nordeste else\n",
    "        'Centro Oeste' if state in regiao_centro_oeste else\n",
    "        'Sudeste' if state in regiao_sudeste else\n",
    "        'Sul' if state in regiao_sul else\n",
    "        state\n",
    "    )\n",
    "\n",
    "    return df"
   ]
  },
  {
   "cell_type": "code",
   "execution_count": 1034,
   "metadata": {},
   "outputs": [
    {
     "data": {
      "text/html": [
       "<div>\n",
       "<style scoped>\n",
       "    .dataframe tbody tr th:only-of-type {\n",
       "        vertical-align: middle;\n",
       "    }\n",
       "\n",
       "    .dataframe tbody tr th {\n",
       "        vertical-align: top;\n",
       "    }\n",
       "\n",
       "    .dataframe thead th {\n",
       "        text-align: right;\n",
       "    }\n",
       "</style>\n",
       "<table border=\"1\" class=\"dataframe\">\n",
       "  <thead>\n",
       "    <tr style=\"text-align: right;\">\n",
       "      <th></th>\n",
       "      <th>year</th>\n",
       "      <th>state</th>\n",
       "      <th>month</th>\n",
       "      <th>number</th>\n",
       "      <th>UF</th>\n",
       "      <th>Region</th>\n",
       "    </tr>\n",
       "  </thead>\n",
       "  <tbody>\n",
       "    <tr>\n",
       "      <th>98</th>\n",
       "      <td>2016</td>\n",
       "      <td>Acre</td>\n",
       "      <td>May</td>\n",
       "      <td>21.0</td>\n",
       "      <td>AC</td>\n",
       "      <td>Norte</td>\n",
       "    </tr>\n",
       "    <tr>\n",
       "      <th>2401</th>\n",
       "      <td>2008</td>\n",
       "      <td>Mato Grosso</td>\n",
       "      <td>Jan</td>\n",
       "      <td>245.0</td>\n",
       "      <td>MT</td>\n",
       "      <td>Centro Oeste</td>\n",
       "    </tr>\n",
       "    <tr>\n",
       "      <th>5099</th>\n",
       "      <td>2017</td>\n",
       "      <td>Rondonia</td>\n",
       "      <td>Apr</td>\n",
       "      <td>19.0</td>\n",
       "      <td>RO</td>\n",
       "      <td>Norte</td>\n",
       "    </tr>\n",
       "    <tr>\n",
       "      <th>2740</th>\n",
       "      <td>2008</td>\n",
       "      <td>Mato Grosso</td>\n",
       "      <td>Jun</td>\n",
       "      <td>24.0</td>\n",
       "      <td>MT</td>\n",
       "      <td>Centro Oeste</td>\n",
       "    </tr>\n",
       "    <tr>\n",
       "      <th>1434</th>\n",
       "      <td>2016</td>\n",
       "      <td>Ceara</td>\n",
       "      <td>Dec</td>\n",
       "      <td>819.0</td>\n",
       "      <td>CE</td>\n",
       "      <td>Nordeste</td>\n",
       "    </tr>\n",
       "  </tbody>\n",
       "</table>\n",
       "</div>"
      ],
      "text/plain": [
       "      year        state month  number  UF        Region\n",
       "98    2016         Acre   May    21.0  AC         Norte\n",
       "2401  2008  Mato Grosso   Jan   245.0  MT  Centro Oeste\n",
       "5099  2017     Rondonia   Apr    19.0  RO         Norte\n",
       "2740  2008  Mato Grosso   Jun    24.0  MT  Centro Oeste\n",
       "1434  2016        Ceara   Dec   819.0  CE      Nordeste"
      ]
     },
     "execution_count": 1034,
     "metadata": {},
     "output_type": "execute_result"
    }
   ],
   "source": [
    "# Aplicando a função:\n",
    "data_clean = set_region(data_clean)\n",
    "\n",
    "# Checando novos dados:\n",
    "data_clean.sample(5)"
   ]
  },
  {
   "attachments": {},
   "cell_type": "markdown",
   "metadata": {},
   "source": [
    "### Criando coluna: President"
   ]
  },
  {
   "attachments": {},
   "cell_type": "markdown",
   "metadata": {},
   "source": [
    "Para podermos inserir nos dados o mandatário vigente durante os registros de incêndio florestal, primeiro iremos checar o intervalo de tempo que temos nos dados:"
   ]
  },
  {
   "cell_type": "code",
   "execution_count": 1036,
   "metadata": {},
   "outputs": [
    {
     "name": "stdout",
     "output_type": "stream",
     "text": [
      "Ano mínimo: 1998\n",
      "Ano máximo: 2017\n"
     ]
    }
   ],
   "source": [
    "# Checando intervalo de anos:\n",
    "print(f'Ano mínimo: {data_clean.year.min()}')\n",
    "print(f'Ano máximo: {data_clean.year.max()}')"
   ]
  },
  {
   "attachments": {},
   "cell_type": "markdown",
   "metadata": {},
   "source": [
    "Com os anos definidos, utilizando uma [lista com todos os mandatários](https://pt.wikipedia.org/wiki/Lista_de_presidentes_do_Brasil) do Brasil, iremos atribuí-los aos respectivos períodos que constam nos dados. Para isso, utilizaremos uma função:"
   ]
  },
  {
   "cell_type": "code",
   "execution_count": 1039,
   "metadata": {},
   "outputs": [],
   "source": [
    "def set_president(df: pd.DataFrame) -> pd.DataFrame:\n",
    "    '''Essa função itera sobre os anos do dataset e atribuí a uma nova coluna\n",
    "    o nome do mandatário vigente durante esse período.\n",
    "    '''\n",
    "    df['President'] = df['year'].apply(\n",
    "        lambda year:\n",
    "        'FHC' if (year >= 1998) and (year <= 2002) else\n",
    "        'Lula' if (year >= 2003) and (year <= 2010) else\n",
    "        'Dilma' if (year >= 2011) and (year <= 2016) else\n",
    "        'Temer'\n",
    "    )\n",
    "\n",
    "    return df\n"
   ]
  },
  {
   "cell_type": "code",
   "execution_count": 1040,
   "metadata": {},
   "outputs": [
    {
     "data": {
      "text/html": [
       "<div>\n",
       "<style scoped>\n",
       "    .dataframe tbody tr th:only-of-type {\n",
       "        vertical-align: middle;\n",
       "    }\n",
       "\n",
       "    .dataframe tbody tr th {\n",
       "        vertical-align: top;\n",
       "    }\n",
       "\n",
       "    .dataframe thead th {\n",
       "        text-align: right;\n",
       "    }\n",
       "</style>\n",
       "<table border=\"1\" class=\"dataframe\">\n",
       "  <thead>\n",
       "    <tr style=\"text-align: right;\">\n",
       "      <th></th>\n",
       "      <th>year</th>\n",
       "      <th>state</th>\n",
       "      <th>month</th>\n",
       "      <th>number</th>\n",
       "      <th>UF</th>\n",
       "      <th>Region</th>\n",
       "      <th>President</th>\n",
       "    </tr>\n",
       "  </thead>\n",
       "  <tbody>\n",
       "    <tr>\n",
       "      <th>3383</th>\n",
       "      <td>2014</td>\n",
       "      <td>Paraiba</td>\n",
       "      <td>Feb</td>\n",
       "      <td>6.000</td>\n",
       "      <td>PB</td>\n",
       "      <td>Nordeste</td>\n",
       "      <td>Dilma</td>\n",
       "    </tr>\n",
       "    <tr>\n",
       "      <th>179</th>\n",
       "      <td>2017</td>\n",
       "      <td>Acre</td>\n",
       "      <td>Sep</td>\n",
       "      <td>3.429</td>\n",
       "      <td>AC</td>\n",
       "      <td>Norte</td>\n",
       "      <td>Temer</td>\n",
       "    </tr>\n",
       "    <tr>\n",
       "      <th>1791</th>\n",
       "      <td>2015</td>\n",
       "      <td>Espirito Santo</td>\n",
       "      <td>Jun</td>\n",
       "      <td>18.000</td>\n",
       "      <td>ES</td>\n",
       "      <td>Sudeste</td>\n",
       "      <td>Dilma</td>\n",
       "    </tr>\n",
       "    <tr>\n",
       "      <th>1348</th>\n",
       "      <td>2010</td>\n",
       "      <td>Ceara</td>\n",
       "      <td>Aug</td>\n",
       "      <td>202.000</td>\n",
       "      <td>CE</td>\n",
       "      <td>Nordeste</td>\n",
       "      <td>Lula</td>\n",
       "    </tr>\n",
       "    <tr>\n",
       "      <th>3554</th>\n",
       "      <td>2005</td>\n",
       "      <td>Paraiba</td>\n",
       "      <td>Nov</td>\n",
       "      <td>280.000</td>\n",
       "      <td>PB</td>\n",
       "      <td>Nordeste</td>\n",
       "      <td>Lula</td>\n",
       "    </tr>\n",
       "  </tbody>\n",
       "</table>\n",
       "</div>"
      ],
      "text/plain": [
       "      year           state month   number  UF    Region President\n",
       "3383  2014         Paraiba   Feb    6.000  PB  Nordeste     Dilma\n",
       "179   2017            Acre   Sep    3.429  AC     Norte     Temer\n",
       "1791  2015  Espirito Santo   Jun   18.000  ES   Sudeste     Dilma\n",
       "1348  2010           Ceara   Aug  202.000  CE  Nordeste      Lula\n",
       "3554  2005         Paraiba   Nov  280.000  PB  Nordeste      Lula"
      ]
     },
     "execution_count": 1040,
     "metadata": {},
     "output_type": "execute_result"
    }
   ],
   "source": [
    "# Aplicando a função:\n",
    "data_clean = set_president(data_clean)\n",
    "\n",
    "# Visualizando novos resultados:\n",
    "data_clean.sample(5)"
   ]
  },
  {
   "attachments": {},
   "cell_type": "markdown",
   "metadata": {},
   "source": [
    "Com todas as colunas necessárias criadas para as análises, vamos realizar os últimos ajustes nos dados, isto é, renomear as colunas e reposicioná-las no dataset:"
   ]
  },
  {
   "attachments": {},
   "cell_type": "markdown",
   "metadata": {},
   "source": [
    "### Renomeando e Reposicionando Colunas"
   ]
  },
  {
   "cell_type": "code",
   "execution_count": 1041,
   "metadata": {},
   "outputs": [
    {
     "data": {
      "text/html": [
       "<div>\n",
       "<style scoped>\n",
       "    .dataframe tbody tr th:only-of-type {\n",
       "        vertical-align: middle;\n",
       "    }\n",
       "\n",
       "    .dataframe tbody tr th {\n",
       "        vertical-align: top;\n",
       "    }\n",
       "\n",
       "    .dataframe thead th {\n",
       "        text-align: right;\n",
       "    }\n",
       "</style>\n",
       "<table border=\"1\" class=\"dataframe\">\n",
       "  <thead>\n",
       "    <tr style=\"text-align: right;\">\n",
       "      <th></th>\n",
       "      <th>State</th>\n",
       "      <th>UF</th>\n",
       "      <th>Region</th>\n",
       "      <th>Num_wild_fires</th>\n",
       "      <th>Year</th>\n",
       "      <th>Month</th>\n",
       "      <th>President</th>\n",
       "    </tr>\n",
       "  </thead>\n",
       "  <tbody>\n",
       "    <tr>\n",
       "      <th>0</th>\n",
       "      <td>Acre</td>\n",
       "      <td>AC</td>\n",
       "      <td>Norte</td>\n",
       "      <td>0.0</td>\n",
       "      <td>1998</td>\n",
       "      <td>Jan</td>\n",
       "      <td>FHC</td>\n",
       "    </tr>\n",
       "    <tr>\n",
       "      <th>1</th>\n",
       "      <td>Acre</td>\n",
       "      <td>AC</td>\n",
       "      <td>Norte</td>\n",
       "      <td>0.0</td>\n",
       "      <td>1999</td>\n",
       "      <td>Jan</td>\n",
       "      <td>FHC</td>\n",
       "    </tr>\n",
       "    <tr>\n",
       "      <th>2</th>\n",
       "      <td>Acre</td>\n",
       "      <td>AC</td>\n",
       "      <td>Norte</td>\n",
       "      <td>0.0</td>\n",
       "      <td>2000</td>\n",
       "      <td>Jan</td>\n",
       "      <td>FHC</td>\n",
       "    </tr>\n",
       "    <tr>\n",
       "      <th>3</th>\n",
       "      <td>Acre</td>\n",
       "      <td>AC</td>\n",
       "      <td>Norte</td>\n",
       "      <td>0.0</td>\n",
       "      <td>2001</td>\n",
       "      <td>Jan</td>\n",
       "      <td>FHC</td>\n",
       "    </tr>\n",
       "    <tr>\n",
       "      <th>4</th>\n",
       "      <td>Acre</td>\n",
       "      <td>AC</td>\n",
       "      <td>Norte</td>\n",
       "      <td>0.0</td>\n",
       "      <td>2002</td>\n",
       "      <td>Jan</td>\n",
       "      <td>FHC</td>\n",
       "    </tr>\n",
       "  </tbody>\n",
       "</table>\n",
       "</div>"
      ],
      "text/plain": [
       "  State  UF Region  Num_wild_fires  Year Month President\n",
       "0  Acre  AC  Norte             0.0  1998   Jan       FHC\n",
       "1  Acre  AC  Norte             0.0  1999   Jan       FHC\n",
       "2  Acre  AC  Norte             0.0  2000   Jan       FHC\n",
       "3  Acre  AC  Norte             0.0  2001   Jan       FHC\n",
       "4  Acre  AC  Norte             0.0  2002   Jan       FHC"
      ]
     },
     "execution_count": 1041,
     "metadata": {},
     "output_type": "execute_result"
    }
   ],
   "source": [
    "# Renomeando colunas utilizando um dicionário:\n",
    "data_clean = data_clean.rename(columns={\n",
    "    'year': 'Year',\n",
    "    'state': 'State',\n",
    "    'month': 'Month',\n",
    "    'number': 'Num_wild_fires'\n",
    "})\n",
    "\n",
    "# Reposicionando colunas:\n",
    "data_clean = data_clean.loc[\n",
    "    :, \n",
    "    ['State', 'UF', 'Region', \n",
    "    'Num_wild_fires', 'Year', 'Month', 'President']\n",
    "]\n",
    "# Visualizando novos dados:\n",
    "data_clean.head()"
   ]
  },
  {
   "attachments": {},
   "cell_type": "markdown",
   "metadata": {},
   "source": [
    "Com as colunas nomeadas e reorganizadas temos uma padronização melhor, onde elas descrevem bem o conteúdo das variáveis e também, iniciam-se com letra maiúscula."
   ]
  }
 ],
 "metadata": {
  "kernelspec": {
   "display_name": "base",
   "language": "python",
   "name": "python3"
  },
  "language_info": {
   "codemirror_mode": {
    "name": "ipython",
    "version": 3
   },
   "file_extension": ".py",
   "mimetype": "text/x-python",
   "name": "python",
   "nbconvert_exporter": "python",
   "pygments_lexer": "ipython3",
   "version": "3.9.12"
  },
  "orig_nbformat": 4,
  "vscode": {
   "interpreter": {
    "hash": "594af92f1fbe2151803567768ef02c6f133f2dd09ab238e968f9d14c9ef1bc27"
   }
  }
 },
 "nbformat": 4,
 "nbformat_minor": 2
}
